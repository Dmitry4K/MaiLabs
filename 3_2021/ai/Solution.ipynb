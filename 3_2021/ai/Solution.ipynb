{
 "cells": [
  {
   "cell_type": "markdown",
   "id": "ea7443b7",
   "metadata": {},
   "source": [
    "## Лабораторная работа по курсу \"Искусственный интеллект\"\n",
    "\n",
    "## Многослойный персептрон\n",
    "|Студент| Коростелев Дмитрий |\n",
    "|:-----:|:-:|\n",
    "|Группа|М8О-308Б-18|\n",
    "|Вариант| 11 (1) |\n",
    "|Фреймворк| PyTorch |\n"
   ]
  },
  {
   "cell_type": "markdown",
   "id": "777e0a23",
   "metadata": {},
   "source": [
    "### Настройка среды"
   ]
  },
  {
   "cell_type": "code",
   "execution_count": 1,
   "id": "2e8d9d8d",
   "metadata": {},
   "outputs": [
    {
     "name": "stdout",
     "output_type": "stream",
     "text": [
      "Requirement already satisfied: pandas in d:\\programs\\anaconda\\lib\\site-packages (1.2.4)\n",
      "Requirement already satisfied: numpy>=1.16.5 in d:\\programs\\anaconda\\lib\\site-packages (from pandas) (1.20.1)\n",
      "Requirement already satisfied: pytz>=2017.3 in d:\\programs\\anaconda\\lib\\site-packages (from pandas) (2021.1)\n",
      "Requirement already satisfied: python-dateutil>=2.7.3 in d:\\programs\\anaconda\\lib\\site-packages (from pandas) (2.8.1)\n",
      "Requirement already satisfied: six>=1.5 in d:\\programs\\anaconda\\lib\\site-packages (from python-dateutil>=2.7.3->pandas) (1.15.0)\n",
      "Note: you may need to restart the kernel to use updated packages.\n",
      "Requirement already satisfied: numpy in d:\\programs\\anaconda\\lib\\site-packages (1.20.1)\n",
      "Note: you may need to restart the kernel to use updated packages.\n",
      "Requirement already satisfied: torch in d:\\programs\\anaconda\\lib\\site-packages (1.8.1)\n",
      "Requirement already satisfied: numpy in d:\\programs\\anaconda\\lib\\site-packages (from torch) (1.20.1)\n",
      "Requirement already satisfied: typing-extensions in d:\\programs\\anaconda\\lib\\site-packages (from torch) (3.7.4.3)\n",
      "Note: you may need to restart the kernel to use updated packages.\n",
      "Requirement already satisfied: matplotlib in d:\\programs\\anaconda\\lib\\site-packages (3.3.4)\n",
      "Requirement already satisfied: kiwisolver>=1.0.1 in d:\\programs\\anaconda\\lib\\site-packages (from matplotlib) (1.3.1)\n",
      "Requirement already satisfied: python-dateutil>=2.1 in d:\\programs\\anaconda\\lib\\site-packages (from matplotlib) (2.8.1)\n",
      "Requirement already satisfied: numpy>=1.15 in d:\\programs\\anaconda\\lib\\site-packages (from matplotlib) (1.20.1)\n",
      "Requirement already satisfied: cycler>=0.10 in d:\\programs\\anaconda\\lib\\site-packages (from matplotlib) (0.10.0)\n",
      "Requirement already satisfied: pillow>=6.2.0 in d:\\programs\\anaconda\\lib\\site-packages (from matplotlib) (8.2.0)\n",
      "Requirement already satisfied: pyparsing!=2.0.4,!=2.1.2,!=2.1.6,>=2.0.3 in d:\\programs\\anaconda\\lib\\site-packages (from matplotlib) (2.4.7)\n",
      "Requirement already satisfied: six in d:\\programs\\anaconda\\lib\\site-packages (from cycler>=0.10->matplotlib) (1.15.0)\n",
      "Note: you may need to restart the kernel to use updated packages.\n"
     ]
    }
   ],
   "source": [
    "%pip install pandas\n",
    "%pip install numpy\n",
    "%pip install torch\n",
    "%pip install matplotlib"
   ]
  },
  {
   "cell_type": "code",
   "execution_count": 2,
   "id": "d2b70f7d",
   "metadata": {
    "scrolled": false
   },
   "outputs": [
    {
     "data": {
      "text/plain": [
       "'1.8.1+cpu'"
      ]
     },
     "execution_count": 2,
     "metadata": {},
     "output_type": "execute_result"
    }
   ],
   "source": [
    "import pickle\n",
    "import torch\n",
    "import matplotlib.pyplot as plt\n",
    "import numpy as np\n",
    "torch.__version__"
   ]
  },
  {
   "cell_type": "markdown",
   "id": "f2bf92c3",
   "metadata": {},
   "source": [
    "Введем некоторые функции для анализа датасетов"
   ]
  },
  {
   "cell_type": "code",
   "execution_count": 3,
   "id": "44be20cd",
   "metadata": {},
   "outputs": [],
   "source": [
    "def count_of_keys(df):\n",
    "    unique = np.unique(df)\n",
    "    counts = np.zeros(len(unique), dtype=np.int32)\n",
    "    for v in df:\n",
    "        counts[v] += 1\n",
    "    return counts\n",
    "def visualization_of_counts(df):\n",
    "    counts = count_of_keys(df)\n",
    "    plt.ylabel(\"Кол-во элементов в классе\")\n",
    "    plt.xlabel(\"Номер каждого класса\")\n",
    "    plt.bar(np.arange(len(counts)), counts)\n",
    "    plt.xticks(np.arange(len(counts)), [i for i in range(len(counts))])\n",
    "def analyze(labels, features, string :str):\n",
    "    visualization_of_counts(labels)\n",
    "    print(\"Данные для [{}]\".format(string))\n",
    "    print(\"Количество элементов в датасете : {}\".format(len(labels)))\n",
    "    print(\"Количество атрибутов в элементе : {}\".format(len(features[0])))\n",
    "    print(\"Минимальное значение атрибута   : {}\".format(np.min(features)))\n",
    "    print(\"Максимальное значение атрибута  : {}\".format(np.max(features)))\n",
    "    print()"
   ]
  },
  {
   "cell_type": "markdown",
   "id": "9e89f837",
   "metadata": {},
   "source": [
    "### Поготовка датасетов\n",
    "\n",
    "Тестировать нейронные сети на основе фреймворка PyTorch будем на трех датаесетах MNIST, FashionMNIST, CIFAR-10.\n",
    "#### MNIST"
   ]
  },
  {
   "cell_type": "code",
   "execution_count": 4,
   "id": "142b3076",
   "metadata": {},
   "outputs": [],
   "source": [
    "from sklearn.model_selection import train_test_split\n",
    "import numpy as np\n",
    "with open('mnist.pkl', 'rb') as mnist_pickle:\n",
    "    MNIST = pickle.load(mnist_pickle)"
   ]
  },
  {
   "cell_type": "code",
   "execution_count": 5,
   "id": "deb743a6",
   "metadata": {
    "scrolled": false
   },
   "outputs": [
    {
     "name": "stdout",
     "output_type": "stream",
     "text": [
      "Данные для [MNIST]\n",
      "Количество элементов в датасете : 42000\n",
      "Количество атрибутов в элементе : 784\n",
      "Минимальное значение атрибута   : 0\n",
      "Максимальное значение атрибута  : 255\n",
      "\n",
      "Данные для [Обучающая выборка из MNIST]\n",
      "Количество элементов в датасете : 33600\n",
      "Количество атрибутов в элементе : 784\n",
      "Минимальное значение атрибута   : 0.0\n",
      "Максимальное значение атрибута  : 1.0\n",
      "\n",
      "Данные для [Тестировочная выборка из MNIST]\n",
      "Количество элементов в датасете : 8400\n",
      "Количество атрибутов в элементе : 784\n",
      "Минимальное значение атрибута   : 0.0\n",
      "Максимальное значение атрибута  : 1.0\n",
      "\n"
     ]
    },
    {
     "data": {
      "image/png": "[encoded data removed]",
      "text/plain": [
       "<Figure size 432x288 with 1 Axes>"
      ]
     },
     "metadata": {
      "needs_background": "light"
     },
     "output_type": "display_data"
    }
   ],
   "source": [
    "def conv_df(df):\n",
    "    return np.array(df).astype(np.float32)/255\n",
    "\n",
    "analyze(MNIST['Train']['Labels'], MNIST['Train']['Features'], \"MNIST\")\n",
    "\n",
    "features = conv_df(MNIST['Train']['Features'])\n",
    "labels = MNIST['Train']['Labels']\n",
    "\n",
    "mnist_train_x, mnist_test_x, mnist_train_y, mnist_test_y = train_test_split(features,labels,test_size=0.2)\n",
    "\n",
    "analyze(mnist_train_y, mnist_train_x, \"Обучающая выборка из MNIST\")\n",
    "analyze(mnist_test_y, mnist_test_x, \"Тестировочная выборка из MNIST\")"
   ]
  },
  {
   "cell_type": "markdown",
   "id": "45c7e76a",
   "metadata": {},
   "source": [
    "#### FashionMNIST"
   ]
  },
  {
   "cell_type": "code",
   "execution_count": 6,
   "id": "e31635fd",
   "metadata": {},
   "outputs": [
    {
     "name": "stdout",
     "output_type": "stream",
     "text": [
      "C:\\Users\\Admin\\fashion-mnist\\utils\n",
      "C:\\Users\\Admin\\fashion-mnist\n",
      "C:\\Users\\Admin\n"
     ]
    }
   ],
   "source": [
    "%cd fashion-mnist/utils\n",
    "import mnist_reader\n",
    "%cd ..\n",
    "fashion_mnist_train_x_raw, fashion_mnist_train_y=mnist_reader.load_mnist('data/fashion', kind='train')\n",
    "fashion_mnist_test_x_raw, fashion_mnist_test_y  =mnist_reader.load_mnist('data/fashion', kind='t10k')\n",
    "%cd .."
   ]
  },
  {
   "cell_type": "code",
   "execution_count": 7,
   "id": "0c9663c0",
   "metadata": {},
   "outputs": [
    {
     "name": "stdout",
     "output_type": "stream",
     "text": [
      "Данные для [Обучающая выборка из Fashion MNIST]\n",
      "Количество элементов в датасете : 60000\n",
      "Количество атрибутов в элементе : 784\n",
      "Минимальное значение атрибута   : 0\n",
      "Максимальное значение атрибута  : 255\n",
      "\n",
      "Данные для [Тестировочная выборка из Fashion MNIST]\n",
      "Количество элементов в датасете : 10000\n",
      "Количество атрибутов в элементе : 784\n",
      "Минимальное значение атрибута   : 0\n",
      "Максимальное значение атрибута  : 255\n",
      "\n"
     ]
    },
    {
     "data": {
      "image/png": "[encoded data removed]",
      "text/plain": [
       "<Figure size 432x288 with 1 Axes>"
      ]
     },
     "metadata": {
      "needs_background": "light"
     },
     "output_type": "display_data"
    }
   ],
   "source": [
    "analyze(fashion_mnist_train_y, fashion_mnist_train_x_raw, \"Обучающая выборка из Fashion MNIST\")\n",
    "analyze(fashion_mnist_test_y, fashion_mnist_test_x_raw, \"Тестировочная выборка из Fashion MNIST\")"
   ]
  },
  {
   "cell_type": "code",
   "execution_count": 8,
   "id": "4416bb1e",
   "metadata": {},
   "outputs": [],
   "source": [
    "fashion_mnist_train_x = conv_df(fashion_mnist_train_x_raw)\n",
    "fashion_mnist_test_x  = conv_df(fashion_mnist_test_x_raw)"
   ]
  },
  {
   "cell_type": "markdown",
   "id": "a32fd439",
   "metadata": {},
   "source": [
    "#### CIFAR-10"
   ]
  },
  {
   "cell_type": "code",
   "execution_count": 9,
   "id": "b61daf38",
   "metadata": {},
   "outputs": [],
   "source": [
    "def unpickle_cifar(file):\n",
    "    with open(file, 'rb') as fo:\n",
    "        dict = pickle.load(fo, encoding='bytes')\n",
    "    return dict\n",
    "test_batch = unpickle_cifar('cifar-10-batches-py/test_batch')\n",
    "data_batch_1 = unpickle_cifar('cifar-10-batches-py/data_batch_1')\n",
    "data_batch_2 = unpickle_cifar('cifar-10-batches-py/data_batch_2')\n",
    "data_batch_3 = unpickle_cifar('cifar-10-batches-py/data_batch_3')\n",
    "data_batch_4 = unpickle_cifar('cifar-10-batches-py/data_batch_4')\n",
    "data_batch_5 = unpickle_cifar('cifar-10-batches-py/data_batch_5')"
   ]
  },
  {
   "cell_type": "code",
   "execution_count": 10,
   "id": "d985f0b4",
   "metadata": {
    "scrolled": true
   },
   "outputs": [
    {
     "name": "stdout",
     "output_type": "stream",
     "text": [
      "dict_keys([b'batch_label', b'labels', b'data', b'filenames'])\n",
      "dict_keys([b'batch_label', b'labels', b'data', b'filenames'])\n",
      "[3, 8, 8, 0, 6, 6, 1, 6, 3, 1, 0, 9, 5, 7, 9, 8, 5, 7, 8, 6, 7, 0, 4, 9, 5, 2, 4, 0, 9, 6, 6, 5, 4, 5, 9, 2, 4, 1, 9, 5, 4, 6, 5, 6, 0, 9, 3, 9, 7, 6, 9, 8, 0, 3, 8, 8, 7, 7, 4, 6, 7, 3, 6, 3, 6, 2, 1, 2, 3, 7, 2, 6, 8, 8, 0, 2, 9, 3, 3, 8, 8, 1, 1, 7, 2, 5, 2, 7, 8, 9, 0, 3, 8, 6, 4, 6, 6, 0, 0, 7, 4, 5, 6, 3, 1, 1, 3, 6, 8, 7, 4, 0, 6, 2, 1, 3, 0, 4, 2, 7, 8, 3, 1, 2, 8, 0, 8, 3, 5, 2, 4, 1, 8, 9, 1, 2, 9, 7, 2, 9, 6, 5, 6, 3, 8, 7, 6, 2, 5, 2, 8, 9, 6, 0, 0, 5, 2, 9, 5, 4, 2, 1, 6, 6, 8, 4, 8, 4, 5, 0, 9, 9, 9, 8, 9, 9, 3, 7, 5, 0, 0, 5, 2, 2, 3, 8, 6, 3, 4, 0, 5, 8, 0, 1, 7, 2, 8, 8, 7, 8, 5, 1, 8, 7, 1, 3, 0, 5, 7, 9, 7, 4, 5, 9, 8, 0, 7, 9, 8, 2, 7, 6, 9, 4, 3, 9, 6, 4, 7, 6, 5, 1, 5, 8, 8, 0, 4, 0, 5, 5, 1, 1, 8, 9, 0, 3, 1, 9, 2, 2, 5, 3, 9, 9, 4, 0, 3, 0, 0, 9, 8, 1, 5, 7, 0, 8, 2, 4, 7, 0, 2, 3, 6, 3, 8, 5, 0, 3, 4, 3, 9, 0, 6, 1, 0, 9, 1, 0, 7, 9, 1, 2, 6, 9, 3, 4, 6, 0, 0, 6, 6, 6, 3, 2, 6, 1, 8, 2, 1, 6, 8, 6, 8, 0, 4, 0, 7, 7, 5, 5, 3, 5, 2, 3, 4, 1, 7, 5, 4, 6, 1, 9, 3, 6, 6, 9, 3, 8, 0, 7, 2, 6, 2, 5, 8, 5, 4, 6, 8, 9, 9, 1, 0, 2, 2, 7, 3, 2, 8, 0, 9, 5, 8, 1, 9, 4, 1, 3, 8, 1, 4, 7, 9, 4, 2, 7, 0, 7, 0, 6, 6, 9, 0, 9, 2, 8, 7, 2, 2, 5, 1, 2, 6, 2, 9, 6, 2, 3, 0, 3, 9, 8, 7, 8, 8, 4, 0, 1, 8, 2, 7, 9, 3, 6, 1, 9, 0, 7, 3, 7, 4, 5, 0, 0, 2, 9, 3, 4, 0, 6, 2, 5, 3, 7, 3, 7, 2, 5, 3, 1, 1, 4, 9, 9, 5, 7, 5, 0, 2, 2, 2, 9, 7, 3, 9, 4, 3, 5, 4, 6, 5, 6, 1, 4, 3, 4, 4, 3, 7, 8, 3, 7, 8, 0, 5, 7, 6, 0, 5, 4, 8, 6, 8, 5, 5, 9, 9, 9, 5, 0, 1, 0, 8, 1, 1, 8, 0, 2, 2, 0, 4, 6, 5, 4, 9, 4, 7, 9, 9, 4, 5, 6, 6, 1, 5, 3, 8, 9, 5, 8, 5, 7, 0, 7, 0, 5, 0, 0, 4, 6, 9, 0, 9, 5, 6, 6, 6, 2, 9, 0, 1, 7, 6, 7, 5, 9, 1, 6, 2, 5, 5, 5, 8, 5, 9, 4, 6, 4, 3, 2, 0, 7, 6, 2, 2, 3, 9, 7, 9, 2, 6, 7, 1, 3, 6, 6, 8, 9, 7, 5, 4, 0, 8, 4, 0, 9, 3, 4, 8, 9, 6, 9, 2, 6, 1, 4, 7, 3, 5, 3, 8, 5, 0, 2, 1, 6, 4, 3, 3, 9, 6, 9, 8, 8, 5, 8, 6, 6, 2, 1, 7, 7, 1, 2, 7, 9, 9, 4, 4, 1, 2, 5, 6, 8, 7, 6, 8, 3, 0, 5, 5, 3, 0, 7, 9, 1, 3, 4, 4, 5, 3, 9, 5, 6, 9, 2, 1, 1, 4, 1, 9, 4, 7, 6, 3, 8, 9, 0, 1, 3, 6, 3, 6, 3, 2, 0, 3, 1, 0, 5, 9, 6, 4, 8, 9, 6, 9, 6, 3, 0, 3, 2, 2, 7, 8, 3, 8, 2, 7, 5, 7, 2, 4, 8, 7, 4, 2, 9, 8, 8, 6, 8, 8, 7, 4, 3, 3, 8, 4, 9, 4, 8, 8, 1, 8, 2, 1, 3, 6, 5, 4, 2, 7, 9, 9, 4, 1, 4, 1, 3, 2, 7, 0, 7, 9, 7, 6, 6, 2, 5, 9, 2, 9, 1, 2, 2, 6, 8, 2, 1, 3, 6, 6, 0, 1, 2, 7, 0, 5, 4, 6, 1, 6, 4, 0, 2, 2, 6, 0, 5, 9, 1, 7, 6, 7, 0, 3, 9, 6, 8, 3, 0, 3, 4, 7, 7, 1, 4, 7, 2, 7, 1, 4, 7, 4, 4, 8, 4, 7, 7, 5, 3, 7, 2, 0, 8, 9, 5, 8, 3, 6, 2, 0, 8, 7, 3, 7, 6, 5, 3, 1, 3, 2, 2, 5, 4, 1, 2, 9, 2, 7, 0, 7, 2, 1, 3, 2, 0, 2, 4, 7, 9, 8, 9, 0, 7, 7, 0, 7, 8, 4, 6, 3, 3, 0, 1, 3, 7, 0, 1, 3, 1, 4, 2, 3, 8, 4, 2, 3, 7, 8, 4, 3, 0, 9, 0, 0, 1, 0, 4, 4, 6, 7, 6, 1, 1, 3, 7, 3, 5, 2, 6, 6, 5, 8, 7, 1, 6, 8, 8, 5, 3, 0, 4, 0, 1, 3, 8, 8, 0, 6, 9, 9, 9, 5, 5, 8, 6, 0, 0, 4, 2, 3, 2, 7, 2, 2, 5, 9, 8, 9, 1, 7, 4, 0, 3, 0, 1, 3, 8, 3, 9, 6, 1, 4, 7, 0, 3, 7, 8, 9, 1, 1, 6, 6, 6, 6, 9, 1, 9, 9, 4, 2, 1, 7, 0, 6, 8, 1, 9, 2, 9, 0, 4, 7, 8, 3, 1, 2, 0, 1, 5, 8, 4, 6, 3, 8, 1, 3, 8, 5, 0, 8, 4, 8, 1, 1, 8, 9, 6, 0, 8, 6, 1, 3, 4, 1, 6, 0, 5, 1, 1, 0, 0, 3, 5, 0, 0, 6, 6, 3, 3, 6, 3, 6, 6, 0, 7, 2, 2, 7, 5, 5, 2, 8, 5, 2, 1, 1, 4, 3, 2, 0, 3, 1, 5, 3, 7, 6, 8, 9, 1, 6, 4, 9, 3, 9, 0, 9, 6, 3, 6, 0, 7, 3, 8, 0, 0, 0, 6, 6, 6, 9, 2, 5, 4, 4, 6, 3, 6, 0, 8, 6, 0, 6, 2, 7, 5, 1, 2, 7, 8, 8, 0, 9, 4, 9, 7, 2, 0, 2, 8, 3, 8, 9, 1, 5, 5, 4, 7, 5, 3, 8, 3, 3, 6, 2, 8, 4, 3, 7, 1, 2, 4, 1, 6, 9, 0, 5, 8, 6, 1, 8, 6, 1, 4, 2, 6, 2, 7, 2, 2, 0, 8, 6, 9, 1, 7, 1, 8, 8, 0, 7, 3, 8, 0, 3, 4, 3, 7, 7, 9, 2, 3, 1, 9, 1, 9, 6, 3, 3, 3, 1, 0, 6, 1, 4, 1, 0, 0, 1, 1, 6, 5, 4, 6, 2, 0, 7, 9, 8, 7, 2, 0, 6, 8, 1, 4, 3, 7, 0, 6, 1, 8, 5, 7, 8, 4, 8, 3, 9, 9, 9, 8, 7, 6, 6, 3, 5, 1, 5, 9, 1, 4, 1, 5, 7, 0, 1, 5, 2, 0, 8, 8, 5, 6, 7, 3, 2, 4, 7, 2, 5, 8, 2, 4, 9, 2, 1, 8, 1, 9, 8, 8, 8, 9, 0, 4, 3, 3, 1, 8, 4, 6, 3, 3, 5, 2, 2, 8, 3, 8, 9, 5, 8, 9, 8, 9, 1, 6, 5, 9, 4, 4, 8, 0, 7, 2, 9, 7, 4, 1, 6, 4, 4, 9, 1, 2, 5, 6, 0, 8, 6, 1, 9, 4, 5, 9, 5, 0, 7, 2, 0, 0, 4, 2, 6, 6, 5, 5, 2, 8, 1, 7, 3, 1, 4, 5, 6, 5, 1, 4, 7, 0, 9, 4, 3, 8, 2, 8, 4, 7, 2, 3, 1, 5, 2, 9, 8, 9, 7, 9, 5, 1, 4, 0, 8, 2, 3, 8, 9, 1, 1, 3, 2, 4, 9, 3, 1, 7, 4, 6, 2, 8, 9, 5, 3, 9, 5, 5, 6, 7, 2, 4, 6, 3, 1, 0, 7, 2, 5, 4, 7, 6, 1, 1, 9, 8, 1, 0, 1, 3, 1, 1, 1, 7, 3, 9, 6, 8, 4, 6, 8, 4, 9, 4, 7, 9, 7, 6, 8, 4, 9, 7, 0, 1, 6, 1, 5, 9, 0, 4, 3, 4, 1, 3, 0, 8, 4, 6, 2, 2, 6, 5, 3, 6, 2, 1, 1, 8, 6, 0, 4, 0, 1, 9, 7, 1, 3, 7, 7, 8, 7, 7, 3, 9, 7, 7, 7, 2, 1, 2, 8, 6, 4, 0, 7, 9, 8, 6, 8, 4, 9, 1, 7, 2, 2, 8, 5, 8, 1, 2, 2, 4, 1, 2, 5, 2, 8, 1, 8, 1, 8, 6, 0, 2, 4, 1, 3, 6, 7, 7, 4, 4, 3, 3, 4, 5, 2, 4, 3, 7, 8, 4, 4, 4, 5, 4, 3, 2, 8, 4, 5, 5, 4, 1, 4, 2, 5, 1, 6, 4, 3, 4, 4, 0, 8, 8, 4, 5, 7, 5, 6, 9, 1, 6, 7, 2, 0, 1, 4, 5, 6, 0, 0, 2, 7, 5, 6, 0, 6, 2, 9, 1, 7, 7, 5, 2, 5, 6, 4, 1, 4, 3, 3, 3, 0, 3, 5, 5, 8, 9, 7, 3, 1, 3, 3, 3, 4, 4, 2, 3, 3, 8, 1, 7, 7, 0, 7, 4, 5, 1, 4, 2, 4, 3, 9, 9, 4, 9, 9, 1, 8, 1, 6, 7, 5, 5, 4, 9, 7, 6, 5, 9, 2, 4, 0, 7, 8, 5, 5, 0, 0, 9, 9, 8, 2, 5, 4, 8, 3, 6, 3, 6, 0, 6, 6, 6, 9, 6, 6, 8, 6, 2, 4, 5, 8, 1, 2, 7, 6, 5, 7, 8, 1, 8, 0, 8, 6, 9, 2, 8, 9, 4, 0, 9, 4, 9, 5, 7, 5, 5, 9, 5, 3, 0, 1, 9, 7, 2, 4, 1, 0, 8, 0, 3, 1, 7, 0, 0, 4, 8, 6, 2, 4, 0, 0, 9, 0, 8, 4, 5, 9, 3, 9, 0, 5, 6, 5, 0, 1, 4, 8, 1, 0, 5, 2, 1, 0, 2, 8, 1, 5, 6, 7, 7, 2, 6, 2, 5, 0, 1, 4, 2, 5, 4, 6, 2, 2, 1, 7, 2, 8, 5, 5, 3, 0, 4, 8, 3, 7, 6, 3, 8, 1, 0, 1, 3, 3, 0, 7, 4, 9, 5, 3, 6, 0, 1, 4, 4, 4, 4, 2, 2, 5, 8, 1, 5, 9, 8, 1, 1, 5, 3, 9, 9, 7, 6, 5, 0, 8, 4, 7, 0, 9, 2, 8, 4, 7, 1, 3, 9, 6, 8, 9, 0, 4, 9, 6, 7, 8, 9, 4, 8, 9, 7, 2, 5, 3, 7, 1, 0, 2, 9, 5, 5, 8, 5, 4, 2, 8, 3, 5, 5, 7, 7, 8, 6, 2, 8, 2, 3, 5, 6, 8, 0, 2, 3, 7, 0, 1, 9, 1, 3, 7, 5, 8, 3, 2, 9, 6, 8, 6, 9, 3, 8, 9, 8, 0, 7, 8, 5, 0, 0, 1, 3, 9, 1, 5, 3, 4, 4, 0, 9, 9, 9, 9, 8, 2, 4, 2, 2, 5, 1, 9, 1, 0, 9, 4, 2, 1, 6, 0, 3, 7, 6, 3, 1, 8, 6, 5, 7, 2, 8, 4, 4, 8, 3, 5, 0, 5, 7, 4, 4, 2, 2, 7, 3, 6, 0, 2, 7, 6, 2, 3, 0, 7, 7, 8, 1, 1, 4, 6, 0, 6, 6, 5, 5, 6, 3, 9, 3, 6, 8, 7, 6, 4, 9, 5, 6, 4, 1, 6, 3, 8, 2, 3, 9, 8, 5, 1, 5, 4, 5, 7, 5, 7, 8, 9, 1, 7, 2, 5, 6, 8, 4, 6, 5, 3, 9, 9, 8, 5, 5, 6, 4, 5, 9, 7, 3, 4, 1, 4, 2, 3, 6, 5, 5, 2, 8, 0, 0, 1, 8, 3, 1, 3, 5, 8, 3, 8, 5, 8, 6, 3, 5, 5, 5, 0, 9, 5, 5, 7, 1, 8, 2, 2, 7, 3, 4, 2, 9, 6, 2, 2, 4, 3, 0, 2, 0, 1, 3, 2, 2, 7, 0, 1, 0, 7, 7, 2, 0, 1, 6, 5, 0, 2, 2, 0, 1, 2, 6, 0, 1, 6, 6, 5, 3, 4, 0, 0, 9, 1, 0, 2, 5, 9, 7, 8, 6, 4, 6, 0, 2, 0, 1, 9, 2, 4, 9, 0, 7, 2, 3, 4, 8, 0, 2, 6, 8, 9, 7, 1, 9, 3, 7, 2, 7, 9, 6, 9, 5, 7, 8, 5, 9, 8, 3, 9, 8, 0, 5, 5, 7, 1, 2, 0, 7, 5, 8, 2, 2, 5, 3, 9, 3, 1, 9, 3, 1, 4, 3, 4, 4, 9, 0, 9, 5, 9, 2, 9, 4, 0, 2, 8, 4, 8, 6, 8, 2, 0, 5, 9, 6, 9, 5, 1, 3, 4, 4, 2, 7, 2, 4, 4, 0, 2, 8, 4, 5, 1, 2, 6, 8, 1, 7, 2, 8, 7, 4, 3, 3, 0, 3, 7, 2, 5, 6, 1, 7, 9, 0, 2, 3, 9, 8, 9, 5, 0, 0, 7, 6, 3, 3, 8, 1, 4, 0, 1, 5, 4, 3, 2, 6, 0, 8, 8, 6, 3, 3, 2, 9, 7, 5, 1, 6, 0, 5, 9, 9, 4, 5, 9, 4, 8, 3, 3, 2, 5, 1, 9, 5, 5, 8, 1, 8, 9, 7, 0, 6, 3, 2, 0, 2, 6, 9, 3, 9, 1, 6, 6, 7, 2, 6, 3, 2, 5, 5, 2, 7, 5, 2, 0, 8, 0, 7, 7, 1, 7, 4, 0, 2, 2, 6, 1, 5, 9, 7, 6, 2, 7, 0, 5, 6, 0, 1, 1, 8, 4, 5, 3, 1, 2, 4, 8, 9, 8, 1, 7, 2, 7, 2, 3, 2, 6, 7, 9, 4, 0, 1, 0, 4, 5, 0, 8, 0, 7, 6, 1, 0, 8, 5, 9, 2, 5, 4, 4, 9, 0, 6, 1, 2, 5, 1, 6, 7, 1, 5, 8, 8, 0, 3, 9, 4, 0, 3, 4, 9, 2, 4, 3, 0, 6, 4, 5, 6, 6, 7, 8, 4, 8, 8, 3, 2, 8, 0, 2, 5, 6, 8, 7, 8, 9, 9, 0, 6, 6, 8, 1, 1, 7, 4, 4, 2, 3, 6, 9, 6, 2, 4, 1, 8, 2, 3, 1, 6, 8, 6, 8, 5, 9, 0, 1, 0, 2, 9, 2, 9, 0, 9, 7, 8, 5, 0, 6, 6, 8, 1, 6, 5, 8, 7, 9, 2, 1, 6, 7, 5, 6, 3, 0, 9, 8, 9, 5, 9, 9, 9, 3, 6, 4, 4, 8, 8, 1, 7, 3, 0, 6, 2, 4, 8, 2, 2, 9, 2, 2, 9, 7, 4, 1, 9, 1, 4, 3, 5, 3, 8, 9, 3, 6, 2, 0, 8, 9, 0, 5, 1, 5, 8, 2, 1, 2, 3, 2, 4, 8, 4, 0, 6, 4, 2, 9, 8, 4, 7, 6, 2, 4, 7, 7, 6, 4, 2, 2, 3, 2, 4, 9, 0, 0, 9, 6, 5, 8, 5, 2, 4, 8, 8, 6, 4, 5, 7, 6, 3, 7, 0, 4, 0, 5, 8, 2, 8, 0, 4, 9, 2, 3, 6, 8, 1, 6, 0, 8, 4, 3, 1, 4, 5, 2, 4, 3, 6, 0, 7, 1, 3, 5, 7, 1, 8, 0, 4, 8, 2, 7, 7, 0, 2, 2, 4, 3, 3, 1, 6, 1, 6, 4, 6, 7, 4, 7, 3, 8, 1, 3, 1, 4, 6, 5, 5, 7, 4, 5, 4, 9, 7, 7, 2, 3, 3, 6, 7, 4, 1, 6, 1, 0, 6, 9, 6, 0, 2, 0, 2, 4, 7, 0, 0, 0, 0, 7, 5, 3, 2, 7, 8, 5, 5, 2, 2, 8, 9, 1, 2, 2, 0, 3, 4, 9, 1, 6, 9, 0, 8, 3, 6, 4, 6, 7, 5, 1, 8, 9, 0, 5, 0, 5, 4, 3, 8, 5, 2, 0, 8, 5, 9, 2, 5, 6, 5, 7, 3, 7, 2, 8, 8, 4, 2, 1, 6, 2, 9, 9, 8, 2, 3, 1, 0, 5, 2, 3, 7, 9, 5, 9, 1, 1, 3, 2, 7, 4, 4, 1, 9, 4, 5, 5, 2, 7, 7, 6, 1, 2, 3, 7, 5, 4, 3, 7, 7, 0, 0, 1, 4, 4, 3, 7, 9, 8, 7, 0, 9, 0, 3, 7, 6, 3, 8, 4, 5, 6, 5, 3, 4, 2, 9, 2, 4, 9, 2, 0, 1, 1, 3, 7, 9, 5, 1, 6, 0, 3, 3, 7, 2, 4, 5, 2, 3, 6, 3, 3, 0, 4, 4, 3, 8, 1, 2, 3, 2, 7, 1, 4, 5, 6, 8, 6, 6, 5, 4, 2, 9, 9, 3, 2, 0, 4, 1, 5, 5, 6, 6, 5, 6, 9, 7, 9, 4, 8, 3, 1, 9, 8, 1, 9, 0, 3, 0, 4, 7, 7, 2, 6, 5, 6, 9, 7, 7, 5, 7, 0, 8, 6, 7, 8, 3, 8, 9, 3, 2, 9, 2, 7, 4, 1, 9, 7, 0, 8, 1, 2, 0, 6, 5, 1, 4, 2, 8, 2, 8, 3, 3, 1, 4, 9, 8, 1, 1, 7, 9, 9, 4, 6, 8, 5, 3, 2, 2, 3, 8, 5, 1, 9, 7, 9, 1, 5, 3, 1, 0, 3, 8, 9, 2, 0, 8, 0, 7, 9, 4, 8, 3, 0, 7, 0, 7, 0, 5, 5, 4, 3, 0, 9, 9, 0, 2, 2, 0, 8, 4, 4, 5, 2, 2, 1, 1, 5, 5, 4, 3, 4, 0, 8, 4, 8, 2, 5, 6, 5, 1, 7, 2, 4, 0, 5, 6, 8, 7, 6, 3, 1, 3, 6, 6, 4, 5, 5, 5, 1, 8, 7, 3, 0, 2, 5, 1, 1, 1, 6, 7, 2, 1, 2, 3, 9, 8, 3, 1, 7, 4, 8, 4, 7, 5, 8, 6, 0, 3, 0, 8, 3, 4, 4, 9, 4, 6, 1, 5, 7, 7, 9, 0, 1, 3, 1, 3, 2, 4, 0, 7, 8, 3, 1, 6, 2, 1, 8, 8, 1, 9, 7, 5, 3, 2, 9, 0, 6, 8, 4, 1, 5, 7, 2, 4, 7, 0, 4, 9, 0, 7, 0, 6, 7, 1, 8, 5, 8, 8, 7, 0, 0, 3, 2, 5, 7, 0, 6, 4, 4, 9, 1, 8, 6, 3, 9, 4, 9, 3, 3, 7, 5, 9, 7, 7, 4, 5, 8, 2, 8, 9, 5, 3, 1, 9, 2, 2, 0, 1, 1, 8, 1, 1, 9, 8, 9, 9, 0, 2, 6, 9, 1, 9, 0, 1, 9, 2, 9, 9, 9, 0, 9, 9, 2, 1, 7, 0, 5, 6, 3, 9, 8, 3, 0, 2, 7, 7, 4, 8, 3, 0, 5, 2, 3, 5, 7, 6, 6, 6, 5, 6, 5, 4, 5, 8, 8, 0, 9, 7, 9, 0, 6, 9, 6, 1, 4, 7, 9, 0, 3, 5, 4, 7, 6, 9, 8, 2, 3, 9, 3, 3, 7, 8, 3, 5, 5, 9, 6, 1, 4, 7, 4, 8, 7, 7, 1, 3, 0, 3, 2, 5, 4, 9, 3, 5, 4, 7, 0, 3, 7, 0, 2, 1, 5, 8, 7, 3, 5, 7, 8, 5, 7, 8, 1, 5, 4, 7, 0, 8, 3, 2, 9, 7, 4, 1, 6, 5, 9, 8, 5, 5, 4, 1, 0, 9, 4, 4, 3, 0, 4, 8, 0, 8, 2, 9, 5, 9, 7, 4, 6, 7, 9, 2, 9, 3, 7, 7, 8, 2, 2, 0, 2, 5, 3, 6, 4, 7, 2, 3, 7, 8, 7, 2, 5, 0, 0, 7, 0, 9, 6, 1, 0, 3, 9, 7, 4, 9, 1, 6, 8, 1, 2, 3, 3, 5, 4, 8, 9, 7, 4, 4, 1, 2, 4, 9, 8, 7, 9, 5, 1, 2, 1, 6, 6, 4, 5, 7, 4, 5, 8, 5, 2, 8, 7, 8, 2, 3, 6, 1, 3, 3, 1, 5, 1, 9, 0, 9, 2, 0, 6, 2, 4, 8, 5, 7, 6, 1, 2, 9, 4, 5, 0, 3, 3, 7, 7, 7, 1, 4, 5, 0, 2, 8, 5, 0, 0, 6, 2, 0, 8, 4, 5, 4, 5, 6, 4, 7, 9, 4, 2, 0, 6, 4, 0, 0, 6, 4, 6, 1, 9, 5, 5, 2, 2, 6, 3, 4, 5, 9, 1, 7, 2, 3, 9, 6, 5, 0, 2, 9, 7, 1, 7, 2, 2, 0, 8, 6, 4, 3, 2, 7, 7, 0, 4, 1, 6, 5, 1, 3, 0, 3, 9, 0, 0, 2, 5, 0, 4, 0, 1, 9, 8, 4, 9, 4, 2, 4, 3, 3, 4, 0, 4, 3, 2, 8, 9, 1, 5, 8, 1, 8, 2, 4, 5, 2, 4, 1, 1, 6, 6, 8, 5, 2, 2, 5, 0, 8, 2, 3, 6, 2, 9, 6, 1, 4, 5, 9, 0, 1, 0, 0, 8, 1, 1, 6, 6, 9, 5, 4, 1, 7, 8, 6, 9, 1, 7, 6, 0, 9, 3, 5, 3, 2, 5, 3, 4, 9, 7, 1, 4, 4, 6, 1, 3, 8, 8, 0, 6, 7, 7, 6, 7, 2, 3, 2, 2, 6, 2, 7, 4, 0, 3, 6, 2, 6, 3, 3, 0, 9, 5, 1, 1, 5, 3, 6, 4, 3, 4, 1, 0, 4, 5, 5, 2, 8, 9, 4, 3, 1, 8, 0, 1, 3, 3, 4, 4, 2, 9, 7, 6, 8, 1, 8, 9, 1, 3, 1, 7, 3, 0, 0, 2, 8, 3, 9, 2, 7, 2, 6, 0, 1, 6, 1, 6, 7, 5, 5, 2, 5, 9, 4, 0, 2, 3, 4, 9, 4, 1, 0, 0, 2, 3, 8, 9, 2, 8, 9, 5, 7, 9, 1, 4, 6, 2, 8, 4, 4, 8, 9, 3, 1, 1, 6, 5, 8, 4, 6, 4, 5, 2, 6, 4, 2, 3, 1, 3, 6, 8, 5, 2, 2, 7, 1, 6, 2, 5, 9, 2, 8, 1, 6, 9, 2, 7, 5, 3, 2, 9, 7, 0, 2, 9, 3, 4, 1, 7, 9, 5, 8, 9, 7, 3, 4, 0, 9, 7, 4, 2, 4, 7, 0, 1, 8, 1, 0, 4, 6, 1, 9, 9, 2, 1, 2, 5, 6, 9, 7, 7, 3, 4, 2, 0, 2, 5, 6, 7, 3, 7, 9, 4, 2, 0, 6, 1, 7, 5, 6, 5, 3, 9, 2, 7, 8, 5, 9, 5, 8, 5, 4, 3, 7, 9, 8, 1, 2, 2, 8, 9, 3, 0, 8, 4, 0, 2, 0, 1, 4, 1, 8, 5, 5, 7, 9, 8, 3, 7, 9, 1, 5, 6, 9, 8, 7, 2, 0, 9, 0, 8, 5, 9, 4, 2, 9, 8, 1, 9, 1, 8, 3, 7, 6, 4, 2, 3, 7, 0, 3, 5, 8, 8, 8, 7, 9, 6, 2, 7, 4, 5, 7, 6, 7, 1, 7, 3, 6, 8, 2, 6, 6, 7, 1, 5, 9, 7, 1, 7, 0, 1, 6, 3, 3, 9, 0, 1, 2, 3, 2, 2, 5, 4, 9, 8, 7, 4, 4, 9, 7, 6, 7, 7, 1, 2, 3, 5, 1, 9, 0, 3, 3, 1, 5, 6, 6, 2, 4, 6, 8, 8, 9, 6, 6, 1, 0, 7, 5, 8, 2, 1, 5, 8, 1, 4, 7, 5, 0, 3, 9, 9, 5, 2, 8, 4, 1, 9, 0, 4, 4, 8, 2, 9, 0, 7, 9, 8, 7, 1, 3, 2, 9, 9, 5, 9, 7, 6, 7, 7, 1, 1, 2, 4, 2, 0, 6, 8, 7, 6, 2, 2, 9, 8, 2, 4, 2, 0, 5, 8, 6, 8, 2, 7, 7, 3, 1, 8, 1, 6, 5, 9, 7, 8, 9, 6, 4, 8, 1, 9, 4, 0, 4, 1, 4, 3, 6, 2, 2, 7, 0, 0, 7, 0, 7, 4, 3, 6, 7, 7, 4, 5, 4, 3, 5, 5, 4, 7, 1, 0, 7, 7, 1, 6, 5, 0, 7, 7, 4, 6, 1, 8, 5, 9, 3, 5, 6, 2, 2, 7, 3, 5, 8, 1, 0, 6, 8, 7, 8, 8, 5, 7, 5, 4, 9, 7, 3, 3, 8, 8, 3, 9, 4, 7, 2, 0, 8, 0, 7, 3, 3, 2, 5, 2, 4, 4, 0, 4, 8, 2, 4, 0, 6, 4, 5, 6, 0, 8, 8, 0, 6, 1, 1, 6, 1, 4, 2, 1, 1, 2, 4, 4, 5, 5, 8, 8, 5, 1, 8, 2, 3, 3, 9, 6, 6, 5, 0, 7, 3, 3, 2, 7, 4, 5, 6, 0, 2, 1, 8, 1, 0, 9, 3, 1, 0, 5, 4, 2, 3, 3, 6, 7, 6, 0, 0, 5, 7, 4, 7, 7, 0, 6, 1, 3, 9, 0, 9, 0, 3, 8, 4, 8, 8, 4, 1, 0, 2, 2, 4, 1, 1, 2, 4, 3, 4, 1, 4, 7, 1, 0, 0, 9, 0, 4, 2, 8, 8, 5, 5, 0, 4, 0, 8, 6, 2, 5, 9, 2, 9, 1, 1, 5, 4, 7, 5, 8, 6, 2, 1, 5, 5, 3, 4, 1, 8, 9, 9, 8, 9, 8, 6, 8, 5, 8, 9, 4, 6, 2, 6, 3, 7, 4, 0, 0, 1, 7, 5, 1, 5, 9, 3, 1, 6, 8, 7, 3, 6, 9, 1, 2, 0, 1, 7, 2, 6, 1, 9, 0, 0, 8, 9, 9, 2, 8, 6, 2, 5, 6, 0, 3, 3, 0, 7, 4, 7, 5, 0, 1, 6, 8, 8, 1, 2, 1, 5, 4, 5, 9, 6, 7, 1, 0, 6, 9, 2, 7, 7, 3, 9, 9, 1, 9, 7, 0, 1, 3, 5, 4, 6, 3, 8, 8, 0, 4, 8, 3, 6, 7, 0, 0, 4, 5, 2, 6, 8, 4, 9, 9, 9, 2, 0, 4, 2, 8, 1, 1, 0, 0, 3, 7, 4, 1, 1, 9, 7, 7, 4, 6, 8, 6, 0, 2, 8, 5, 3, 5, 3, 5, 7, 9, 8, 4, 4, 3, 1, 4, 8, 3, 6, 5, 3, 0, 8, 9, 5, 7, 6, 2, 0, 4, 9, 9, 0, 5, 2, 3, 6, 1, 1, 0, 2, 8, 2, 1, 1, 7, 5, 2, 3, 4, 1, 2, 9, 2, 1, 3, 4, 8, 9, 0, 0, 4, 9, 0, 2, 2, 0, 6, 8, 7, 3, 3, 8, 9, 0, 2, 5, 3, 6, 1, 3, 9, 5, 0, 5, 4, 4, 0, 1, 1, 6, 1, 7, 9, 9, 6, 2, 4, 3, 8, 3, 4, 7, 0, 2, 8, 4, 8, 3, 8, 8, 8, 3, 3, 5, 7, 7, 0, 4, 1, 5, 9, 7, 0, 6, 8, 4, 9, 0, 1, 8, 9, 6, 3, 9, 2, 4, 4, 0, 3, 3, 5, 4, 5, 1, 1, 8, 2, 2, 9, 3, 7, 8, 9, 2, 3, 1, 7, 3, 2, 3, 0, 1, 9, 5, 5, 3, 4, 5, 2, 0, 0, 3, 1, 3, 4, 7, 4, 2, 8, 4, 8, 9, 9, 4, 2, 4, 3, 6, 4, 6, 4, 6, 6, 3, 8, 7, 4, 8, 0, 5, 9, 3, 9, 0, 7, 5, 1, 9, 7, 9, 1, 8, 4, 2, 1, 6, 4, 3, 0, 1, 4, 8, 6, 1, 7, 1, 3, 5, 4, 3, 3, 9, 7, 8, 2, 5, 5, 4, 5, 4, 5, 7, 2, 5, 5, 1, 7, 7, 8, 3, 6, 0, 2, 5, 2, 3, 7, 4, 2, 1, 6, 8, 6, 8, 3, 2, 7, 7, 9, 7, 1, 4, 7, 4, 6, 1, 7, 3, 0, 0, 6, 6, 8, 6, 6, 0, 3, 4, 7, 4, 9, 4, 9, 9, 3, 4, 1, 4, 0, 3, 7, 1, 2, 2, 8, 4, 7, 8, 5, 5, 6, 5, 6, 0, 6, 4, 9, 3, 2, 7, 3, 8, 3, 9, 4, 1, 6, 9, 9, 4, 3, 9, 8, 1, 6, 9, 5, 9, 0, 9, 7, 2, 2, 4, 2, 6, 4, 8, 1, 9, 5, 6, 5, 1, 8, 6, 6, 7, 6, 5, 0, 2, 7, 6, 1, 2, 3, 1, 6, 4, 9, 0, 3, 9, 1, 0, 5, 3, 1, 6, 9, 8, 9, 0, 6, 1, 6, 2, 3, 5, 6, 9, 0, 7, 2, 4, 0, 3, 6, 8, 6, 9, 1, 9, 0, 6, 4, 5, 9, 5, 4, 1, 9, 2, 0, 7, 3, 5, 1, 8, 3, 0, 5, 2, 8, 8, 3, 9, 6, 0, 3, 5, 3, 4, 1, 5, 0, 7, 3, 9, 4, 5, 3, 1, 4, 2, 4, 9, 9, 7, 1, 7, 0, 1, 2, 1, 5, 3, 8, 4, 1, 5, 1, 9, 9, 7, 0, 1, 7, 6, 2, 6, 5, 0, 3, 1, 3, 8, 9, 9, 0, 8, 8, 7, 9, 2, 9, 1, 3, 6, 7, 6, 0, 8, 6, 2, 4, 2, 3, 5, 5, 4, 1, 6, 7, 1, 6, 1, 7, 1, 6, 2, 3, 0, 4, 2, 9, 7, 5, 5, 6, 0, 8, 8, 1, 1, 3, 5, 6, 5, 3, 8, 7, 5, 0, 7, 7, 5, 7, 1, 9, 9, 1, 9, 9, 3, 5, 5, 3, 0, 3, 0, 6, 6, 5, 6, 8, 9, 4, 5, 1, 1, 2, 7, 9, 0, 1, 2, 5, 4, 4, 7, 4, 8, 3, 3, 5, 3, 5, 7, 0, 1, 2, 9, 8, 1, 7, 3, 5, 9, 1, 9, 1, 1, 3, 6, 7, 4, 8, 3, 5, 6, 7, 0, 1, 7, 7, 2, 3, 3, 5, 1, 7, 6, 8, 4, 4, 5, 7, 3, 4, 7, 7, 3, 6, 0, 7, 2, 6, 7, 4, 1, 8, 0, 2, 2, 1, 5, 4, 0, 9, 3, 4, 4, 2, 3, 8, 5, 0, 0, 4, 6, 3, 9, 2, 0, 5, 7, 5, 5, 1, 7, 3, 1, 6, 7, 9, 0, 1, 2, 1, 4, 6, 1, 5, 9, 5, 0, 4, 9, 4, 9, 7, 1, 6, 8, 0, 6, 5, 0, 8, 1, 7, 5, 6, 9, 3, 2, 3, 9, 8, 6, 1, 0, 9, 0, 9, 8, 7, 7, 5, 2, 3, 5, 5, 7, 8, 7, 6, 9, 1, 9, 8, 6, 5, 6, 7, 5, 6, 7, 2, 5, 9, 6, 6, 7, 0, 1, 0, 1, 3, 2, 5, 6, 1, 2, 5, 1, 9, 9, 8, 6, 8, 6, 8, 9, 0, 4, 0, 3, 3, 6, 4, 9, 9, 7, 2, 3, 5, 6, 4, 6, 0, 3, 7, 5, 0, 2, 9, 2, 7, 2, 9, 2, 4, 0, 6, 6, 3, 4, 5, 5, 9, 1, 1, 4, 4, 3, 5, 4, 8, 0, 0, 3, 9, 4, 7, 4, 2, 8, 3, 6, 3, 1, 9, 6, 3, 8, 3, 8, 4, 7, 5, 7, 5, 3, 1, 2, 6, 1, 3, 2, 0, 7, 5, 0, 0, 0, 1, 4, 3, 5, 8, 4, 3, 1, 7, 1, 0, 4, 2, 4, 1, 4, 0, 1, 2, 1, 7, 7, 9, 8, 7, 5, 4, 0, 9, 0, 0, 8, 2, 0, 0, 2, 4, 8, 6, 2, 4, 6, 3, 5, 1, 5, 3, 7, 2, 2, 9, 8, 0, 0, 0, 3, 4, 4, 6, 1, 6, 7, 4, 4, 3, 9, 4, 0, 8, 0, 4, 6, 5, 7, 9, 7, 0, 5, 7, 7, 3, 1, 9, 3, 0, 9, 5, 3, 7, 9, 4, 4, 1, 7, 7, 1, 4, 1, 2, 8, 7, 0, 0, 4, 7, 2, 9, 7, 6, 9, 3, 5, 8, 0, 3, 6, 8, 3, 2, 4, 7, 1, 1, 3, 9, 7, 5, 1, 0, 8, 7, 0, 1, 6, 9, 3, 2, 7, 7, 8, 1, 0, 3, 4, 6, 7, 5, 2, 0, 1, 5, 5, 1, 4, 1, 3, 0, 8, 6, 2, 1, 3, 6, 4, 1, 9, 0, 4, 1, 0, 1, 9, 8, 6, 9, 2, 4, 7, 2, 2, 7, 4, 9, 1, 3, 2, 6, 3, 4, 4, 9, 4, 8, 2, 6, 6, 1, 6, 3, 6, 5, 8, 4, 6, 7, 1, 9, 3, 6, 7, 6, 0, 7, 1, 9, 5, 2, 6, 7, 7, 6, 5, 9, 1, 5, 6, 0, 2, 0, 9, 1, 8, 3, 5, 0, 0, 0, 5, 7, 7, 8, 5, 5, 5, 1, 6, 1, 5, 1, 0, 6, 2, 3, 2, 1, 7, 5, 1, 9, 8, 3, 6, 9, 7, 3, 0, 2, 3, 9, 4, 4, 3, 9, 6, 8, 6, 6, 8, 5, 4, 3, 6, 7, 7, 4, 3, 9, 6, 2, 4, 0, 1, 3, 6, 4, 9, 2, 6, 0, 3, 8, 7, 5, 3, 3, 8, 3, 2, 6, 3, 6, 2, 7, 4, 5, 7, 9, 0, 0, 6, 7, 2, 8, 5, 5, 7, 5, 5, 9, 4, 6, 4, 7, 3, 3, 6, 4, 1, 6, 3, 1, 6, 7, 0, 5, 0, 1, 9, 7, 3, 5, 2, 3, 9, 5, 6, 4, 0, 0, 0, 8, 0, 3, 2, 4, 5, 3, 7, 9, 6, 9, 3, 1, 2, 6, 7, 4, 5, 1, 3, 7, 6, 9, 5, 8, 5, 8, 5, 8, 5, 6, 5, 0, 8, 3, 8, 1, 8, 1, 5, 0, 9, 8, 6, 3, 6, 3, 4, 4, 7, 4, 7, 4, 3, 2, 4, 5, 5, 7, 5, 4, 5, 8, 0, 5, 4, 0, 5, 4, 3, 3, 2, 4, 2, 9, 4, 8, 8, 6, 2, 6, 1, 7, 0, 4, 3, 8, 5, 9, 7, 6, 7, 1, 0, 2, 3, 5, 6, 7, 1, 6, 2, 8, 3, 7, 2, 5, 7, 5, 7, 7, 1, 7, 4, 3, 3, 4, 0, 4, 2, 7, 0, 2, 2, 6, 6, 2, 5, 2, 6, 0, 6, 1, 2, 9, 0, 0, 1, 5, 5, 1, 6, 7, 8, 5, 6, 3, 3, 6, 0, 9, 9, 2, 2, 6, 1, 4, 6, 2, 5, 7, 8, 8, 5, 6, 4, 3, 2, 3, 4, 4, 4, 8, 9, 2, 6, 0, 9, 7, 9, 8, 7, 7, 3, 8, 2, 9, 3, 5, 7, 5, 8, 7, 3, 7, 0, 7, 1, 6, 2, 4, 0, 0, 2, 9, 8, 2, 8, 7, 7, 5, 5, 0, 1, 2, 9, 6, 1, 0, 1, 0, 6, 5, 0, 5, 7, 4, 4, 8, 3, 5, 3, 7, 2, 5, 8, 3, 5, 7, 3, 7, 0, 5, 4, 5, 6, 9, 3, 5, 3, 8, 2, 4, 2, 2, 6, 7, 6, 0, 5, 5, 8, 4, 5, 6, 1, 3, 5, 4, 7, 3, 0, 7, 2, 0, 1, 2, 4, 9, 6, 4, 5, 9, 7, 7, 6, 7, 4, 3, 1, 6, 9, 4, 8, 0, 3, 1, 6, 4, 4, 2, 1, 4, 6, 3, 0, 8, 9, 7, 6, 8, 4, 8, 1, 4, 5, 9, 4, 7, 1, 4, 5, 3, 1, 2, 6, 4, 7, 1, 5, 9, 3, 1, 4, 8, 7, 7, 0, 4, 3, 4, 6, 7, 7, 5, 4, 4, 4, 3, 6, 6, 1, 9, 9, 7, 9, 4, 3, 2, 9, 8, 5, 0, 6, 9, 0, 9, 7, 8, 5, 4, 4, 9, 4, 2, 6, 6, 9, 9, 7, 9, 9, 0, 5, 1, 1, 8, 6, 9, 9, 5, 6, 5, 5, 9, 7, 9, 4, 5, 4, 3, 3, 9, 8, 8, 3, 4, 8, 4, 0, 4, 0, 7, 2, 8, 0, 2, 0, 7, 4, 0, 6, 3, 3, 1, 7, 4, 6, 5, 0, 4, 9, 5, 6, 6, 3, 0, 5, 2, 6, 3, 3, 8, 0, 8, 5, 4, 2, 9, 5, 0, 5, 4, 8, 2, 7, 6, 5, 7, 8, 2, 0, 1, 8, 2, 4, 8, 4, 3, 0, 4, 0, 1, 9, 3, 0, 3, 6, 5, 5, 2, 8, 5, 0, 8, 7, 5, 2, 4, 3, 7, 0, 2, 3, 1, 0, 0, 2, 1, 2, 1, 4, 6, 7, 1, 0, 5, 2, 5, 9, 2, 5, 6, 7, 1, 9, 3, 6, 1, 0, 2, 9, 4, 2, 9, 3, 8, 2, 9, 8, 5, 1, 0, 1, 5, 2, 5, 6, 8, 8, 3, 5, 0, 4, 1, 3, 7, 0, 3, 3, 9, 2, 3, 9, 9, 8, 5, 9, 7, 2, 0, 9, 4, 7, 1, 7, 6, 4, 4, 8, 9, 0, 7, 1, 2, 4, 0, 3, 7, 5, 1, 9, 3, 5, 2, 4, 1, 1, 3, 3, 9, 2, 5, 8, 0, 8, 1, 5, 1, 5, 9, 0, 9, 2, 4, 0, 6, 9, 1, 1, 3, 4, 9, 5, 3, 3, 3, 3, 4, 1, 5, 9, 8, 7, 4, 8, 7, 3, 5, 2, 5, 8, 9, 7, 2, 0, 0, 7, 5, 3, 5, 7, 4, 6, 2, 8, 2, 7, 7, 6, 1, 3, 8, 6, 2, 0, 4, 4, 8, 6, 4, 0, 2, 5, 4, 1, 2, 5, 4, 6, 9, 5, 0, 5, 2, 0, 8, 2, 6, 4, 7, 9, 5, 7, 2, 6, 2, 1, 9, 9, 7, 2, 5, 1, 8, 1, 6, 3, 0, 8, 8, 5, 6, 9, 9, 9, 6, 3, 0, 8, 8, 5, 3, 3, 1, 1, 0, 7, 0, 6, 0, 4, 4, 6, 5, 3, 2, 9, 6, 6, 7, 9, 7, 7, 0, 8, 4, 2, 7, 7, 7, 4, 0, 1, 6, 0, 5, 3, 0, 2, 4, 9, 7, 3, 3, 2, 8, 8, 5, 3, 8, 0, 8, 0, 0, 0, 2, 2, 7, 0, 7, 7, 7, 2, 2, 0, 4, 0, 3, 7, 8, 4, 7, 9, 6, 1, 1, 6, 9, 3, 8, 9, 5, 8, 3, 9, 4, 3, 7, 5, 5, 2, 7, 5, 7, 9, 6, 3, 0, 8, 4, 5, 6, 1, 0, 4, 8, 4, 7, 1, 3, 2, 0, 9, 1, 8, 8, 6, 8, 1, 7, 1, 0, 9, 7, 6, 4, 5, 8, 2, 1, 2, 5, 8, 1, 1, 8, 8, 0, 9, 0, 0, 4, 3, 3, 5, 6, 6, 3, 1, 4, 4, 7, 8, 0, 1, 4, 8, 4, 6, 2, 2, 2, 6, 3, 4, 0, 8, 1, 3, 8, 3, 8, 9, 1, 6, 1, 9, 8, 2, 0, 4, 7, 4, 0, 0, 7, 6, 8, 9, 8, 6, 2, 8, 8, 0, 1, 1, 0, 7, 7, 4, 4, 7, 7, 2, 6, 6, 7, 4, 5, 4, 0, 9, 4, 7, 2, 5, 3, 2, 2, 7, 6, 2, 6, 4, 9, 6, 8, 3, 8, 5, 5, 2, 3, 4, 5, 2, 7, 5, 1, 5, 3, 7, 8, 8, 9, 6, 0, 9, 2, 6, 0, 0, 1, 4, 1, 3, 5, 1, 8, 9, 6, 2, 6, 9, 5, 6, 5, 9, 1, 4, 2, 8, 9, 5, 4, 7, 0, 3, 7, 1, 6, 9, 1, 1, 4, 0, 5, 1, 6, 3, 0, 2, 5, 5, 5, 2, 8, 2, 3, 1, 6, 2, 7, 0, 8, 9, 2, 6, 4, 7, 5, 5, 8, 8, 7, 8, 5, 7, 4, 4, 0, 0, 7, 0, 4, 0, 4, 4, 2, 5, 4, 0, 7, 7, 7, 0, 4, 6, 2, 9, 1, 1, 5, 0, 9, 1, 0, 6, 5, 3, 0, 9, 0, 6, 2, 0, 4, 1, 6, 7, 6, 1, 0, 4, 6, 0, 4, 4, 2, 7, 6, 5, 3, 5, 9, 4, 5, 2, 0, 5, 7, 2, 3, 9, 4, 5, 8, 1, 9, 3, 1, 8, 5, 8, 6, 6, 3, 4, 0, 2, 3, 2, 6, 1, 8, 2, 1, 3, 6, 2, 2, 3, 3, 5, 0, 2, 1, 2, 8, 0, 8, 2, 2, 7, 3, 5, 9, 8, 3, 6, 1, 0, 8, 6, 3, 5, 8, 9, 4, 8, 0, 0, 2, 9, 1, 8, 3, 7, 2, 8, 0, 9, 4, 8, 9, 4, 8, 9, 5, 4, 8, 1, 5, 5, 7, 2, 5, 8, 8, 1, 2, 3, 1, 5, 0, 2, 3, 0, 8, 2, 2, 8, 7, 3, 5, 3, 9, 6, 3, 5, 1, 1, 7, 7, 3, 3, 8, 9, 6, 0, 8, 0, 6, 6, 4, 6, 9, 1, 1, 7, 0, 6, 8, 9, 0, 6, 9, 0, 1, 1, 7, 2, 1, 0, 4, 5, 0, 3, 6, 3, 3, 8, 1, 8, 1, 3, 1, 5, 4, 5, 1, 8, 9, 1, 3, 1, 7, 2, 9, 8, 9, 4, 6, 0, 9, 4, 0, 4, 6, 2, 1, 3, 0, 8, 5, 6, 0, 3, 4, 6, 9, 5, 7, 9, 0, 3, 6, 5, 7, 0, 5, 1, 2, 2, 9, 7, 0, 0, 1, 4, 4, 5, 5, 9, 6, 3, 6, 2, 6, 9, 3, 2, 3, 2, 4, 9, 5, 2, 1, 6, 6, 4, 7, 6, 3, 3, 8, 1, 4, 6, 4, 4, 5, 6, 2, 0, 5, 2, 7, 5, 2, 5, 2, 5, 9, 0, 6, 7, 9, 8, 3, 2, 1, 4, 3, 4, 5, 5, 6, 8, 6, 0, 8, 9, 8, 0, 7, 7, 6, 6, 7, 5, 9, 8, 7, 9, 5, 6, 0, 4, 8, 2, 0, 9, 1, 3, 9, 8, 3, 7, 4, 5, 0, 2, 1, 9, 1, 0, 5, 8, 4, 7, 3, 1, 4, 5, 3, 1, 0, 8, 8, 8, 2, 1, 3, 7, 3, 1, 6, 9, 1, 6, 0, 7, 7, 1, 3, 3, 3, 1, 0, 2, 7, 1, 2, 2, 9, 6, 3, 5, 9, 4, 8, 0, 4, 8, 0, 1, 3, 7, 0, 4, 7, 4, 8, 6, 4, 3, 9, 8, 2, 2, 8, 3, 1, 1, 2, 8, 2, 6, 9, 4, 8, 4, 4, 1, 5, 2, 6, 9, 2, 0, 7, 1, 8, 9, 3, 9, 9, 0, 7, 7, 5, 4, 2, 6, 4, 5, 7, 7, 8, 7, 2, 6, 2, 2, 4, 4, 0, 7, 1, 3, 9, 6, 0, 0, 2, 3, 8, 2, 2, 4, 3, 5, 2, 9, 1, 0, 0, 6, 5, 5, 7, 9, 9, 6, 5, 5, 0, 5, 7, 1, 6, 6, 4, 1, 4, 4, 1, 5, 0, 0, 4, 5, 8, 4, 8, 3, 0, 5, 0, 5, 3, 1, 6, 7, 0, 9, 1, 5, 7, 6, 5, 5, 5, 6, 0, 0, 1, 7, 5, 1, 9, 2, 4, 1, 3, 7, 8, 2, 0, 9, 6, 6, 0, 6, 5, 8, 2, 7, 4, 0, 2, 7, 7, 8, 8, 7, 0, 4, 9, 1, 4, 4, 3, 5, 4, 6, 2, 3, 1, 0, 3, 3, 3, 6, 3, 1, 2, 8, 9, 7, 9, 3, 8, 7, 3, 1, 7, 7, 3, 2, 2, 8, 9, 5, 9, 2, 1, 7, 4, 4, 0, 5, 7, 1, 5, 4, 0, 8, 4, 9, 8, 7, 8, 4, 2, 3, 4, 0, 5, 4, 1, 8, 2, 5, 4, 5, 2, 5, 3, 7, 9, 7, 1, 4, 1, 3, 1, 4, 5, 5, 1, 7, 1, 3, 0, 1, 2, 5, 7, 0, 6, 3, 5, 7, 5, 5, 8, 9, 4, 6, 3, 6, 6, 8, 2, 6, 4, 8, 4, 1, 3, 1, 2, 3, 3, 0, 1, 6, 4, 2, 8, 2, 4, 3, 1, 4, 4, 4, 4, 1, 5, 5, 7, 6, 5, 4, 5, 6, 5, 6, 2, 4, 7, 7, 4, 6, 5, 0, 2, 3, 9, 2, 3, 8, 0, 7, 0, 6, 8, 1, 2, 8, 9, 1, 5, 4, 2, 3, 5, 5, 3, 6, 5, 0, 3, 2, 1, 3, 3, 7, 7, 4, 9, 4, 3, 9, 5, 1, 7, 6, 6, 4, 8, 5, 1, 2, 8, 4, 5, 3, 3, 3, 0, 4, 8, 7, 7, 9, 4, 8, 4, 5, 9, 1, 8, 3, 1, 3, 8, 0, 3, 5, 4, 6, 9, 2, 7, 2, 0, 5, 2, 9, 7, 5, 0, 7, 0, 3, 5, 5, 3, 8, 7, 7, 9, 6, 5, 8, 9, 0, 1, 9, 4, 0, 0, 1, 7, 2, 2, 8, 5, 9, 8, 2, 8, 0, 6, 6, 8, 6, 9, 6, 1, 1, 5, 3, 5, 0, 7, 6, 1, 4, 4, 1, 1, 8, 1, 1, 2, 3, 4, 9, 9, 5, 2, 7, 3, 3, 6, 9, 6, 9, 8, 8, 6, 7, 4, 7, 2, 3, 8, 0, 9, 0, 7, 8, 1, 2, 3, 2, 4, 2, 9, 0, 3, 8, 9, 6, 5, 5, 2, 4, 1, 0, 6, 1, 8, 4, 5, 5, 5, 0, 8, 9, 0, 5, 7, 9, 6, 3, 4, 6, 4, 9, 7, 1, 2, 5, 2, 8, 0, 2, 2, 9, 8, 1, 9, 7, 7, 3, 1, 4, 1, 1, 3, 8, 8, 1, 9, 3, 8, 9, 5, 1, 1, 6, 2, 7, 2, 6, 2, 6, 9, 6, 0, 1, 3, 9, 3, 8, 8, 8, 2, 9, 1, 2, 6, 0, 5, 0, 7, 7, 7, 9, 4, 5, 0, 2, 3, 5, 5, 8, 9, 1, 2, 7, 1, 3, 4, 6, 9, 1, 0, 7, 1, 9, 5, 8, 1, 9, 9, 7, 9, 8, 3, 0, 2, 6, 0, 2, 2, 4, 0, 8, 4, 8, 1, 2, 7, 2, 7, 9, 5, 2, 2, 9, 2, 6, 5, 7, 2, 5, 6, 5, 1, 8, 2, 6, 8, 6, 3, 0, 8, 0, 0, 9, 9, 6, 8, 0, 6, 6, 0, 7, 9, 8, 0, 5, 0, 9, 6, 0, 4, 7, 1, 7, 8, 8, 2, 3, 9, 6, 5, 5, 3, 1, 5, 3, 0, 2, 5, 2, 7, 3, 8, 4, 4, 6, 1, 9, 4, 1, 7, 0, 1, 4, 3, 0, 2, 9, 4, 5, 0, 3, 4, 7, 2, 3, 0, 1, 3, 7, 9, 9, 0, 7, 5, 6, 7, 1, 2, 2, 7, 4, 6, 8, 4, 9, 8, 4, 9, 2, 3, 4, 0, 2, 5, 6, 0, 5, 3, 5, 8, 3, 7, 4, 9, 5, 6, 3, 8, 6, 9, 8, 5, 5, 8, 3, 5, 9, 0, 4, 2, 0, 5, 9, 9, 3, 8, 0, 6, 0, 2, 3, 7, 0, 0, 6, 9, 1, 5, 2, 2, 7, 9, 3, 9, 3, 5, 2, 2, 2, 8, 8, 5, 0, 0, 7, 0, 3, 1, 6, 5, 0, 9, 2, 6, 7, 4, 2, 0, 0, 5, 3, 3, 2, 6, 4, 2, 7, 8, 0, 1, 0, 1, 3, 6, 4, 8, 0, 6, 0, 9, 1, 6, 2, 1, 0, 1, 3, 0, 3, 7, 9, 9, 3, 7, 5, 7, 1, 6, 6, 1, 1, 1, 4, 4, 2, 1, 7, 0, 1, 2, 1, 1, 3, 2, 6, 9, 1, 3, 2, 0, 8, 7, 3, 4, 6, 4, 6, 9, 4, 8, 9, 3, 0, 5, 7, 2, 0, 2, 9, 9, 3, 8, 7, 1, 1, 2, 2, 2, 5, 9, 1, 2, 6, 1, 2, 1, 8, 9, 2, 3, 1, 9, 9, 4, 4, 5, 5, 0, 3, 3, 7, 1, 7, 7, 9, 8, 6, 3, 5, 5, 1, 6, 2, 7, 8, 4, 3, 3, 5, 9, 6, 8, 5, 1, 0, 6, 7, 0, 9, 6, 2, 0, 8, 7, 1, 2, 6, 9, 1, 6, 4, 7, 1, 9, 0, 0, 5, 2, 8, 3, 8, 2, 8, 4, 0, 8, 3, 6, 1, 2, 3, 0, 5, 0, 4, 1, 7, 2, 0, 1, 3, 9, 1, 6, 1, 6, 1, 2, 8, 7, 0, 9, 5, 8, 0, 0, 1, 7, 9, 7, 1, 9, 2, 1, 9, 4, 3, 6, 0, 2, 0, 0, 9, 9, 8, 9, 4, 5, 4, 3, 0, 7, 8, 7, 3, 7, 5, 4, 6, 5, 9, 5, 2, 4, 2, 7, 9, 6, 7, 4, 7, 1, 2, 3, 1, 1, 3, 6, 8, 3, 7, 7, 0, 8, 1, 5, 2, 5, 5, 3, 6, 3, 5, 9, 8, 4, 6, 8, 0, 4, 1, 7, 8, 4, 9, 7, 2, 6, 3, 8, 8, 6, 7, 3, 8, 1, 1, 5, 3, 7, 9, 9, 9, 8, 5, 9, 9, 6, 8, 8, 4, 8, 1, 0, 1, 8, 8, 6, 5, 9, 0, 6, 1, 2, 6, 6, 3, 5, 6, 5, 5, 3, 3, 6, 8, 9, 4, 4, 3, 8, 3, 6, 0, 8, 5, 7, 8, 4, 6, 5, 3, 1, 8, 3, 0, 4, 4, 3, 3, 5, 3, 3, 2, 7, 7, 8, 2, 0, 5, 5, 6, 1, 1, 3, 9, 9, 3, 6, 7, 1, 8, 3, 9, 8, 7, 8, 8, 0, 3, 2, 4, 8, 7, 5, 7, 1, 8, 7, 3, 5, 4, 4, 3, 8, 6, 1, 1, 6, 3, 2, 2, 8, 9, 8, 3, 3, 8, 1, 1, 0, 5, 2, 0, 5, 0, 5, 8, 6, 3, 9, 6, 6, 3, 9, 4, 8, 3, 4, 3, 1, 1, 2, 9, 7, 8, 5, 5, 8, 6, 9, 0, 8, 3, 5, 1, 3, 3, 5, 5, 3, 8, 1, 4, 6, 4, 2, 4, 3, 8, 9, 6, 6, 6, 5, 5, 2, 7, 7, 4, 4, 9, 3, 8, 3, 7, 7, 8, 5, 3, 9, 1, 6, 7, 3, 3, 3, 8, 5, 6, 1, 3, 7, 9, 6, 1, 6, 4, 9, 0, 5, 7, 4, 9, 1, 0, 0, 2, 7, 8, 3, 2, 7, 6, 1, 6, 6, 4, 4, 2, 1, 8, 4, 4, 7, 8, 5, 8, 9, 4, 3, 2, 2, 9, 3, 0, 1, 1, 1, 1, 6, 8, 7, 1, 3, 0, 4, 5, 0, 3, 0, 6, 2, 0, 9, 8, 6, 8, 5, 8, 2, 9, 6, 0, 6, 1, 8, 7, 3, 2, 2, 6, 5, 6, 9, 2, 5, 4, 9, 8, 5, 3, 9, 3, 5, 7, 1, 8, 5, 8, 6, 2, 5, 1, 3, 0, 4, 1, 9, 5, 4, 9, 2, 1, 4, 2, 5, 9, 8, 7, 2, 1, 6, 9, 7, 3, 6, 5, 8, 0, 2, 2, 4, 9, 0, 5, 5, 4, 2, 3, 1, 0, 3, 0, 4, 4, 9, 1, 3, 3, 0, 2, 1, 1, 0, 4, 1, 9, 4, 8, 1, 1, 1, 5, 9, 8, 1, 6, 7, 2, 9, 9, 7, 8, 8, 1, 9, 7, 8, 9, 1, 6, 6, 3, 3, 1, 3, 0, 8, 8, 3, 6, 6, 7, 1, 0, 7, 6, 4, 8, 2, 0, 6, 6, 8, 6, 3, 1, 1, 8, 6, 7, 0, 5, 4, 3, 2, 1, 7, 8, 2, 0, 1, 7, 4, 8, 7, 6, 6, 7, 0, 6, 4, 9, 2, 3, 2, 1, 3, 8, 6, 8, 1, 9, 6, 7, 6, 5, 0, 6, 0, 1, 3, 1, 1, 5, 3, 4, 3, 3, 8, 1, 6, 6, 1, 8, 8, 6, 2, 7, 4, 6, 8, 9, 3, 3, 5, 5, 3, 1, 4, 1, 9, 5, 1, 7, 7, 7, 5, 2, 3, 3, 6, 6, 6, 4, 0, 7, 1, 7, 3, 0, 8, 1, 2, 4, 1, 2, 2, 4, 9, 8, 2, 8, 7, 6, 3, 4, 7, 2, 3, 1, 5, 3, 0, 4, 3, 4, 9, 4, 7, 9, 1, 7, 8, 3, 1, 8, 3, 2, 5, 7, 2, 7, 9, 6, 8, 6, 8, 6, 5, 9, 0, 4, 8, 5, 6, 4, 3, 8, 0, 4, 8, 6, 7, 2, 7, 1, 7, 4, 1, 2, 4, 2, 2, 8, 7, 2, 2, 6, 7, 5, 6, 8, 9, 9, 6, 5, 2, 9, 8, 7, 2, 3, 3, 7, 4, 3, 2, 1, 9, 0, 1, 5, 3, 2, 6, 5, 9, 1, 5, 4, 3, 6, 2, 8, 9, 7, 8, 0, 8, 9, 1, 2, 5, 7, 2, 0, 6, 6, 1, 6, 3, 1, 5, 0, 3, 7, 4, 6, 5, 6, 4, 8, 3, 4, 5, 5, 0, 6, 6, 7, 5, 0, 9, 9, 6, 1, 0, 4, 6, 3, 6, 9, 3, 6, 6, 8, 2, 1, 0, 1, 9, 3, 7, 4, 3, 0, 2, 7, 6, 4, 3, 0, 8, 2, 0, 0, 9, 6, 6, 6, 8, 7, 4, 1, 8, 1, 2, 2, 4, 8, 5, 2, 6, 5, 3, 9, 1, 0, 7, 2, 4, 4, 0, 0, 6, 2, 2, 4, 0, 5, 9, 7, 1, 8, 4, 5, 5, 9, 8, 5, 7, 8, 0, 9, 8, 9, 1, 6, 3, 8, 0, 3, 4, 4, 8, 4, 8, 9, 8, 6, 0, 0, 8, 2, 7, 4, 2, 5, 6, 0, 5, 8, 4, 1, 9, 0, 1, 4, 4, 8, 4, 9, 6, 0, 7, 7, 6, 8, 9, 6, 2, 0, 4, 9, 4, 9, 3, 9, 6, 6, 7, 0, 9, 7, 1, 8, 6, 0, 6, 7, 4, 1, 9, 4, 6, 7, 9, 8, 3, 9, 2, 1, 2, 7, 6, 1, 0, 0, 5, 6, 0, 4, 3, 2, 8, 8, 0, 6, 9, 5, 2, 8, 7, 0, 6, 5, 9, 7, 2, 3, 6, 9, 6, 2, 2, 4, 1, 0, 5, 0, 8, 9, 3, 5, 9, 3, 8, 1, 6, 3, 7, 5, 6, 2, 0, 2, 8, 2, 8, 7, 7, 8, 1, 0, 8, 9, 7, 0, 3, 8, 0, 5, 9, 5, 8, 4, 2, 0, 9, 2, 2, 4, 4, 9, 2, 2, 2, 5, 1, 3, 2, 0, 0, 4, 0, 6, 5, 8, 0, 5, 8, 6, 4, 8, 5, 2, 9, 7, 9, 7, 1, 0, 1, 9, 6, 9, 2, 7, 9, 4, 4, 0, 6, 2, 4, 1, 3, 7, 2, 8, 5, 9, 0, 3, 2, 3, 2, 7, 6, 3, 2, 5, 9, 0, 5, 9, 9, 8, 7, 7, 4, 8, 6, 5, 2, 3, 1, 0, 4, 1, 8, 8, 4, 9, 4, 4, 3, 3, 9, 2, 0, 1, 1, 8, 4, 4, 8, 3, 2, 9, 5, 7, 6, 2, 5, 4, 7, 3, 3, 9, 0, 1, 5, 9, 3, 7, 6, 0, 4, 2, 2, 5, 6, 3, 8, 9, 5, 6, 1, 4, 5, 4, 6, 7, 2, 1, 0, 2, 0, 4, 9, 8, 8, 9, 1, 1, 5, 0, 0, 8, 7, 1, 7, 4, 5, 4, 3, 3, 2, 0, 6, 6, 0, 1, 3, 9, 8, 3, 7, 8, 9, 4, 8, 9, 0, 9, 7, 1, 6, 2, 9, 5, 6, 9, 3, 9, 8, 7, 7, 1, 6, 5, 3, 1, 3, 1, 2, 7, 1, 8, 2, 0, 9, 7, 9, 8, 8, 6, 7, 3, 7, 1, 3, 9, 0, 9, 3, 6, 7, 2, 7, 3, 0, 5, 9, 7, 5, 5, 0, 6, 5, 1, 8, 2, 7, 5, 9, 0, 0, 0, 8, 8, 7, 3, 7, 8, 9, 3, 7, 9, 7, 8, 7, 9, 8, 5, 4, 8, 3, 7, 6, 3, 8, 2, 1, 9, 5, 7, 3, 9, 5, 5, 8, 7, 3, 5, 3, 5, 9, 7, 6, 7, 3, 6, 4, 3, 9, 4, 2, 1, 9, 6, 0, 2, 6, 7, 4, 7, 9, 0, 7, 4, 3, 5, 3, 1, 1, 2, 6, 8, 2, 1, 7, 8, 5, 9, 6, 1, 1, 5, 0, 6, 0, 9, 2, 6, 5, 8, 9, 5, 5, 6, 2, 9, 1, 5, 8, 8, 7, 1, 7, 3, 5, 4, 9, 7, 5, 2, 9, 9, 4, 7, 4, 1, 3, 8, 7, 9, 0, 4, 5, 7, 5, 2, 8, 7, 6, 9, 6, 9, 3, 8, 5, 6, 6, 9, 5, 7, 8, 0, 5, 0, 7, 4, 8, 2, 5, 1, 3, 2, 2, 6, 2, 1, 7, 4, 6, 3, 1, 3, 7, 2, 1, 3, 7, 0, 8, 4, 4, 5, 7, 9, 5, 4, 3, 9, 6, 8, 2, 3, 3, 1, 6, 1, 7, 0, 3, 4, 2, 9, 4, 5, 8, 2, 7, 0, 9, 6, 8, 0, 8, 2, 8, 5, 7, 7, 2, 2, 0, 0, 0, 7, 4, 1, 6, 6, 8, 8, 9, 0, 9, 0, 1, 3, 3, 0, 9, 6, 6, 2, 6, 3, 4, 0, 8, 4, 1, 4, 0, 6, 5, 0, 9, 9, 9, 9, 1, 2, 3, 5, 4, 2, 9, 6, 0, 9, 6, 6, 8, 0, 6, 1, 4, 6, 8, 0, 5, 4, 1, 2, 0, 9, 6, 4, 2, 4, 6, 5, 9, 7, 7, 4, 6, 5, 0, 1, 9, 0, 3, 1, 9, 0, 9, 7, 8, 6, 7, 6, 8, 2, 4, 5, 3, 0, 3, 2, 1, 7, 5, 9, 3, 4, 5, 7, 1, 5, 0, 1, 1, 1, 9, 7, 5, 4, 9, 7, 8, 1, 0, 2, 8, 5, 6, 7, 0, 1, 4, 8, 4, 4, 6, 6, 5, 8, 1, 8, 4, 6, 5, 9, 2, 2, 1, 4, 9, 1, 6, 7, 2, 0, 1, 7, 6, 5, 2, 2, 5, 6, 0, 9, 0, 1, 5, 3, 3, 5, 8, 7, 5, 6, 5, 8, 0, 5, 9, 4, 6, 5, 1, 1, 0, 3, 3, 9, 4, 8, 1, 7, 7, 9, 9, 4, 3, 6, 3, 2, 8, 2, 7, 6, 7, 0, 2, 1, 2, 9, 4, 6, 9, 6, 1, 0, 1, 8, 7, 0, 0, 4, 7, 4, 2, 6, 9, 5, 9, 0, 7, 4, 5, 8, 1, 4, 7, 9, 9, 8, 8, 6, 3, 7, 0, 8, 9, 6, 2, 4, 6, 2, 9, 7, 4, 6, 8, 5, 6, 1, 3, 5, 9, 9, 1, 3, 2, 0, 3, 0, 2, 0, 7, 3, 9, 3, 5, 7, 6, 5, 9, 5, 6, 1, 2, 4, 0, 2, 7, 8, 4, 4, 0, 9, 5, 9, 2, 9, 3, 2, 4, 3, 2, 2, 8, 8, 6, 8, 1, 6, 8, 9, 8, 2, 1, 4, 9, 1, 5, 7, 1, 6, 0, 1, 5, 2, 8, 1, 1, 3, 8, 1, 3, 1, 8, 5, 1, 9, 0, 3, 0, 4, 0, 5, 1, 2, 0, 4, 9, 5, 1, 2, 2, 7, 8, 7, 2, 4, 5, 3, 4, 0, 6, 1, 5, 9, 8, 0, 2, 0, 7, 6, 0, 5, 9, 7, 5, 0, 4, 6, 0, 6, 3, 6, 8, 1, 1, 8, 9, 7, 2, 9, 0, 2, 2, 9, 0, 6, 5, 7, 7, 9, 1, 7, 9, 8, 4, 5, 0, 8, 0, 2, 5, 2, 1, 4, 4, 8, 9, 7, 8, 3, 6, 6, 0, 1, 1, 1, 8, 1, 4, 4, 0, 7, 8, 2, 1, 2, 5, 4, 6, 0, 5, 7, 4, 4, 3, 9, 5, 8, 8, 0, 8, 7, 4, 1, 8, 4, 9, 5, 4, 1, 7, 7, 7, 7, 0, 3, 8, 3, 3, 0, 5, 7, 0, 8, 0, 0, 9, 2, 2, 3, 4, 8, 2, 2, 6, 3, 3, 6, 2, 9, 4, 0, 1, 7, 5, 5, 7, 3, 0, 4, 2, 0, 7, 5, 8, 0, 8, 2, 7, 0, 3, 5, 3, 8, 3, 5, 1, 7]\n",
      "[[158 159 165 ... 124 129 110]\n",
      " [235 231 232 ... 178 191 199]\n",
      " [158 158 139 ...   8   3   7]\n",
      " ...\n",
      " [ 20  19  15 ...  50  53  47]\n",
      " [ 25  15  23 ...  80  81  80]\n",
      " [ 73  98  99 ...  94  58  26]]\n",
      "[158 159 165 ... 124 129 110]\n",
      "3072\n"
     ]
    }
   ],
   "source": [
    "print(test_batch.keys())\n",
    "print(data_batch_1.keys())\n",
    "print(test_batch[b'labels'])\n",
    "print(test_batch[b'data'])\n",
    "print(test_batch[b'data'][0])\n",
    "print(len(test_batch[b'data'][0]))"
   ]
  },
  {
   "cell_type": "code",
   "execution_count": 11,
   "id": "6f69918a",
   "metadata": {
    "scrolled": true
   },
   "outputs": [
    {
     "name": "stdout",
     "output_type": "stream",
     "text": [
      "Кол-во элементов в test_batch   : 10000\n",
      "Кол-во элементов в data_batch_1 : 10000\n",
      "Кол-во элементов в data_batch_2 : 10000\n",
      "Кол-во элементов в data_batch_3 : 10000\n",
      "Кол-во элементов в data_batch_4 : 10000\n",
      "Кол-во элементов в data_batch_5 : 10000\n"
     ]
    }
   ],
   "source": [
    "print(\"Кол-во элементов в test_batch   : {}\".format(len(test_batch[b'labels'])))\n",
    "print(\"Кол-во элементов в data_batch_1 : {}\".format(len(data_batch_1[b'labels'])))\n",
    "print(\"Кол-во элементов в data_batch_2 : {}\".format(len(data_batch_2[b'labels'])))\n",
    "print(\"Кол-во элементов в data_batch_3 : {}\".format(len(data_batch_3[b'labels'])))\n",
    "print(\"Кол-во элементов в data_batch_4 : {}\".format(len(data_batch_4[b'labels'])))\n",
    "print(\"Кол-во элементов в data_batch_5 : {}\".format(len(data_batch_5[b'labels'])))"
   ]
  },
  {
   "cell_type": "code",
   "execution_count": 12,
   "id": "06a7c32a",
   "metadata": {},
   "outputs": [],
   "source": [
    "def append_list_to_list(list1, list2):\n",
    "    for value in list2:\n",
    "        list1.append(value)\n",
    "\n",
    "cifar_train_x_raw = []\n",
    "cifar_train_y     = []\n",
    "\n",
    "append_list_to_list(cifar_train_x_raw, data_batch_1[b'data'])\n",
    "append_list_to_list(cifar_train_x_raw, data_batch_2[b'data'])\n",
    "append_list_to_list(cifar_train_x_raw, data_batch_3[b'data'])\n",
    "append_list_to_list(cifar_train_x_raw, data_batch_4[b'data'])\n",
    "append_list_to_list(cifar_train_x_raw, data_batch_5[b'data'])\n",
    "\n",
    "append_list_to_list(cifar_train_y, data_batch_5[b'labels'])\n",
    "append_list_to_list(cifar_train_y, data_batch_5[b'labels'])\n",
    "append_list_to_list(cifar_train_y, data_batch_5[b'labels'])\n",
    "append_list_to_list(cifar_train_y, data_batch_5[b'labels'])\n",
    "append_list_to_list(cifar_train_y, data_batch_5[b'labels'])\n",
    "\n",
    "cifar_test_x_raw = test_batch[b'data']\n",
    "cifar_test_y     = test_batch[b'labels']"
   ]
  },
  {
   "cell_type": "code",
   "execution_count": 13,
   "id": "b195d739",
   "metadata": {
    "scrolled": false
   },
   "outputs": [
    {
     "name": "stdout",
     "output_type": "stream",
     "text": [
      "Данные для [Обчающая выборка CIFAR-10]\n",
      "Количество элементов в датасете : 50000\n",
      "Количество атрибутов в элементе : 3072\n",
      "Минимальное значение атрибута   : 0\n",
      "Максимальное значение атрибута  : 255\n",
      "\n",
      "Данные для [Тестировочная выборка CIFAR-10]\n",
      "Количество элементов в датасете : 10000\n",
      "Количество атрибутов в элементе : 3072\n",
      "Минимальное значение атрибута   : 0\n",
      "Максимальное значение атрибута  : 255\n",
      "\n"
     ]
    },
    {
     "data": {
      "image/png": "[encoded data removed]",
      "text/plain": [
       "<Figure size 432x288 with 1 Axes>"
      ]
     },
     "metadata": {
      "needs_background": "light"
     },
     "output_type": "display_data"
    }
   ],
   "source": [
    "analyze(cifar_train_y, cifar_train_x_raw, \"Обчающая выборка CIFAR-10\")\n",
    "analyze(cifar_test_y, cifar_test_x_raw, \"Тестировочная выборка CIFAR-10\")"
   ]
  },
  {
   "cell_type": "code",
   "execution_count": 14,
   "id": "fed38b51",
   "metadata": {
    "scrolled": true
   },
   "outputs": [
    {
     "name": "stdout",
     "output_type": "stream",
     "text": [
      "Данные для [Тестовая выборка CIFAR-10]\n",
      "Количество элементов в датасете : 10000\n",
      "Количество атрибутов в элементе : 1024\n",
      "Минимальное значение атрибута   : 0.0\n",
      "Максимальное значение атрибута  : 1.0\n",
      "\n",
      "Размер тестовой выборки  : 10000\n",
      "Размер обучающей выборки : 50000\n",
      "Размер датасета CIFAR-10 : 60000\n"
     ]
    },
    {
     "data": {
      "image/png": "[encoded data removed]",
      "text/plain": [
       "<Figure size 432x288 with 1 Axes>"
      ]
     },
     "metadata": {
      "needs_background": "light"
     },
     "output_type": "display_data"
    }
   ],
   "source": [
    "def conv_cifar(X):\n",
    "    df = np.array(X).astype(np.float32)\n",
    "    result = np.zeros(len(df) * len(df[0])//3, dtype=np.float32)\n",
    "    i = 0\n",
    "    for v in df:\n",
    "        #print(v)\n",
    "        #print(len(v))\n",
    "        for j in range(0, len(v), 3):\n",
    "            #print(j)\n",
    "            result[i] = (v[j] + v[j+1] + v[j+2])/765\n",
    "            i += 1\n",
    "    return np.reshape(result ,(len(df), len(df[0])//3))\n",
    "\n",
    "\n",
    "cifar_test_x  = conv_cifar(cifar_test_x_raw)\n",
    "cifar_train_x = conv_cifar(cifar_train_x_raw)\n",
    "analyze(cifar_test_y,cifar_test_x,\"Тестовая выборка CIFAR-10\")\n",
    "print('Размер тестовой выборки  : {}'.format(len(cifar_test_x)))\n",
    "print('Размер обучающей выборки : {}'.format(len(cifar_train_x)))\n",
    "print('Размер датасета CIFAR-10 : {}'.format(len(cifar_test_x) + len(cifar_train_x)))"
   ]
  },
  {
   "cell_type": "markdown",
   "id": "7463740a",
   "metadata": {},
   "source": [
    "### Перцептрон на PyTorch"
   ]
  },
  {
   "cell_type": "code",
   "execution_count": 15,
   "id": "88ba5c0c",
   "metadata": {},
   "outputs": [],
   "source": [
    "class PyTorchPerceptron(torch.nn.Module):\n",
    "    def __init__(self, layers=[10], func=torch.nn.Sigmoid(), \n",
    "                 loss_func=torch.nn.functional.binary_cross_entropy_with_logits, \n",
    "                 epochs=10,show_status=False, learning_rate=0.05):\n",
    "        super().__init__()\n",
    "        self.layers=layers\n",
    "        self.func=func\n",
    "        self.epochs=epochs\n",
    "        self.show_status=show_status\n",
    "        self.learning_rate=learning_rate\n",
    "        self.level=0\n",
    "        self.loss_function=loss_func\n",
    "    \n",
    "    def status_print(self, msg, level=-1):\n",
    "        if level == -1:\n",
    "            level = self.level\n",
    "        print(\"  \"*level + msg)\n",
    "        \n",
    "    def fit(self, X, Y):\n",
    "        self.create_net(X,Y)\n",
    "        \n",
    "        if self.show_status:\n",
    "            self.level = 0\n",
    "            self.status_print(\"Обучение сети:\")\n",
    "            self.level += 1\n",
    "        \n",
    "        self.train(X,Y)\n",
    "        return self\n",
    "        \n",
    "    def create_net(self, X,Y):\n",
    "        self.level=0\n",
    "        layers_settings = self.layers.copy()\n",
    "        layers_settings.insert(0, len(X[0]))\n",
    "        layers_settings.append(len(np.unique(Y)))\n",
    "        self.classes_count = layers_settings[-1]\n",
    "        module_layers = []\n",
    "        \n",
    "        if self.show_status:\n",
    "            self.status_print(\"Создание сети :\")\n",
    "            self.level += 1\n",
    "            self.status_print(\"Количество скрытых слоев     : {}\".format(len(layers_settings)-2))\n",
    "            self.status_print(\"Количество входных нейронов  : {}\".format(layers_settings[0]))\n",
    "            self.status_print(\"Koличество выходных нейронов : {}\".format(layers_settings[-1]))\n",
    "            self.status_print(\"Широты скрытых слоев         : {}\".format(self.layers))\n",
    "            self.level -= 1\n",
    "        \n",
    "        for i in range(len(layers_settings)-2):\n",
    "            module_layers.append(torch.nn.Linear(layers_settings[i], layers_settings[i+1]))\n",
    "            module_layers.append(self.func)\n",
    "            \n",
    "        module_layers.append(torch.nn.Linear(layers_settings[-2], layers_settings[-1]))\n",
    "        #module_layers.append(torch.nn.Softmax)\n",
    "        self.net = torch.nn.Sequential(*module_layers)\n",
    "        return self    \n",
    "\n",
    "    def train(self, X, Y):\n",
    "        val_x = torch.tensor(np.array(X).astype(np.float32))\n",
    "        val_y = []\n",
    "        for y in Y:\n",
    "            val = np.zeros(self.classes_count)\n",
    "            for i in range(10):\n",
    "                val[i] = 1 if i == y else 0\n",
    "            val_y.append(val.copy().astype(np.float32))\n",
    "        dataset = torch.utils.data.TensorDataset(val_x,torch.tensor(val_y,dtype=torch.float32))\n",
    "        dataloader = torch.utils.data.DataLoader(dataset,batch_size=16)\n",
    "        optim = torch.optim.Adam(self.net.parameters(),lr=self.learning_rate)\n",
    "        for epoch in range(1, self.epochs+1):\n",
    "            for (x,y) in dataloader:\n",
    "                z = self.net(x)\n",
    "                loss = self.loss_function(z,y)\n",
    "                optim.zero_grad()\n",
    "                loss.backward()\n",
    "                optim.step()\n",
    "            acc = self.score(X,Y)\n",
    "            if self.show_status:\n",
    "                self.status_print(\"[Эпоха {} из {}] потеря : {}, точность : {}\".format(epoch, self.epochs,loss,acc))\n",
    "                \n",
    "    def score(self, X, Y):\n",
    "        val_x = torch.tensor(np.array(X).astype(np.float32))\n",
    "        answer = self.net(val_x)\n",
    "        results = [ np.argmax(v.detach().numpy()) for v in self.func(answer)]\n",
    "        total_success = 0\n",
    "        for res, y in zip(results, Y):\n",
    "            if res == y:\n",
    "                total_success += 1\n",
    "        acc = total_success / len(Y)\n",
    "        return acc\n",
    "    def confusion_matrix(self, X, Y):\n",
    "        val_x = torch.tensor(np.array(X).astype(np.float32))\n",
    "        answer = self.net(val_x)\n",
    "        results = [ np.argmax(v.detach().numpy()) for v in self.func(answer)]\n",
    "        matrix = np.zeros((self.classes_count, self.classes_count), dtype=np.int32)\n",
    "        for res, y in zip(results, Y):\n",
    "            matrix[res][y] += 1\n",
    "        return matrix\n",
    "        "
   ]
  },
  {
   "cell_type": "markdown",
   "id": "bf155af4",
   "metadata": {},
   "source": [
    "### Тестирование MNIST\n",
    "#### Однослойные перцептроны"
   ]
  },
  {
   "cell_type": "markdown",
   "id": "cbacb07a",
   "metadata": {},
   "source": [
    "Функция активации : Sigmoid, количество внутренних слоев : 0"
   ]
  },
  {
   "cell_type": "code",
   "execution_count": 16,
   "id": "67c3158a",
   "metadata": {
    "scrolled": false
   },
   "outputs": [
    {
     "name": "stdout",
     "output_type": "stream",
     "text": [
      "Создание сети :\n",
      "  Количество скрытых слоев     : 0\n",
      "  Количество входных нейронов  : 784\n",
      "  Koличество выходных нейронов : 10\n",
      "  Широты скрытых слоев         : []\n",
      "Обучение сети:\n",
      "  [Эпоха 1 из 10] потеря : 0.08132797479629517, точность : 0.8946726190476191\n",
      "  [Эпоха 2 из 10] потеря : 0.16102886199951172, точность : 0.8983035714285714\n",
      "  [Эпоха 3 из 10] потеря : 0.1739923059940338, точность : 0.9000892857142857\n",
      "  [Эпоха 4 из 10] потеря : 0.17695052921772003, точность : 0.902172619047619\n",
      "  [Эпоха 5 из 10] потеря : 0.09303411096334457, точность : 0.8999404761904762\n",
      "  [Эпоха 6 из 10] потеря : 0.17941494286060333, точность : 0.9013988095238096\n",
      "  [Эпоха 7 из 10] потеря : 0.24017024040222168, точность : 0.8989583333333333\n",
      "  [Эпоха 8 из 10] потеря : 0.16684845089912415, точность : 0.9066666666666666\n",
      "  [Эпоха 9 из 10] потеря : 0.15890656411647797, точность : 0.9064583333333334\n",
      "  [Эпоха 10 из 10] потеря : 0.09495988488197327, точность : 0.9004166666666666\n",
      "Точность сети : 0.8776190476190476\n"
     ]
    }
   ],
   "source": [
    "first_null_layered_perceptron = PyTorchPerceptron(show_status=True, layers=[])\n",
    "first_null_layered_perceptron.fit(mnist_train_x, mnist_train_y)\n",
    "print(\"Точность сети : {}\".format(first_null_layered_perceptron.score(mnist_test_x, mnist_test_y)))"
   ]
  },
  {
   "cell_type": "markdown",
   "id": "db82766b",
   "metadata": {},
   "source": [
    "Функция активации : ReLU, количество внутренних слоев : 0"
   ]
  },
  {
   "cell_type": "code",
   "execution_count": 17,
   "id": "a307af20",
   "metadata": {
    "scrolled": true
   },
   "outputs": [
    {
     "name": "stdout",
     "output_type": "stream",
     "text": [
      "Создание сети :\n",
      "  Количество скрытых слоев     : 0\n",
      "  Количество входных нейронов  : 784\n",
      "  Koличество выходных нейронов : 10\n",
      "  Широты скрытых слоев         : []\n",
      "Обучение сети:\n",
      "  [Эпоха 1 из 10] потеря : 0.10654298216104507, точность : 0.8591964285714285\n",
      "  [Эпоха 2 из 10] потеря : 0.23829784989356995, точность : 0.8566369047619048\n",
      "  [Эпоха 3 из 10] потеря : 0.169903963804245, точность : 0.8684226190476191\n",
      "  [Эпоха 4 из 10] потеря : 0.1399296522140503, точность : 0.8628571428571429\n",
      "  [Эпоха 5 из 10] потеря : 0.20759367942810059, точность : 0.8677380952380952\n",
      "  [Эпоха 6 из 10] потеря : 0.26755890250205994, точность : 0.8630059523809523\n",
      "  [Эпоха 7 из 10] потеря : 0.18138784170150757, точность : 0.8666071428571429\n",
      "  [Эпоха 8 из 10] потеря : 0.1624613106250763, точность : 0.8636011904761904\n",
      "  [Эпоха 9 из 10] потеря : 0.13253681361675262, точность : 0.8655654761904762\n",
      "  [Эпоха 10 из 10] потеря : 0.203603595495224, точность : 0.8630952380952381\n",
      "Точность сети : 0.8429761904761904\n"
     ]
    }
   ],
   "source": [
    "second_null_layered_perceptron = PyTorchPerceptron(show_status=True, layers=[], func=torch.nn.ReLU())\n",
    "second_null_layered_perceptron.fit(mnist_train_x, mnist_train_y)\n",
    "print(\"Точность сети : {}\".format(second_null_layered_perceptron.score(mnist_test_x, mnist_test_y)))"
   ]
  },
  {
   "cell_type": "markdown",
   "id": "673ab705",
   "metadata": {},
   "source": [
    "Функция активации : Tanh, количество внутренних слоев : 0"
   ]
  },
  {
   "cell_type": "code",
   "execution_count": 18,
   "id": "6a5570d4",
   "metadata": {
    "scrolled": true
   },
   "outputs": [
    {
     "name": "stdout",
     "output_type": "stream",
     "text": [
      "Создание сети :\n",
      "  Количество скрытых слоев     : 0\n",
      "  Количество входных нейронов  : 784\n",
      "  Koличество выходных нейронов : 10\n",
      "  Широты скрытых слоев         : []\n",
      "Обучение сети:\n",
      "  [Эпоха 1 из 10] потеря : 0.11693225055932999, точность : 0.8944642857142857\n",
      "  [Эпоха 2 из 10] потеря : 0.12001444399356842, точность : 0.9006845238095238\n",
      "  [Эпоха 3 из 10] потеря : 0.15896889567375183, точность : 0.8993154761904761\n",
      "  [Эпоха 4 из 10] потеря : 0.1511891931295395, точность : 0.8998809523809523\n",
      "  [Эпоха 5 из 10] потеря : 0.14177891612052917, точность : 0.8993452380952381\n",
      "  [Эпоха 6 из 10] потеря : 0.18151037395000458, точность : 0.8936904761904761\n",
      "  [Эпоха 7 из 10] потеря : 0.19154253602027893, точность : 0.9008630952380953\n",
      "  [Эпоха 8 из 10] потеря : 0.144303098320961, точность : 0.8989583333333333\n",
      "  [Эпоха 9 из 10] потеря : 0.16949476301670074, точность : 0.8983630952380952\n",
      "  [Эпоха 10 из 10] потеря : 0.16276392340660095, точность : 0.9030059523809524\n",
      "Точность сети : 0.881547619047619\n"
     ]
    }
   ],
   "source": [
    "third_null_layered_perceptron = PyTorchPerceptron(show_status=True, layers=[], func=torch.nn.Tanh())\n",
    "third_null_layered_perceptron.fit(mnist_train_x, mnist_train_y)\n",
    "print(\"Точность сети : {}\".format(third_null_layered_perceptron.score(mnist_test_x, mnist_test_y)))"
   ]
  },
  {
   "cell_type": "markdown",
   "id": "4dcba522",
   "metadata": {},
   "source": [
    "#### Двуслойные перцептроны\n",
    "\n",
    "Функция активации : Tanh, количество внутренних слоев : 1, широты : 15"
   ]
  },
  {
   "cell_type": "code",
   "execution_count": 19,
   "id": "fd9e7520",
   "metadata": {
    "scrolled": true
   },
   "outputs": [
    {
     "name": "stdout",
     "output_type": "stream",
     "text": [
      "Создание сети :\n",
      "  Количество скрытых слоев     : 1\n",
      "  Количество входных нейронов  : 784\n",
      "  Koличество выходных нейронов : 10\n",
      "  Широты скрытых слоев         : [15]\n",
      "Обучение сети:\n",
      "  [Эпоха 1 из 10] потеря : 0.13074979186058044, точность : 0.7427976190476191\n",
      "  [Эпоха 2 из 10] потеря : 0.15070505440235138, точность : 0.7715773809523809\n",
      "  [Эпоха 3 из 10] потеря : 0.14996960759162903, точность : 0.8055059523809524\n",
      "  [Эпоха 4 из 10] потеря : 0.11603017151355743, точность : 0.7698214285714285\n",
      "  [Эпоха 5 из 10] потеря : 0.14829924702644348, точность : 0.7812202380952381\n",
      "  [Эпоха 6 из 10] потеря : 0.13322731852531433, точность : 0.82\n",
      "  [Эпоха 7 из 10] потеря : 0.09883914142847061, точность : 0.8248511904761905\n",
      "  [Эпоха 8 из 10] потеря : 0.12328119575977325, точность : 0.8158035714285714\n",
      "  [Эпоха 9 из 10] потеря : 0.1295205056667328, точность : 0.82375\n",
      "  [Эпоха 10 из 10] потеря : 0.10952144861221313, точность : 0.8385119047619047\n",
      "Точность сети : 0.8322619047619048\n"
     ]
    }
   ],
   "source": [
    "first_one_layred_perceptron = PyTorchPerceptron(show_status=True, layers=[15], func=torch.nn.Tanh())\n",
    "first_one_layred_perceptron.fit(mnist_train_x, mnist_train_y)\n",
    "print(\"Точность сети : {}\".format(first_one_layred_perceptron.score(mnist_test_x, mnist_test_y)))"
   ]
  },
  {
   "cell_type": "markdown",
   "id": "7e897c08",
   "metadata": {},
   "source": [
    "Функция активации : Tanh, количество внутренних слоев : 1, широты : 30"
   ]
  },
  {
   "cell_type": "code",
   "execution_count": 20,
   "id": "683d808d",
   "metadata": {
    "scrolled": false
   },
   "outputs": [
    {
     "name": "stdout",
     "output_type": "stream",
     "text": [
      "Создание сети :\n",
      "  Количество скрытых слоев     : 1\n",
      "  Количество входных нейронов  : 784\n",
      "  Koличество выходных нейронов : 10\n",
      "  Широты скрытых слоев         : [30]\n",
      "Обучение сети:\n",
      "  [Эпоха 1 из 10] потеря : 0.1803145706653595, точность : 0.8382440476190476\n",
      "  [Эпоха 2 из 10] потеря : 0.16903774440288544, точность : 0.8500297619047619\n",
      "  [Эпоха 3 из 10] потеря : 0.1436193883419037, точность : 0.7862202380952381\n",
      "  [Эпоха 4 из 10] потеря : 0.12777088582515717, точность : 0.8472321428571429\n",
      "  [Эпоха 5 из 10] потеря : 0.09379762411117554, точность : 0.8052380952380952\n",
      "  [Эпоха 6 из 10] потеря : 0.03260938450694084, точность : 0.8675\n",
      "  [Эпоха 7 из 10] потеря : 0.07079783827066422, точность : 0.865\n",
      "  [Эпоха 8 из 10] потеря : 0.09945513308048248, точность : 0.8561904761904762\n",
      "  [Эпоха 9 из 10] потеря : 0.11728264391422272, точность : 0.8770833333333333\n",
      "  [Эпоха 10 из 10] потеря : 0.1012272834777832, точность : 0.8769047619047619\n",
      "Точность сети : 0.8646428571428572\n"
     ]
    }
   ],
   "source": [
    "second_one_layred_perceptron = PyTorchPerceptron(show_status=True, layers=[30], func=torch.nn.Tanh())\n",
    "second_one_layred_perceptron.fit(mnist_train_x, mnist_train_y)\n",
    "print(\"Точность сети : {}\".format(second_one_layred_perceptron.score(mnist_test_x, mnist_test_y)))"
   ]
  },
  {
   "cell_type": "markdown",
   "id": "c0059cfd",
   "metadata": {},
   "source": [
    "Функция активации : Sigmoid, количество внутренних слоев : 1, широты : 30"
   ]
  },
  {
   "cell_type": "code",
   "execution_count": 21,
   "id": "5e5b63c8",
   "metadata": {
    "scrolled": true
   },
   "outputs": [
    {
     "name": "stdout",
     "output_type": "stream",
     "text": [
      "Создание сети :\n",
      "  Количество скрытых слоев     : 1\n",
      "  Количество входных нейронов  : 784\n",
      "  Koличество выходных нейронов : 10\n",
      "  Широты скрытых слоев         : [30]\n",
      "Обучение сети:\n",
      "  [Эпоха 1 из 10] потеря : 0.19821114838123322, точность : 0.850625\n",
      "  [Эпоха 2 из 10] потеря : 0.11748024076223373, точность : 0.8386011904761905\n",
      "  [Эпоха 3 из 10] потеря : 0.19928069412708282, точность : 0.8332142857142857\n",
      "  [Эпоха 4 из 10] потеря : 0.10684899240732193, точность : 0.8632440476190476\n",
      "  [Эпоха 5 из 10] потеря : 0.09564422816038132, точность : 0.8753273809523809\n",
      "  [Эпоха 6 из 10] потеря : 0.15871953964233398, точность : 0.8848214285714285\n",
      "  [Эпоха 7 из 10] потеря : 0.14277133345603943, точность : 0.8953571428571429\n",
      "  [Эпоха 8 из 10] потеря : 0.1063060313463211, точность : 0.89875\n",
      "  [Эпоха 9 из 10] потеря : 0.13673067092895508, точность : 0.9096428571428572\n",
      "  [Эпоха 10 из 10] потеря : 0.09770935773849487, точность : 0.905\n",
      "Точность сети : 0.8898809523809523\n"
     ]
    }
   ],
   "source": [
    "third_one_layred_perceptron = PyTorchPerceptron(show_status=True, layers=[30])\n",
    "third_one_layred_perceptron.fit(mnist_train_x, mnist_train_y)\n",
    "print(\"Точность сети : {}\".format(third_one_layred_perceptron.score(mnist_test_x, mnist_test_y)))"
   ]
  },
  {
   "cell_type": "markdown",
   "id": "c3acbdf0",
   "metadata": {},
   "source": [
    "#### Трехслойные перцептроны\n",
    "\n",
    "Функция активации : Tanh, количество внутренних слоев : 2, широты : 30, 20"
   ]
  },
  {
   "cell_type": "code",
   "execution_count": 22,
   "id": "5cfd3494",
   "metadata": {},
   "outputs": [
    {
     "name": "stdout",
     "output_type": "stream",
     "text": [
      "Создание сети :\n",
      "  Количество скрытых слоев     : 2\n",
      "  Количество входных нейронов  : 784\n",
      "  Koличество выходных нейронов : 10\n",
      "  Широты скрытых слоев         : [30, 20]\n",
      "Обучение сети:\n",
      "  [Эпоха 1 из 10] потеря : 0.17947784066200256, точность : 0.4517559523809524\n",
      "  [Эпоха 2 из 10] потеря : 0.11741620302200317, точность : 0.5545833333333333\n",
      "  [Эпоха 3 из 10] потеря : 0.15232549607753754, точность : 0.6124107142857143\n",
      "  [Эпоха 4 из 10] потеря : 0.17000173032283783, точность : 0.6242261904761904\n",
      "  [Эпоха 5 из 10] потеря : 0.14435479044914246, точность : 0.6562202380952381\n",
      "  [Эпоха 6 из 10] потеря : 0.12733617424964905, точность : 0.6561011904761904\n",
      "  [Эпоха 7 из 10] потеря : 0.10445933043956757, точность : 0.7443154761904762\n",
      "  [Эпоха 8 из 10] потеря : 0.11811234056949615, точность : 0.787172619047619\n",
      "  [Эпоха 9 из 10] потеря : 0.18110641837120056, точность : 0.8232142857142857\n",
      "  [Эпоха 10 из 10] потеря : 0.15609970688819885, точность : 0.8401190476190477\n",
      "Точность сети : 0.8366666666666667\n"
     ]
    }
   ],
   "source": [
    "first_double_layred_perceptron = PyTorchPerceptron(show_status=True, layers=[30, 20])\n",
    "first_double_layred_perceptron.fit(mnist_train_x, mnist_train_y)\n",
    "print(\"Точность сети : {}\".format(first_double_layred_perceptron.score(mnist_test_x, mnist_test_y)))"
   ]
  },
  {
   "cell_type": "markdown",
   "id": "a17aaaf7",
   "metadata": {},
   "source": [
    "Функция активации : Sigmoid, количество внутренних слоев : 2, широты : 20, 15"
   ]
  },
  {
   "cell_type": "code",
   "execution_count": 23,
   "id": "e4379a01",
   "metadata": {
    "scrolled": true
   },
   "outputs": [
    {
     "name": "stdout",
     "output_type": "stream",
     "text": [
      "Создание сети :\n",
      "  Количество скрытых слоев     : 2\n",
      "  Количество входных нейронов  : 784\n",
      "  Koличество выходных нейронов : 10\n",
      "  Широты скрытых слоев         : [20, 15]\n",
      "Обучение сети:\n",
      "  [Эпоха 1 из 10] потеря : 0.16081346571445465, точность : 0.7061904761904761\n",
      "  [Эпоха 2 из 10] потеря : 0.10785601288080215, точность : 0.7221726190476191\n",
      "  [Эпоха 3 из 10] потеря : 0.10104911029338837, точность : 0.7838095238095238\n",
      "  [Эпоха 4 из 10] потеря : 0.17067250609397888, точность : 0.8119642857142857\n",
      "  [Эпоха 5 из 10] потеря : 0.104954794049263, точность : 0.8050595238095238\n",
      "  [Эпоха 6 из 10] потеря : 0.11324028670787811, точность : 0.8370238095238095\n",
      "  [Эпоха 7 из 10] потеря : 0.11172531545162201, точность : 0.8460119047619048\n",
      "  [Эпоха 8 из 10] потеря : 0.07875431329011917, точность : 0.8580654761904762\n",
      "  [Эпоха 9 из 10] потеря : 0.095058873295784, точность : 0.8681845238095238\n",
      "  [Эпоха 10 из 10] потеря : 0.10797853767871857, точность : 0.8726190476190476\n",
      "Точность сети : 0.865\n"
     ]
    }
   ],
   "source": [
    "second_double_layred_perceptron = PyTorchPerceptron(show_status=True, layers=[20, 15])\n",
    "second_double_layred_perceptron.fit(mnist_train_x, mnist_train_y)\n",
    "print(\"Точность сети : {}\".format(second_double_layred_perceptron.score(mnist_test_x, mnist_test_y)))"
   ]
  },
  {
   "cell_type": "markdown",
   "id": "83973a14",
   "metadata": {},
   "source": [
    "Функция активации : ELU, количество внутренних слоев : 2, широты : 20, 15"
   ]
  },
  {
   "cell_type": "code",
   "execution_count": 24,
   "id": "1332f947",
   "metadata": {
    "scrolled": true
   },
   "outputs": [
    {
     "name": "stdout",
     "output_type": "stream",
     "text": [
      "Создание сети :\n",
      "  Количество скрытых слоев     : 2\n",
      "  Количество входных нейронов  : 784\n",
      "  Koличество выходных нейронов : 10\n",
      "  Широты скрытых слоев         : [20, 15]\n",
      "Обучение сети:\n",
      "  [Эпоха 1 из 10] потеря : 0.12668220698833466, точность : 0.7812202380952381\n",
      "  [Эпоха 2 из 10] потеря : 0.14716269075870514, точность : 0.7893154761904762\n",
      "  [Эпоха 3 из 10] потеря : 0.12876936793327332, точность : 0.7354166666666667\n",
      "  [Эпоха 4 из 10] потеря : 0.0930977612733841, точность : 0.644702380952381\n",
      "  [Эпоха 5 из 10] потеря : 0.09466574341058731, точность : 0.6444940476190476\n",
      "  [Эпоха 6 из 10] потеря : 0.14931532740592957, точность : 0.6393154761904762\n",
      "  [Эпоха 7 из 10] потеря : 0.14495199918746948, точность : 0.6472619047619048\n",
      "  [Эпоха 8 из 10] потеря : 0.10895557701587677, точность : 0.6446428571428572\n",
      "  [Эпоха 9 из 10] потеря : 0.14211741089820862, точность : 0.6455952380952381\n",
      "  [Эпоха 10 из 10] потеря : 0.13947579264640808, точность : 0.6508630952380953\n",
      "Точность сети : 0.6419047619047619\n"
     ]
    }
   ],
   "source": [
    "third_double_layred_perceptron = PyTorchPerceptron(show_status=True, layers=[20, 15], func=torch.nn.ELU())\n",
    "third_double_layred_perceptron.fit(mnist_train_x, mnist_train_y)\n",
    "print(\"Точность сети : {}\".format(third_double_layred_perceptron.score(mnist_test_x, mnist_test_y)))"
   ]
  },
  {
   "cell_type": "markdown",
   "id": "4a76cec1",
   "metadata": {},
   "source": [
    "Функция активации : Softsign, количество внутренних слоев : 2, широты : 20, 15"
   ]
  },
  {
   "cell_type": "code",
   "execution_count": 25,
   "id": "2ab5272c",
   "metadata": {
    "scrolled": true
   },
   "outputs": [
    {
     "name": "stdout",
     "output_type": "stream",
     "text": [
      "Создание сети :\n",
      "  Количество скрытых слоев     : 2\n",
      "  Количество входных нейронов  : 784\n",
      "  Koличество выходных нейронов : 10\n",
      "  Широты скрытых слоев         : [20, 15]\n",
      "Обучение сети:\n",
      "  [Эпоха 1 из 10] потеря : 0.1464604139328003, точность : 0.7975\n",
      "  [Эпоха 2 из 10] потеря : 0.1352064311504364, точность : 0.8315476190476191\n",
      "  [Эпоха 3 из 10] потеря : 0.12568902969360352, точность : 0.809375\n",
      "  [Эпоха 4 из 10] потеря : 0.08594904839992523, точность : 0.8477678571428572\n",
      "  [Эпоха 5 из 10] потеря : 0.12205708026885986, точность : 0.8701190476190476\n",
      "  [Эпоха 6 из 10] потеря : 0.12221097946166992, точность : 0.8836607142857142\n",
      "  [Эпоха 7 из 10] потеря : 0.13639779388904572, точность : 0.8745535714285714\n",
      "  [Эпоха 8 из 10] потеря : 0.11891136318445206, точность : 0.875922619047619\n",
      "  [Эпоха 9 из 10] потеря : 0.1176663190126419, точность : 0.8730952380952381\n",
      "  [Эпоха 10 из 10] потеря : 0.04267604276537895, точность : 0.8720833333333333\n",
      "Точность сети : 0.8697619047619047\n"
     ]
    }
   ],
   "source": [
    "fourth_double_layred_perceptron = PyTorchPerceptron(show_status=True, layers=[20, 15], func=torch.nn.Softsign())\n",
    "fourth_double_layred_perceptron.fit(mnist_train_x, mnist_train_y)\n",
    "print(\"Точность сети : {}\".format(fourth_double_layred_perceptron.score(mnist_test_x, mnist_test_y)))"
   ]
  },
  {
   "cell_type": "markdown",
   "id": "77b4f252",
   "metadata": {},
   "source": [
    "### Тестирование FashionMNIST\n",
    "#### Однослойные перцептроны\n",
    "Функция активации : Softsign, количество внутренних слоев : 0"
   ]
  },
  {
   "cell_type": "code",
   "execution_count": 33,
   "id": "3b78da42",
   "metadata": {},
   "outputs": [
    {
     "name": "stdout",
     "output_type": "stream",
     "text": [
      "Создание сети :\n",
      "  Количество скрытых слоев     : 0\n",
      "  Количество входных нейронов  : 784\n",
      "  Koличество выходных нейронов : 10\n",
      "  Широты скрытых слоев         : []\n",
      "Обучение сети:\n",
      "  [Эпоха 1 из 25] потеря : 0.09079883247613907, точность : 0.8299833333333333\n",
      "  [Эпоха 2 из 25] потеря : 0.08306694030761719, точность : 0.8423\n",
      "  [Эпоха 3 из 25] потеря : 0.0791872963309288, точность : 0.8476333333333333\n",
      "  [Эпоха 4 из 25] потеря : 0.07679319381713867, точность : 0.8504666666666667\n",
      "  [Эпоха 5 из 25] потеря : 0.07514965534210205, точность : 0.8525166666666667\n",
      "  [Эпоха 6 из 25] потеря : 0.07393183559179306, точность : 0.8540333333333333\n",
      "  [Эпоха 7 из 25] потеря : 0.07297976315021515, точность : 0.8554166666666667\n",
      "  [Эпоха 8 из 25] потеря : 0.07220697402954102, точность : 0.8565833333333334\n",
      "  [Эпоха 9 из 25] потеря : 0.07156256586313248, точность : 0.8576333333333334\n",
      "  [Эпоха 10 из 25] потеря : 0.07101453840732574, точность : 0.8583666666666666\n",
      "  [Эпоха 11 из 25] потеря : 0.07054118812084198, точность : 0.8591833333333333\n",
      "  [Эпоха 12 из 25] потеря : 0.07012730836868286, точность : 0.8597666666666667\n",
      "  [Эпоха 13 из 25] потеря : 0.06976176798343658, точность : 0.86015\n",
      "  [Эпоха 14 из 25] потеря : 0.06943618506193161, точность : 0.8605666666666667\n",
      "  [Эпоха 15 из 25] потеря : 0.06914407759904861, точность : 0.8610666666666666\n",
      "  [Эпоха 16 из 25] потеря : 0.06888038665056229, точность : 0.86135\n",
      "  [Эпоха 17 из 25] потеря : 0.06864102929830551, точность : 0.8616666666666667\n",
      "  [Эпоха 18 из 25] потеря : 0.06842277199029922, точность : 0.8620666666666666\n",
      "  [Эпоха 19 из 25] потеря : 0.06822282820940018, точность : 0.8623833333333333\n",
      "  [Эпоха 20 из 25] потеря : 0.06803905963897705, точность : 0.8625833333333334\n",
      "  [Эпоха 21 из 25] потеря : 0.0678694024682045, точность : 0.8628833333333333\n",
      "  [Эпоха 22 из 25] потеря : 0.0677124634385109, точность : 0.8631166666666666\n",
      "  [Эпоха 23 из 25] потеря : 0.06756671518087387, точность : 0.8632166666666666\n",
      "  [Эпоха 24 из 25] потеря : 0.06743107736110687, точность : 0.8633\n",
      "  [Эпоха 25 из 25] потеря : 0.06730455905199051, точность : 0.8635333333333334\n",
      "Точность сети : 0.8396\n"
     ]
    }
   ],
   "source": [
    "first_null_layred_fm_perceptron = PyTorchPerceptron(show_status=True, layers=[], func=torch.nn.Softsign(), learning_rate = 0.001, epochs=25)\n",
    "first_null_layred_fm_perceptron.fit(fashion_mnist_train_x, fashion_mnist_train_y)\n",
    "print(\"Точность сети : {}\".format(first_null_layred_fm_perceptron.score(fashion_mnist_test_x, fashion_mnist_test_y)))"
   ]
  },
  {
   "cell_type": "markdown",
   "id": "231b654d",
   "metadata": {},
   "source": [
    "Функция активации : Sigmoid, количество внутренних слоев : 0"
   ]
  },
  {
   "cell_type": "code",
   "execution_count": 35,
   "id": "e513ce2c",
   "metadata": {},
   "outputs": [
    {
     "name": "stdout",
     "output_type": "stream",
     "text": [
      "Создание сети :\n",
      "  Количество скрытых слоев     : 0\n",
      "  Количество входных нейронов  : 784\n",
      "  Koличество выходных нейронов : 10\n",
      "  Широты скрытых слоев         : []\n",
      "Обучение сети:\n",
      "  [Эпоха 1 из 20] потеря : 0.09155615419149399, точность : 0.82985\n",
      "  [Эпоха 2 из 20] потеря : 0.08371435850858688, точность : 0.8418\n",
      "  [Эпоха 3 из 20] потеря : 0.07979384064674377, точность : 0.8477666666666667\n",
      "  [Эпоха 4 из 20] потеря : 0.07736137509346008, точность : 0.85025\n",
      "  [Эпоха 5 из 20] потеря : 0.07567839324474335, точность : 0.8522333333333333\n",
      "  [Эпоха 6 из 20] потеря : 0.07442181557416916, точность : 0.8539833333333333\n",
      "  [Эпоха 7 из 20] потеря : 0.07343263179063797, точность : 0.85545\n",
      "  [Эпоха 8 из 20] потеря : 0.07262498140335083, точность : 0.8567333333333333\n",
      "  [Эпоха 9 из 20] потеря : 0.07194830477237701, точность : 0.8574166666666667\n",
      "  [Эпоха 10 из 20] потеря : 0.07137057185173035, точность : 0.8582\n",
      "  [Эпоха 11 из 20] потеря : 0.07087008655071259, точность : 0.859\n",
      "  [Эпоха 12 из 20] потеря : 0.07043145596981049, точность : 0.8596\n",
      "  [Эпоха 13 из 20] потеря : 0.07004348933696747, точность : 0.8600833333333333\n",
      "  [Эпоха 14 из 20] потеря : 0.06969749182462692, точность : 0.8605666666666667\n",
      "  [Эпоха 15 из 20] потеря : 0.06938683241605759, точность : 0.8610333333333333\n",
      "  [Эпоха 16 из 20] потеря : 0.069106325507164, точность : 0.8613833333333333\n",
      "  [Эпоха 17 из 20] потеря : 0.06885172426700592, точность : 0.86165\n",
      "  [Эпоха 18 из 20] потеря : 0.06861954927444458, точность : 0.8621833333333333\n",
      "  [Эпоха 19 из 20] потеря : 0.06840699166059494, точность : 0.8624166666666667\n",
      "  [Эпоха 20 из 20] потеря : 0.06821170449256897, точность : 0.8624833333333334\n",
      "Точность сети : 0.8392\n"
     ]
    }
   ],
   "source": [
    "second_null_layred_fm_perceptron = PyTorchPerceptron(show_status=True, layers=[], learning_rate = 0.001, epochs=20)\n",
    "second_null_layred_fm_perceptron.fit(fashion_mnist_train_x, fashion_mnist_train_y)\n",
    "print(\"Точность сети : {}\".format(second_null_layred_fm_perceptron.score(fashion_mnist_test_x, fashion_mnist_test_y)))"
   ]
  },
  {
   "cell_type": "markdown",
   "id": "1e33e907",
   "metadata": {},
   "source": [
    "Функция активации : Tanh, количество внутренних слоев : 0"
   ]
  },
  {
   "cell_type": "code",
   "execution_count": 36,
   "id": "051d8920",
   "metadata": {},
   "outputs": [
    {
     "name": "stdout",
     "output_type": "stream",
     "text": [
      "Создание сети :\n",
      "  Количество скрытых слоев     : 0\n",
      "  Количество входных нейронов  : 784\n",
      "  Koличество выходных нейронов : 10\n",
      "  Широты скрытых слоев         : []\n",
      "Обучение сети:\n",
      "  [Эпоха 1 из 10] потеря : 0.09108049422502518, точность : 0.8293666666666667\n",
      "  [Эпоха 2 из 10] потеря : 0.08313193917274475, точность : 0.84225\n",
      "  [Эпоха 3 из 10] потеря : 0.07925044745206833, точность : 0.8476833333333333\n",
      "  [Эпоха 4 из 10] потеря : 0.07688187062740326, точность : 0.8506166666666667\n",
      "  [Эпоха 5 из 10] потеря : 0.07526281476020813, точность : 0.8523166666666666\n",
      "  [Эпоха 6 из 10] потеря : 0.07406337559223175, точность : 0.8538833333333333\n",
      "  [Эпоха 7 из 10] потеря : 0.07312346249818802, точность : 0.8553666666666667\n",
      "  [Эпоха 8 из 10] потеря : 0.07235777378082275, точность : 0.8567666666666667\n",
      "  [Эпоха 9 из 10] потеря : 0.07171665877103806, точность : 0.8576166666666667\n",
      "  [Эпоха 10 из 10] потеря : 0.07116904854774475, точность : 0.8582833333333333\n",
      "Точность сети : 0.8371\n"
     ]
    }
   ],
   "source": [
    "second_null_layred_fm_perceptron = PyTorchPerceptron(show_status=True, layers=[], func=torch.nn.Tanh(), learning_rate=0.001)\n",
    "second_null_layred_fm_perceptron.fit(fashion_mnist_train_x, fashion_mnist_train_y)\n",
    "print(\"Точность сети : {}\".format(second_null_layred_fm_perceptron.score(fashion_mnist_test_x, fashion_mnist_test_y)))"
   ]
  },
  {
   "cell_type": "markdown",
   "id": "ec347b60",
   "metadata": {},
   "source": [
    "#### Двуслойные перцептроны\n",
    "Функция активации : Sigmoid, количество внутренних слоев : 1, широты : 30"
   ]
  },
  {
   "cell_type": "code",
   "execution_count": 38,
   "id": "664961c9",
   "metadata": {},
   "outputs": [
    {
     "name": "stdout",
     "output_type": "stream",
     "text": [
      "Создание сети :\n",
      "  Количество скрытых слоев     : 1\n",
      "  Количество входных нейронов  : 784\n",
      "  Koличество выходных нейронов : 10\n",
      "  Широты скрытых слоев         : [30]\n",
      "Обучение сети:\n",
      "  [Эпоха 1 из 20] потеря : 0.07969056814908981, точность : 0.83195\n",
      "  [Эпоха 2 из 20] потеря : 0.06028369814157486, точность : 0.8562333333333333\n",
      "  [Эпоха 3 из 20] потеря : 0.05213577672839165, точность : 0.8661166666666666\n",
      "  [Эпоха 4 из 20] потеря : 0.047642651945352554, точность : 0.8715\n",
      "  [Эпоха 5 из 20] потеря : 0.04488314315676689, точность : 0.8758333333333334\n",
      "  [Эпоха 6 из 20] потеря : 0.04239954799413681, точность : 0.8785666666666667\n",
      "  [Эпоха 7 из 20] потеря : 0.04026580601930618, точность : 0.8812833333333333\n",
      "  [Эпоха 8 из 20] потеря : 0.03871724382042885, точность : 0.8833166666666666\n",
      "  [Эпоха 9 из 20] потеря : 0.03757768124341965, точность : 0.8852833333333333\n",
      "  [Эпоха 10 из 20] потеря : 0.036443620920181274, точность : 0.8877333333333334\n",
      "  [Эпоха 11 из 20] потеря : 0.035143036395311356, точность : 0.8894333333333333\n",
      "  [Эпоха 12 из 20] потеря : 0.03378768265247345, точность : 0.8910166666666667\n",
      "  [Эпоха 13 из 20] потеря : 0.03248529136180878, точность : 0.8927833333333334\n",
      "  [Эпоха 14 из 20] потеря : 0.03131250664591789, точность : 0.8941\n",
      "  [Эпоха 15 из 20] потеря : 0.03024890646338463, точность : 0.8953333333333333\n",
      "  [Эпоха 16 из 20] потеря : 0.02924531139433384, точность : 0.89615\n",
      "  [Эпоха 17 из 20] потеря : 0.028283243998885155, точность : 0.897\n",
      "  [Эпоха 18 из 20] потеря : 0.02736693248152733, точность : 0.8980833333333333\n",
      "  [Эпоха 19 из 20] потеря : 0.026484090834856033, точность : 0.8985333333333333\n",
      "  [Эпоха 20 из 20] потеря : 0.025630751624703407, точность : 0.89925\n",
      "Точность сети : 0.8657\n"
     ]
    }
   ],
   "source": [
    "first_one_layred_fm_perceptron = PyTorchPerceptron(show_status=True, layers=[30], epochs=20, learning_rate=0.001)\n",
    "first_one_layred_fm_perceptron.fit(fashion_mnist_train_x, fashion_mnist_train_y)\n",
    "print(\"Точность сети : {}\".format(first_one_layred_fm_perceptron.score(fashion_mnist_test_x, fashion_mnist_test_y)))"
   ]
  },
  {
   "cell_type": "markdown",
   "id": "5642151e",
   "metadata": {},
   "source": [
    "Функция активации : Sigmoid, количество внутренних слоев : 1, широты : 50"
   ]
  },
  {
   "cell_type": "code",
   "execution_count": 39,
   "id": "06043465",
   "metadata": {},
   "outputs": [
    {
     "name": "stdout",
     "output_type": "stream",
     "text": [
      "Создание сети :\n",
      "  Количество скрытых слоев     : 1\n",
      "  Количество входных нейронов  : 784\n",
      "  Koличество выходных нейронов : 10\n",
      "  Широты скрытых слоев         : [50]\n",
      "Обучение сети:\n",
      "  [Эпоха 1 из 20] потеря : 0.07014402747154236, точность : 0.84425\n",
      "  [Эпоха 2 из 20] потеря : 0.057749342173337936, точность : 0.8628833333333333\n",
      "  [Эпоха 3 из 20] потеря : 0.04937632381916046, точность : 0.8722333333333333\n",
      "  [Эпоха 4 из 20] потеря : 0.0437469407916069, точность : 0.8785666666666667\n",
      "  [Эпоха 5 из 20] потеря : 0.03998696431517601, точность : 0.8829333333333333\n",
      "  [Эпоха 6 из 20] потеря : 0.037875398993492126, точность : 0.887\n",
      "  [Эпоха 7 из 20] потеря : 0.03563845902681351, точность : 0.8902333333333333\n",
      "  [Эпоха 8 из 20] потеря : 0.03406795486807823, точность : 0.89285\n",
      "  [Эпоха 9 из 20] потеря : 0.03291849419474602, точность : 0.8945833333333333\n",
      "  [Эпоха 10 из 20] потеря : 0.03154469281435013, точность : 0.8961666666666667\n",
      "  [Эпоха 11 из 20] потеря : 0.03007172979414463, точность : 0.89735\n",
      "  [Эпоха 12 из 20] потеря : 0.028755296021699905, точность : 0.8989\n",
      "  [Эпоха 13 из 20] потеря : 0.027488267049193382, точность : 0.8998666666666667\n",
      "  [Эпоха 14 из 20] потеря : 0.026329945772886276, точность : 0.9010833333333333\n",
      "  [Эпоха 15 из 20] потеря : 0.025378305464982986, точность : 0.9023\n",
      "  [Эпоха 16 из 20] потеря : 0.024732941761612892, точность : 0.9034833333333333\n",
      "  [Эпоха 17 из 20] потеря : 0.024270610883831978, точность : 0.9043833333333333\n",
      "  [Эпоха 18 из 20] потеря : 0.023809019476175308, точность : 0.9053333333333333\n",
      "  [Эпоха 19 из 20] потеря : 0.023268546909093857, точность : 0.9064666666666666\n",
      "  [Эпоха 20 из 20] потеря : 0.022516723722219467, точность : 0.9075666666666666\n",
      "Точность сети : 0.8736\n"
     ]
    }
   ],
   "source": [
    "second_one_layred_fm_perceptron = PyTorchPerceptron(show_status=True, layers=[50], learning_rate=0.001, epochs=20)\n",
    "second_one_layred_fm_perceptron.fit(fashion_mnist_train_x, fashion_mnist_train_y)\n",
    "print(\"Точность сети : {}\".format(second_one_layred_fm_perceptron.score(fashion_mnist_test_x, fashion_mnist_test_y)))"
   ]
  },
  {
   "cell_type": "markdown",
   "id": "26aec4d0",
   "metadata": {},
   "source": [
    "Функция активации : ReLU, количество внутренних слоев : 1, широты : 100"
   ]
  },
  {
   "cell_type": "code",
   "execution_count": 40,
   "id": "dc8b044d",
   "metadata": {},
   "outputs": [
    {
     "name": "stdout",
     "output_type": "stream",
     "text": [
      "Создание сети :\n",
      "  Количество скрытых слоев     : 1\n",
      "  Количество входных нейронов  : 784\n",
      "  Koличество выходных нейронов : 10\n",
      "  Широты скрытых слоев         : [100]\n",
      "Обучение сети:\n",
      "  [Эпоха 1 из 20] потеря : 0.07049179077148438, точность : 0.8315166666666667\n",
      "  [Эпоха 2 из 20] потеря : 0.055889684706926346, точность : 0.8501833333333333\n",
      "  [Эпоха 3 из 20] потеря : 0.04497046023607254, точность : 0.8593\n",
      "  [Эпоха 4 из 20] потеря : 0.042487841099500656, точность : 0.86615\n",
      "  [Эпоха 5 из 20] потеря : 0.033567093312740326, точность : 0.8733833333333333\n",
      "  [Эпоха 6 из 20] потеря : 0.02858072891831398, точность : 0.87605\n",
      "  [Эпоха 7 из 20] потеря : 0.025537440553307533, точность : 0.87995\n",
      "  [Эпоха 8 из 20] потеря : 0.02300747111439705, точность : 0.8826666666666667\n",
      "  [Эпоха 9 из 20] потеря : 0.02047577127814293, точность : 0.8847833333333334\n",
      "  [Эпоха 10 из 20] потеря : 0.0201055146753788, точность : 0.88635\n",
      "  [Эпоха 11 из 20] потеря : 0.019111238420009613, точность : 0.8903666666666666\n",
      "  [Эпоха 12 из 20] потеря : 0.017353031784296036, точность : 0.8921333333333333\n",
      "  [Эпоха 13 из 20] потеря : 0.016706008464097977, точность : 0.8927\n",
      "  [Эпоха 14 из 20] потеря : 0.01569833979010582, точность : 0.8955833333333333\n",
      "  [Эпоха 15 из 20] потеря : 0.015562419779598713, точность : 0.8950166666666667\n",
      "  [Эпоха 16 из 20] потеря : 0.01246766559779644, точность : 0.90065\n",
      "  [Эпоха 17 из 20] потеря : 0.01304667443037033, точность : 0.8991166666666667\n",
      "  [Эпоха 18 из 20] потеря : 0.011006148532032967, точность : 0.9014333333333333\n",
      "  [Эпоха 19 из 20] потеря : 0.012522069737315178, точность : 0.9023333333333333\n",
      "  [Эпоха 20 из 20] потеря : 0.00923903938382864, точность : 0.9027833333333334\n",
      "Точность сети : 0.8613\n"
     ]
    }
   ],
   "source": [
    "third_one_layred_fm_perceptron = PyTorchPerceptron(show_status=True, layers=[100], learning_rate=0.001, epochs=20, func=torch.nn.ReLU())\n",
    "third_one_layred_fm_perceptron.fit(fashion_mnist_train_x, fashion_mnist_train_y)\n",
    "print(\"Точность сети : {}\".format(third_one_layred_fm_perceptron.score(fashion_mnist_test_x, fashion_mnist_test_y)))"
   ]
  },
  {
   "cell_type": "markdown",
   "id": "48ba157a",
   "metadata": {},
   "source": [
    "### Тестирование CIFAR-10\n",
    "\n",
    "Функция активации : Sigmoid, количество внутренних слоев : 1, широты : 1000"
   ]
  },
  {
   "cell_type": "code",
   "execution_count": 41,
   "id": "47359c79",
   "metadata": {
    "scrolled": true
   },
   "outputs": [
    {
     "name": "stdout",
     "output_type": "stream",
     "text": [
      "Создание сети :\n",
      "  Количество скрытых слоев     : 2\n",
      "  Количество входных нейронов  : 1024\n",
      "  Koличество выходных нейронов : 10\n",
      "  Широты скрытых слоев         : [324, 100]\n",
      "Обучение сети:\n",
      "  [Эпоха 1 из 50] потеря : 0.3123238682746887, точность : 0.12534\n",
      "  [Эпоха 2 из 50] потеря : 0.31243205070495605, точность : 0.13698\n",
      "  [Эпоха 3 из 50] потеря : 0.3161100149154663, точность : 0.14214\n",
      "  [Эпоха 4 из 50] потеря : 0.3170483708381653, точность : 0.14672\n",
      "  [Эпоха 5 из 50] потеря : 0.3160596787929535, точность : 0.15004\n",
      "  [Эпоха 6 из 50] потеря : 0.3143133521080017, точность : 0.1523\n",
      "  [Эпоха 7 из 50] потеря : 0.3114965856075287, точность : 0.15444\n",
      "  [Эпоха 8 из 50] потеря : 0.31114324927330017, точность : 0.15614\n",
      "  [Эпоха 9 из 50] потеря : 0.310397207736969, точность : 0.15868\n",
      "  [Эпоха 10 из 50] потеря : 0.30918049812316895, точность : 0.15918\n",
      "  [Эпоха 11 из 50] потеря : 0.30773696303367615, точность : 0.16084\n",
      "  [Эпоха 12 из 50] потеря : 0.30636459589004517, точность : 0.16196\n",
      "  [Эпоха 13 из 50] потеря : 0.30506160855293274, точность : 0.16312\n",
      "  [Эпоха 14 из 50] потеря : 0.30432000756263733, точность : 0.1645\n",
      "  [Эпоха 15 из 50] потеря : 0.30430442094802856, точность : 0.1649\n",
      "  [Эпоха 16 из 50] потеря : 0.3027651906013489, точность : 0.16682\n",
      "  [Эпоха 17 из 50] потеря : 0.3017973303794861, точность : 0.1687\n",
      "  [Эпоха 18 из 50] потеря : 0.30146118998527527, точность : 0.16964\n",
      "  [Эпоха 19 из 50] потеря : 0.30052533745765686, точность : 0.17052\n",
      "  [Эпоха 20 из 50] потеря : 0.29900968074798584, точность : 0.17186\n",
      "  [Эпоха 21 из 50] потеря : 0.2976377606391907, точность : 0.17326\n",
      "  [Эпоха 22 из 50] потеря : 0.29594582319259644, точность : 0.17392\n",
      "  [Эпоха 23 из 50] потеря : 0.2955458462238312, точность : 0.17454\n",
      "  [Эпоха 24 из 50] потеря : 0.2944667935371399, точность : 0.17536\n",
      "  [Эпоха 25 из 50] потеря : 0.2930128574371338, точность : 0.17664\n",
      "  [Эпоха 26 из 50] потеря : 0.29079940915107727, точность : 0.17818\n",
      "  [Эпоха 27 из 50] потеря : 0.2882031202316284, точность : 0.17962\n",
      "  [Эпоха 28 из 50] потеря : 0.285710871219635, точность : 0.181\n",
      "  [Эпоха 29 из 50] потеря : 0.2849106192588806, точность : 0.18258\n",
      "  [Эпоха 30 из 50] потеря : 0.2825639843940735, точность : 0.18344\n",
      "  [Эпоха 31 из 50] потеря : 0.280956894159317, точность : 0.18474\n",
      "  [Эпоха 32 из 50] потеря : 0.27963709831237793, точность : 0.18572\n",
      "  [Эпоха 33 из 50] потеря : 0.27774009108543396, точность : 0.18686\n",
      "  [Эпоха 34 из 50] потеря : 0.2769206166267395, точность : 0.18792\n",
      "  [Эпоха 35 из 50] потеря : 0.27527570724487305, точность : 0.18836\n",
      "  [Эпоха 36 из 50] потеря : 0.27436167001724243, точность : 0.1894\n",
      "  [Эпоха 37 из 50] потеря : 0.2729836106300354, точность : 0.19\n",
      "  [Эпоха 38 из 50] потеря : 0.2726582884788513, точность : 0.19086\n",
      "  [Эпоха 39 из 50] потеря : 0.2710278332233429, точность : 0.19192\n",
      "  [Эпоха 40 из 50] потеря : 0.269918292760849, точность : 0.1933\n",
      "  [Эпоха 41 из 50] потеря : 0.26922541856765747, точность : 0.19436\n",
      "  [Эпоха 42 из 50] потеря : 0.2676979601383209, точность : 0.19494\n",
      "  [Эпоха 43 из 50] потеря : 0.26654306054115295, точность : 0.19578\n",
      "  [Эпоха 44 из 50] потеря : 0.2675217390060425, точность : 0.1965\n",
      "  [Эпоха 45 из 50] потеря : 0.26507920026779175, точность : 0.19762\n",
      "  [Эпоха 46 из 50] потеря : 0.2641446888446808, точность : 0.19772\n",
      "  [Эпоха 47 из 50] потеря : 0.26414427161216736, точность : 0.19864\n",
      "  [Эпоха 48 из 50] потеря : 0.26217347383499146, точность : 0.19956\n",
      "  [Эпоха 49 из 50] потеря : 0.2613924741744995, точность : 0.1999\n",
      "  [Эпоха 50 из 50] потеря : 0.26034116744995117, точность : 0.20082\n"
     ]
    },
    {
     "data": {
      "text/plain": [
       "PyTorchPerceptron(\n",
       "  (func): Tanh()\n",
       "  (net): Sequential(\n",
       "    (0): Linear(in_features=1024, out_features=324, bias=True)\n",
       "    (1): Tanh()\n",
       "    (2): Linear(in_features=324, out_features=100, bias=True)\n",
       "    (3): Tanh()\n",
       "    (4): Linear(in_features=100, out_features=10, bias=True)\n",
       "  )\n",
       ")"
      ]
     },
     "execution_count": 41,
     "metadata": {},
     "output_type": "execute_result"
    }
   ],
   "source": [
    "first_null_cf_perceptron = PyTorchPerceptron(show_status=True, layers=[324, 100], learning_rate=0.0001, epochs=50, func=torch.nn.Tanh())\n",
    "first_null_cf_perceptron.fit(cifar_train_x, cifar_train_y)"
   ]
  },
  {
   "cell_type": "code",
   "execution_count": 42,
   "id": "3efb2693",
   "metadata": {
    "scrolled": true
   },
   "outputs": [
    {
     "name": "stdout",
     "output_type": "stream",
     "text": [
      "Точность сети : 0.4546\n",
      "Confusion matrix :\n",
      "[[457  21  73  35  50  19   6  35  70  26]\n",
      " [ 55 586  41  51  47  43  29  38  73 214]\n",
      " [ 33   9 239  48  92  45  35  33   8   6]\n",
      " [ 35  29 123 347  75 246 119  64  37  36]\n",
      " [ 30   9 115  31 291  45  73  50  11   4]\n",
      " [ 18  15  69 161  58 289  60  60  26  13]\n",
      " [ 31  20 159 123 184 112 573  53  11  29]\n",
      " [ 57  42 113  86 143 123  46 566  24  52]\n",
      " [235  91  38  39  38  38  20  31 677  99]\n",
      " [ 49 178  30  79  22  40  39  70  63 521]]\n"
     ]
    }
   ],
   "source": [
    "print(\"Точность сети : {}\".format(first_null_cf_perceptron.score(cifar_test_x, cifar_test_y)))\n",
    "print(\"Confusion matrix :\")\n",
    "print(first_null_cf_perceptron.confusion_matrix(cifar_test_x, cifar_test_y))"
   ]
  },
  {
   "cell_type": "code",
   "execution_count": 43,
   "id": "b8270468",
   "metadata": {
    "scrolled": true
   },
   "outputs": [
    {
     "name": "stdout",
     "output_type": "stream",
     "text": [
      "Создание сети :\n",
      "  Количество скрытых слоев     : 0\n",
      "  Количество входных нейронов  : 1024\n",
      "  Koличество выходных нейронов : 10\n",
      "  Широты скрытых слоев         : []\n",
      "Обучение сети:\n",
      "  [Эпоха 1 из 50] потеря : 0.32779645919799805, точность : 0.1293\n",
      "  [Эпоха 2 из 50] потеря : 0.32791846990585327, точность : 0.13514\n",
      "  [Эпоха 3 из 50] потеря : 0.32798218727111816, точность : 0.13846\n",
      "  [Эпоха 4 из 50] потеря : 0.32790249586105347, точность : 0.14046\n",
      "  [Эпоха 5 из 50] потеря : 0.32774168252944946, точность : 0.14192\n",
      "  [Эпоха 6 из 50] потеря : 0.32754138112068176, точность : 0.14286\n",
      "  [Эпоха 7 из 50] потеря : 0.3273232579231262, точность : 0.14404\n",
      "  [Эпоха 8 из 50] потеря : 0.3270980715751648, точность : 0.14498\n",
      "  [Эпоха 9 из 50] потеря : 0.3268715739250183, точность : 0.14574\n",
      "  [Эпоха 10 из 50] потеря : 0.32664695382118225, точность : 0.1462\n",
      "  [Эпоха 11 из 50] потеря : 0.3264257311820984, точность : 0.14708\n",
      "  [Эпоха 12 из 50] потеря : 0.3262089490890503, точность : 0.14756\n",
      "  [Эпоха 13 из 50] потеря : 0.3259969651699066, точность : 0.14832\n",
      "  [Эпоха 14 из 50] потеря : 0.32579007744789124, точность : 0.149\n",
      "  [Эпоха 15 из 50] потеря : 0.32558828592300415, точность : 0.14942\n",
      "  [Эпоха 16 из 50] потеря : 0.32539162039756775, точность : 0.14972\n",
      "  [Эпоха 17 из 50] потеря : 0.32520002126693726, точность : 0.15\n",
      "  [Эпоха 18 из 50] потеря : 0.3250133693218231, точность : 0.15066\n",
      "  [Эпоха 19 из 50] потеря : 0.3248315453529358, точность : 0.15096\n",
      "  [Эпоха 20 из 50] потеря : 0.32465440034866333, точность : 0.15134\n",
      "  [Эпоха 21 из 50] потеря : 0.3244818150997162, точность : 0.15142\n",
      "  [Эпоха 22 из 50] потеря : 0.32431358098983765, точность : 0.15192\n",
      "  [Эпоха 23 из 50] потеря : 0.32414960861206055, точность : 0.15228\n",
      "  [Эпоха 24 из 50] потеря : 0.3239898085594177, точность : 0.15242\n",
      "  [Эпоха 25 из 50] потеря : 0.32383400201797485, точность : 0.15268\n",
      "  [Эпоха 26 из 50] потеря : 0.3236820101737976, точность : 0.15284\n",
      "  [Эпоха 27 из 50] потеря : 0.3235337734222412, точность : 0.15314\n",
      "  [Эпоха 28 из 50] потеря : 0.32338911294937134, точность : 0.15346\n",
      "  [Эпоха 29 из 50] потеря : 0.3232479691505432, точность : 0.15368\n",
      "  [Эпоха 30 из 50] потеря : 0.3231102526187897, точность : 0.1538\n",
      "  [Эпоха 31 из 50] потеря : 0.322975754737854, точность : 0.15434\n",
      "  [Эпоха 32 из 50] потеря : 0.32284441590309143, точность : 0.15472\n",
      "  [Эпоха 33 из 50] потеря : 0.3227161467075348, точность : 0.15486\n",
      "  [Эпоха 34 из 50] потеря : 0.32259082794189453, точность : 0.15528\n",
      "  [Эпоха 35 из 50] потеря : 0.3224683403968811, точность : 0.15526\n",
      "  [Эпоха 36 из 50] потеря : 0.3223487138748169, точность : 0.1558\n",
      "  [Эпоха 37 из 50] потеря : 0.3222317099571228, точность : 0.15578\n",
      "  [Эпоха 38 из 50] потеря : 0.32211732864379883, точность : 0.15594\n",
      "  [Эпоха 39 из 50] потеря : 0.3220055103302002, точность : 0.156\n",
      "  [Эпоха 40 из 50] потеря : 0.3218960762023926, точность : 0.1563\n",
      "  [Эпоха 41 из 50] потеря : 0.321789026260376, точность : 0.15622\n",
      "  [Эпоха 42 из 50] потеря : 0.3216842710971832, точность : 0.15638\n",
      "  [Эпоха 43 из 50] потеря : 0.32158178091049194, точность : 0.15636\n",
      "  [Эпоха 44 из 50] потеря : 0.3214814066886902, точность : 0.15652\n",
      "  [Эпоха 45 из 50] потеря : 0.32138317823410034, точность : 0.15652\n",
      "  [Эпоха 46 из 50] потеря : 0.3212868869304657, точность : 0.15666\n",
      "  [Эпоха 47 из 50] потеря : 0.3211926221847534, точность : 0.15692\n",
      "  [Эпоха 48 из 50] потеря : 0.32110026478767395, точность : 0.1569\n",
      "  [Эпоха 49 из 50] потеря : 0.3210097551345825, точность : 0.15702\n",
      "  [Эпоха 50 из 50] потеря : 0.32092103362083435, точность : 0.15702\n"
     ]
    },
    {
     "data": {
      "text/plain": [
       "PyTorchPerceptron(\n",
       "  (func): Tanh()\n",
       "  (net): Sequential(\n",
       "    (0): Linear(in_features=1024, out_features=10, bias=True)\n",
       "  )\n",
       ")"
      ]
     },
     "execution_count": 43,
     "metadata": {},
     "output_type": "execute_result"
    }
   ],
   "source": [
    "second_null_cf_perceptron = PyTorchPerceptron(show_status=True, layers=[], learning_rate=0.0001, epochs=50, func=torch.nn.Tanh())\n",
    "second_null_cf_perceptron.fit(cifar_train_x, cifar_train_y)"
   ]
  },
  {
   "cell_type": "code",
   "execution_count": 44,
   "id": "243811cd",
   "metadata": {},
   "outputs": [
    {
     "name": "stdout",
     "output_type": "stream",
     "text": [
      "Точность сети : 0.3045\n",
      "Confusion matrix :\n",
      "[[243  30  71  29  46  19  13  35  42  34]\n",
      " [ 58 394  52  70  50  53  74  52  75 147]\n",
      " [  1   0  18   9  11   4   8   5   0   1]\n",
      " [133  89 273 357 282 273 349 161  73  58]\n",
      " [  1   1  16   3  46   7   9  14   0   1]\n",
      " [ 48  69 155 270 159 374 171 140  57  39]\n",
      " [ 11  23  98  32 120  29 210  21   2  24]\n",
      " [ 53  42 117  56 152  98  61 318  12  38]\n",
      " [386 206 159  99  96 106  66 113 663 236]\n",
      " [ 66 146  41  75  38  37  39 141  76 422]]\n"
     ]
    }
   ],
   "source": [
    "print(\"Точность сети : {}\".format(second_null_cf_perceptron.score(cifar_test_x, cifar_test_y)))\n",
    "print(\"Confusion matrix :\")\n",
    "print(second_null_cf_perceptron.confusion_matrix(cifar_test_x, cifar_test_y))"
   ]
  },
  {
   "cell_type": "markdown",
   "id": "bb0a432f",
   "metadata": {},
   "source": [
    "### Выводы\n",
    "\n",
    "#### Итоги тестирования\n",
    "\n",
    "Приведем итоговую таблицу тестрования нейросетей различной конфигурации для различных датасетов. (Лучшие нейросети выделены жирным шрифтом)\n",
    "\n",
    "| № | Кол-во слоев | Широты | Фун-я активации | Скорость обучения | Кол-во эпох | Тестовая точность (%) | Датасет |\n",
    "|:-:|:-:|:-:|:-:|:-:|:-:|:-:|:-:|\n",
    "| 1| 1| 784| Sigmoid| 0.05| 10| 87.761| MNIST|\n",
    "| 2| 1| 784| ReLU| 0.05| 10| 84.297| MNIST |\n",
    "|**3**| **1**| **784**| **Tanh**| **0.05**| **10**| **88.154**| **MNIST** |\n",
    "| 4| 2| 784-15| Tanh| 0.05| 10| 83.226| MNIST |\n",
    "| 5| 2| 784-30| Tanh| 0.05| 10| 86.464| MNIST |\n",
    "| **6**| **2**| **784-30**| **Sigmoid**| **0.05**| **10**| **88.988**| **MNIST**|\n",
    "| 7| 3| 784-30-20| Tanh| 0.05| 10| 83.666| MNIST |\n",
    "| 8| 3| 784-20-15| Sigmoid| 0.05| 10| 86.500| MNIST |\n",
    "| 9| 3| 784-20-15| ELU| 0.05| 10| 64.190| MNIST |\n",
    "| **10**| **3**| **784-20-15**| **Softsign**| **0.05**| **10**| **86.976**| **MNIST** |\n",
    "| **11**| **1**| **784** | **Softsign**| **0.001**| **25**| **83.960**| **FashionMNIST** |\n",
    "| 12| 1| 784 | Sigmoid | 0.001| 20| 83.920| FashionMNIST |\n",
    "| 13| 1| 784 | Tanh | 0.001| 10| 83.710| FashionMNIST |\n",
    "| 14| 2| 784-30 | Sigmoid | 0.001| 20| 86.570| FashionMNIST |\n",
    "| **15**| **2**| **784-50** | **Sigmoid** | **0.001**| **20**| **87.360**| **FashionMNIST** |\n",
    "| 16| 2| 784-100 | ReLU | 0.001| 20| 86.13| FashionMNIST |\n",
    "| 17| 2| 1024-324-100| Sigmoid | 0.0001| 50| 45.46| CIFAR-10|\n",
    "| 18| 1| 1024 | Sigmoid | 0.0001| 50| 30.450| CIFAR-10|\n",
    "\n",
    "Распечатаем Confusion maxtrix для нейросетей, которые наиболее удачно справились с задачей."
   ]
  },
  {
   "cell_type": "code",
   "execution_count": 48,
   "id": "7315b3b1",
   "metadata": {
    "scrolled": true
   },
   "outputs": [
    {
     "name": "stdout",
     "output_type": "stream",
     "text": [
      "Confusion matrix MNIST\n",
      "[[799   0  13   6   5   6   9   4   6  10]\n",
      " [  0 915   5   4  10   2   1   3  14   3]\n",
      " [  4   8 741  45  12   8   6  15   4   5]\n",
      " [  3   7   7 648   4  21   0   2   7   7]\n",
      " [  1   0   4   2 637   9   1   5   0  13]\n",
      " [  3  10  12  51  19 669  17   2  40  31]\n",
      " [ 15   3   9   7   3   6 769   2   7   0]\n",
      " [  0   1   9  11   8   7   1 795   4  32]\n",
      " [  8  12  29  77  17  34  19   7 729  26]\n",
      " [  0   1   0  18  79   9   1  39   8 703]]\n",
      "\n",
      "Confusion matrix FashionMNIST\n",
      "[[862   4  20  22   0   0 165   0   4   0]\n",
      " [  1 962   2   2   0   0   4   0   1   0]\n",
      " [ 21   1 781  13  98   0 111   0   6   0]\n",
      " [ 42  21  21 916  38   1  36   0   7   0]\n",
      " [  5   7 128  27 829   0 107   0   5   0]\n",
      " [  2   0   0   0   0 936   0   9   2   7]\n",
      " [ 58   4  45  14  31   0 565   0   5   1]\n",
      " [  0   0   0   0   0  39   0 970   4  43]\n",
      " [  9   1   3   6   4   2  12   0 966   0]\n",
      " [  0   0   0   0   0  22   0  21   0 949]]\n"
     ]
    }
   ],
   "source": [
    "print('Confusion matrix MNIST')\n",
    "print(third_null_layered_perceptron.confusion_matrix(mnist_test_x, mnist_test_y))\n",
    "print()\n",
    "print('Confusion matrix FashionMNIST')\n",
    "print(second_one_layred_fm_perceptron.confusion_matrix(fashion_mnist_test_x, fashion_mnist_test_y))"
   ]
  },
  {
   "cell_type": "markdown",
   "id": "8281beaa",
   "metadata": {},
   "source": [
    "В ходе лабораторной работы удалось реализовать несколько простых нейросетей с использованием фреймворка для создания нейросетей - PyTorch. Нейросети были обучены и протестированы на разных датасетаx: MNIST, FashionMNIST и CIFAR-10.\n",
    "Результаты тестирования на датасетах MNIST и FashionMNIST довольно хорошие (>80%). К сожалению на датасете CIFAR-10 результаты довольно низкие, это связано с тем, что для классификации данного датасета нужно использовать сверточные слои."
   ]
  }
 ],
 "metadata": {
  "kernelspec": {
   "display_name": "Python 3",
   "language": "python",
   "name": "python3"
  },
  "language_info": {
   "codemirror_mode": {
    "name": "ipython",
    "version": 3
   },
   "file_extension": ".py",
   "mimetype": "text/x-python",
   "name": "python",
   "nbconvert_exporter": "python",
   "pygments_lexer": "ipython3",
   "version": "3.8.8"
  }
 },
 "nbformat": 4,
 "nbformat_minor": 5
}
