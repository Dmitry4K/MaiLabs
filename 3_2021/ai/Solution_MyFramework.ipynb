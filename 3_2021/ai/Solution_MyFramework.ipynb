{
 "cells": [
  {
   "cell_type": "markdown",
   "metadata": {
    "scrolled": true
   },
   "source": [
    "## Лабораторная работа по курсу \\\"Искусственный интеллект\\\"\n",
    "## Многослойный персептрон\n",
    "###  Собственная реализация\n",
    "\n",
    "| Студент | Коростелев Дмитрий |\n",
    "|---------|--------|\n",
    "| Группа  | М8О-308Б-18      |"
   ]
  },
  {
   "cell_type": "markdown",
   "metadata": {},
   "source": [
    "## Настройка среды\n",
    "\n",
    "Устанавливаем все необходимый библиотеки: pandas, numpy, os, pickle"
   ]
  },
  {
   "cell_type": "code",
   "execution_count": 1,
   "metadata": {
    "scrolled": false
   },
   "outputs": [
    {
     "name": "stdout",
     "output_type": "stream",
     "text": [
      "Requirement already satisfied: pandas in d:\\programs\\anaconda\\lib\\site-packages (1.2.4)Note: you may need to restart the kernel to use updated packages.\n",
      "Requirement already satisfied: numpy>=1.16.5 in d:\\programs\\anaconda\\lib\\site-packages (from pandas) (1.20.1)\n",
      "Requirement already satisfied: python-dateutil>=2.7.3 in d:\\programs\\anaconda\\lib\\site-packages (from pandas) (2.8.1)\n",
      "Requirement already satisfied: pytz>=2017.3 in d:\\programs\\anaconda\\lib\\site-packages (from pandas) (2021.1)\n",
      "Requirement already satisfied: six>=1.5 in d:\\programs\\anaconda\\lib\\site-packages (from python-dateutil>=2.7.3->pandas) (1.15.0)\n",
      "\n"
     ]
    }
   ],
   "source": [
    "%pip install pandas\n",
    "import pickle\n",
    "import os\n",
    "import numpy as np \n",
    "import matplotlib.pyplot as plt\n",
    "from sklearn.model_selection import train_test_split"
   ]
  },
  {
   "cell_type": "markdown",
   "metadata": {},
   "source": [
    "## Подготовка датасетов\n",
    "Объявим некоторые функции для анализа датасетов"
   ]
  },
  {
   "cell_type": "code",
   "execution_count": 2,
   "metadata": {},
   "outputs": [],
   "source": [
    "def count_of_keys(df):\n",
    "    unique = np.unique(df)\n",
    "    counts = np.zeros(len(unique), dtype=np.int32)\n",
    "    for v in df:\n",
    "        counts[v] += 1\n",
    "    return counts\n",
    "def visualization_of_counts(df):\n",
    "    counts = count_of_keys(df)\n",
    "    plt.ylabel(\"Кол-во элементов в классе\")\n",
    "    plt.xlabel(\"Номер каждого класса\")\n",
    "    plt.bar(np.arange(len(counts)), counts)\n",
    "    plt.xticks(np.arange(len(counts)), [i for i in range(len(counts))])\n",
    "def analyze(labels, features, string :str):\n",
    "    visualization_of_counts(labels)\n",
    "    print(\"Данные для [{}]\".format(string))\n",
    "    print(\"Количество элементов в датасете : {}\".format(len(labels)))\n",
    "    print(\"Количество атрибутов в элементе : {}\".format(len(features[0])))\n",
    "    print(\"Минимальное значение атрибута   : {}\".format(np.min(features)))\n",
    "    print(\"Максимальное значение атрибута  : {}\".format(np.max(features)))\n",
    "    print()"
   ]
  },
  {
   "cell_type": "markdown",
   "metadata": {},
   "source": [
    "### MNIST\n",
    "\n",
    "Датасет содержит черно-белые картинки, на которых изображены цифры. "
   ]
  },
  {
   "cell_type": "code",
   "execution_count": 3,
   "metadata": {
    "scrolled": true
   },
   "outputs": [
    {
     "name": "stdout",
     "output_type": "stream",
     "text": [
      "dict_keys(['Train'])\n"
     ]
    }
   ],
   "source": [
    "with open('mnist.pkl', 'rb') as mnist_pickle:\n",
    "    MNIST = pickle.load(mnist_pickle)\n",
    "print(MNIST.keys())"
   ]
  },
  {
   "cell_type": "code",
   "execution_count": 4,
   "metadata": {},
   "outputs": [
    {
     "name": "stdout",
     "output_type": "stream",
     "text": [
      "dict_keys(['Labels', 'Features'])\n"
     ]
    }
   ],
   "source": [
    "print(MNIST['Train'].keys())"
   ]
  },
  {
   "cell_type": "code",
   "execution_count": 5,
   "metadata": {},
   "outputs": [
    {
     "name": "stdout",
     "output_type": "stream",
     "text": [
      "Данные для [MNIST]\n",
      "Количество элементов в датасете : 42000\n",
      "Количество атрибутов в элементе : 784\n",
      "Минимальное значение атрибута   : 0\n",
      "Максимальное значение атрибута  : 255\n",
      "\n",
      "Данные для [Обучающая выборка из MNIST]\n",
      "Количество элементов в датасете : 33600\n",
      "Количество атрибутов в элементе : 784\n",
      "Минимальное значение атрибута   : 0.0\n",
      "Максимальное значение атрибута  : 1.0\n",
      "\n",
      "Данные для [Тестировочная выборка из MNIST]\n",
      "Количество элементов в датасете : 8400\n",
      "Количество атрибутов в элементе : 784\n",
      "Минимальное значение атрибута   : 0.0\n",
      "Максимальное значение атрибута  : 1.0\n",
      "\n"
     ]
    },
    {
     "data": {
      "image/png": "[encoded data removed]",
      "text/plain": [
       "<Figure size 432x288 with 1 Axes>"
      ]
     },
     "metadata": {
      "needs_background": "light"
     },
     "output_type": "display_data"
    }
   ],
   "source": [
    "def conv_df(df):\n",
    "    return np.array(df).astype(np.float32)/255\n",
    "\n",
    "analyze(MNIST['Train']['Labels'], MNIST['Train']['Features'], \"MNIST\")\n",
    "\n",
    "features = conv_df(MNIST['Train']['Features'])\n",
    "labels = MNIST['Train']['Labels']\n",
    "\n",
    "mnist_train_x, mnist_test_x, mnist_train_y, mnist_test_y = train_test_split(features,labels,test_size=0.2)\n",
    "\n",
    "analyze(mnist_train_y, mnist_train_x, \"Обучающая выборка из MNIST\")\n",
    "analyze(mnist_test_y, mnist_test_x, \"Тестировочная выборка из MNIST\")"
   ]
  },
  {
   "cell_type": "markdown",
   "metadata": {},
   "source": [
    "Подготовили датасет для тестирования, приведем его основные размеры"
   ]
  },
  {
   "cell_type": "code",
   "execution_count": 6,
   "metadata": {
    "scrolled": true
   },
   "outputs": [
    {
     "name": "stdout",
     "output_type": "stream",
     "text": [
      "Размер обучающей выборки : 33600\n",
      "Размер тестовой выборки  : 8400\n",
      "Размер датасета MNIST    : 42000\n"
     ]
    }
   ],
   "source": [
    "print(\"Размер обучающей выборки : {}\".format(len(mnist_train_x)))\n",
    "print(\"Размер тестовой выборки  : {}\".format(len(mnist_test_x)))\n",
    "print(\"Размер датасета MNIST    : {}\".format(len(features)))"
   ]
  },
  {
   "cell_type": "markdown",
   "metadata": {},
   "source": [
    "### FashionMNIST"
   ]
  },
  {
   "cell_type": "code",
   "execution_count": 7,
   "metadata": {
    "scrolled": true
   },
   "outputs": [
    {
     "name": "stdout",
     "output_type": "stream",
     "text": [
      "C:\\Users\\Admin\\fashion-mnist\\utils\n",
      "C:\\Users\\Admin\\fashion-mnist\n",
      "C:\\Users\\Admin\n"
     ]
    }
   ],
   "source": [
    "%cd fashion-mnist/utils\n",
    "import mnist_reader\n",
    "%cd ..\n",
    "fashion_mnist_train_x_raw, fashion_mnist_train_y = mnist_reader.load_mnist('data/fashion', kind='train')\n",
    "fashion_mnist_test_x_raw, fashion_mnist_test_y = mnist_reader.load_mnist('data/fashion', kind='t10k')\n",
    "%cd .."
   ]
  },
  {
   "cell_type": "code",
   "execution_count": 8,
   "metadata": {},
   "outputs": [
    {
     "name": "stdout",
     "output_type": "stream",
     "text": [
      "Данные для [Обучающая выборка из Fashion MNIST]\n",
      "Количество элементов в датасете : 60000\n",
      "Количество атрибутов в элементе : 784\n",
      "Минимальное значение атрибута   : 0\n",
      "Максимальное значение атрибута  : 255\n",
      "\n",
      "Данные для [Тестировочная выборка из Fashion MNIST]\n",
      "Количество элементов в датасете : 10000\n",
      "Количество атрибутов в элементе : 784\n",
      "Минимальное значение атрибута   : 0\n",
      "Максимальное значение атрибута  : 255\n",
      "\n"
     ]
    },
    {
     "data": {
      "image/png": "[encoded data removed]",
      "text/plain": [
       "<Figure size 432x288 with 1 Axes>"
      ]
     },
     "metadata": {
      "needs_background": "light"
     },
     "output_type": "display_data"
    }
   ],
   "source": [
    "analyze(fashion_mnist_train_y, fashion_mnist_train_x_raw, \"Обучающая выборка из Fashion MNIST\")\n",
    "analyze(fashion_mnist_test_y, fashion_mnist_test_x_raw, \"Тестировочная выборка из Fashion MNIST\")"
   ]
  },
  {
   "cell_type": "markdown",
   "metadata": {},
   "source": [
    "Так как каждое значение картинки имеет значение от 0 до 255, переведем данные значения в числа с плавающей точкой от 0 до 1."
   ]
  },
  {
   "cell_type": "code",
   "execution_count": 9,
   "metadata": {},
   "outputs": [],
   "source": [
    "fashion_mnist_train_x = conv_df(fashion_mnist_train_x_raw)\n",
    "fashion_mnist_test_x  = conv_df(fashion_mnist_test_x_raw)"
   ]
  },
  {
   "cell_type": "code",
   "execution_count": 10,
   "metadata": {
    "scrolled": true
   },
   "outputs": [
    {
     "name": "stdout",
     "output_type": "stream",
     "text": [
      "[0.         0.         0.         0.         0.         0.\n",
      " 0.         0.         0.         0.         0.         0.\n",
      " 0.         0.         0.         0.         0.         0.\n",
      " 0.         0.         0.         0.         0.         0.\n",
      " 0.         0.         0.         0.         0.         0.\n",
      " 0.         0.         0.         0.         0.         0.\n",
      " 0.         0.         0.         0.         0.         0.\n",
      " 0.         0.         0.         0.         0.         0.\n",
      " 0.         0.         0.         0.         0.         0.\n",
      " 0.         0.         0.         0.         0.         0.\n",
      " 0.         0.         0.         0.         0.         0.\n",
      " 0.         0.         0.         0.         0.         0.\n",
      " 0.         0.         0.         0.         0.         0.\n",
      " 0.         0.         0.         0.         0.         0.\n",
      " 0.         0.         0.         0.         0.         0.\n",
      " 0.         0.         0.         0.         0.         0.\n",
      " 0.00392157 0.         0.         0.05098039 0.28627452 0.\n",
      " 0.         0.00392157 0.01568628 0.         0.         0.\n",
      " 0.         0.00392157 0.00392157 0.         0.         0.\n",
      " 0.         0.         0.         0.         0.         0.\n",
      " 0.         0.         0.         0.         0.01176471 0.\n",
      " 0.14117648 0.53333336 0.49803922 0.24313726 0.21176471 0.\n",
      " 0.         0.         0.00392157 0.01176471 0.01568628 0.\n",
      " 0.         0.01176471 0.         0.         0.         0.\n",
      " 0.         0.         0.         0.         0.         0.\n",
      " 0.         0.         0.02352941 0.         0.4        0.8\n",
      " 0.6901961  0.5254902  0.5647059  0.48235294 0.09019608 0.\n",
      " 0.         0.         0.         0.04705882 0.03921569 0.\n",
      " 0.         0.         0.         0.         0.         0.\n",
      " 0.         0.         0.         0.         0.         0.\n",
      " 0.         0.         0.60784316 0.9254902  0.8117647  0.69803923\n",
      " 0.41960785 0.6117647  0.6313726  0.42745098 0.2509804  0.09019608\n",
      " 0.3019608  0.50980395 0.28235295 0.05882353 0.         0.\n",
      " 0.         0.         0.         0.         0.         0.\n",
      " 0.         0.         0.         0.00392157 0.         0.27058825\n",
      " 0.8117647  0.8745098  0.85490197 0.84705883 0.84705883 0.6392157\n",
      " 0.49803922 0.4745098  0.47843137 0.57254905 0.5529412  0.34509805\n",
      " 0.6745098  0.25882354 0.         0.         0.         0.\n",
      " 0.         0.         0.         0.         0.         0.00392157\n",
      " 0.00392157 0.00392157 0.         0.78431374 0.9098039  0.9098039\n",
      " 0.9137255  0.8980392  0.8745098  0.8745098  0.84313726 0.8352941\n",
      " 0.6431373  0.49803922 0.48235294 0.76862746 0.8980392  0.\n",
      " 0.         0.         0.         0.         0.         0.\n",
      " 0.         0.         0.         0.         0.         0.\n",
      " 0.         0.7176471  0.88235295 0.84705883 0.8745098  0.89411765\n",
      " 0.92156863 0.8901961  0.8784314  0.87058824 0.8784314  0.8666667\n",
      " 0.8745098  0.9607843  0.6784314  0.         0.         0.\n",
      " 0.         0.         0.         0.         0.         0.\n",
      " 0.         0.         0.         0.         0.         0.75686276\n",
      " 0.89411765 0.85490197 0.8352941  0.7764706  0.7058824  0.83137256\n",
      " 0.8235294  0.827451   0.8352941  0.8745098  0.8627451  0.9529412\n",
      " 0.7921569  0.         0.         0.         0.         0.\n",
      " 0.         0.         0.         0.         0.         0.00392157\n",
      " 0.01176471 0.         0.04705882 0.85882354 0.8627451  0.83137256\n",
      " 0.85490197 0.7529412  0.6627451  0.8901961  0.8156863  0.85490197\n",
      " 0.8784314  0.83137256 0.8862745  0.77254903 0.81960785 0.20392157\n",
      " 0.         0.         0.         0.         0.         0.\n",
      " 0.         0.         0.         0.         0.02352941 0.\n",
      " 0.3882353  0.95686275 0.87058824 0.8627451  0.85490197 0.79607844\n",
      " 0.7764706  0.8666667  0.84313726 0.8352941  0.87058824 0.8627451\n",
      " 0.9607843  0.46666667 0.654902   0.21960784 0.         0.\n",
      " 0.         0.         0.         0.         0.         0.\n",
      " 0.         0.01568628 0.         0.         0.21568628 0.9254902\n",
      " 0.89411765 0.9019608  0.89411765 0.9411765  0.9098039  0.8352941\n",
      " 0.85490197 0.8745098  0.91764706 0.8509804  0.8509804  0.81960785\n",
      " 0.36078432 0.         0.         0.         0.00392157 0.01568628\n",
      " 0.02352941 0.02745098 0.00784314 0.         0.         0.\n",
      " 0.         0.         0.92941177 0.8862745  0.8509804  0.8745098\n",
      " 0.87058824 0.85882354 0.87058824 0.8666667  0.84705883 0.8745098\n",
      " 0.8980392  0.84313726 0.85490197 1.         0.3019608  0.\n",
      " 0.         0.01176471 0.         0.         0.         0.\n",
      " 0.         0.         0.         0.24313726 0.5686275  0.8\n",
      " 0.89411765 0.8117647  0.8352941  0.8666667  0.85490197 0.8156863\n",
      " 0.827451   0.85490197 0.8784314  0.8745098  0.85882354 0.84313726\n",
      " 0.8784314  0.95686275 0.62352943 0.         0.         0.\n",
      " 0.         0.         0.07058824 0.17254902 0.32156864 0.41960785\n",
      " 0.7411765  0.89411765 0.8627451  0.87058824 0.8509804  0.8862745\n",
      " 0.78431374 0.8039216  0.827451   0.9019608  0.8784314  0.91764706\n",
      " 0.6901961  0.7372549  0.98039216 0.972549   0.9137255  0.93333334\n",
      " 0.84313726 0.         0.         0.22352941 0.73333335 0.8156863\n",
      " 0.8784314  0.8666667  0.8784314  0.8156863  0.8        0.8392157\n",
      " 0.8156863  0.81960785 0.78431374 0.62352943 0.9607843  0.75686276\n",
      " 0.80784315 0.8745098  1.         1.         0.8666667  0.91764706\n",
      " 0.8666667  0.827451   0.8627451  0.9098039  0.9647059  0.\n",
      " 0.01176471 0.7921569  0.89411765 0.8784314  0.8666667  0.827451\n",
      " 0.827451   0.8392157  0.8039216  0.8039216  0.8039216  0.8627451\n",
      " 0.9411765  0.3137255  0.5882353  1.         0.8980392  0.8666667\n",
      " 0.7372549  0.6039216  0.7490196  0.8235294  0.8        0.81960785\n",
      " 0.87058824 0.89411765 0.88235295 0.         0.38431373 0.9137255\n",
      " 0.7764706  0.8235294  0.87058824 0.8980392  0.8980392  0.91764706\n",
      " 0.9764706  0.8627451  0.7607843  0.84313726 0.8509804  0.94509804\n",
      " 0.25490198 0.28627452 0.41568628 0.45882353 0.65882355 0.85882354\n",
      " 0.8666667  0.84313726 0.8509804  0.8745098  0.8745098  0.8784314\n",
      " 0.8980392  0.11372549 0.29411766 0.8        0.83137256 0.8\n",
      " 0.75686276 0.8039216  0.827451   0.88235295 0.84705883 0.7254902\n",
      " 0.77254903 0.80784315 0.7764706  0.8352941  0.9411765  0.7647059\n",
      " 0.8901961  0.9607843  0.9372549  0.8745098  0.85490197 0.83137256\n",
      " 0.81960785 0.87058824 0.8627451  0.8666667  0.9019608  0.2627451\n",
      " 0.1882353  0.79607844 0.7176471  0.7607843  0.8352941  0.77254903\n",
      " 0.7254902  0.74509805 0.7607843  0.7529412  0.7921569  0.8392157\n",
      " 0.85882354 0.8666667  0.8627451  0.9254902  0.88235295 0.84705883\n",
      " 0.78039217 0.80784315 0.7294118  0.70980394 0.69411767 0.6745098\n",
      " 0.70980394 0.8039216  0.80784315 0.4509804  0.         0.47843137\n",
      " 0.85882354 0.75686276 0.7019608  0.67058825 0.7176471  0.76862746\n",
      " 0.8        0.8235294  0.8352941  0.8117647  0.827451   0.8235294\n",
      " 0.78431374 0.76862746 0.7607843  0.7490196  0.7647059  0.7490196\n",
      " 0.7764706  0.7529412  0.6901961  0.6117647  0.654902   0.69411767\n",
      " 0.8235294  0.36078432 0.         0.         0.2901961  0.7411765\n",
      " 0.83137256 0.7490196  0.6862745  0.6745098  0.6862745  0.70980394\n",
      " 0.7254902  0.7372549  0.7411765  0.7372549  0.75686276 0.7764706\n",
      " 0.8        0.81960785 0.8235294  0.8235294  0.827451   0.7372549\n",
      " 0.7372549  0.7607843  0.7529412  0.84705883 0.6666667  0.\n",
      " 0.00784314 0.         0.         0.         0.25882354 0.78431374\n",
      " 0.87058824 0.92941177 0.9372549  0.9490196  0.9647059  0.9529412\n",
      " 0.95686275 0.8666667  0.8627451  0.75686276 0.7490196  0.7019608\n",
      " 0.7137255  0.7137255  0.70980394 0.6901961  0.6509804  0.65882355\n",
      " 0.3882353  0.22745098 0.         0.         0.         0.\n",
      " 0.         0.         0.         0.         0.         0.15686275\n",
      " 0.23921569 0.17254902 0.28235295 0.16078432 0.13725491 0.\n",
      " 0.         0.         0.         0.         0.         0.\n",
      " 0.         0.         0.         0.         0.         0.\n",
      " 0.         0.         0.         0.         0.         0.\n",
      " 0.         0.         0.         0.         0.         0.\n",
      " 0.         0.         0.         0.         0.         0.\n",
      " 0.         0.         0.         0.         0.         0.\n",
      " 0.         0.         0.         0.         0.         0.\n",
      " 0.         0.         0.         0.         0.         0.\n",
      " 0.         0.         0.         0.         0.         0.\n",
      " 0.         0.         0.         0.         0.         0.\n",
      " 0.         0.         0.         0.         0.         0.\n",
      " 0.         0.         0.         0.        ]\n"
     ]
    }
   ],
   "source": [
    "print(fashion_mnist_train_x[0])"
   ]
  },
  {
   "cell_type": "code",
   "execution_count": 11,
   "metadata": {},
   "outputs": [
    {
     "name": "stdout",
     "output_type": "stream",
     "text": [
      "Размерр датасета Fashion MNIST : 70000\n"
     ]
    }
   ],
   "source": [
    "print(\"Размерр датасета Fashion MNIST : {}\".format(len(fashion_mnist_test_x) + len(fashion_mnist_train_x)))"
   ]
  },
  {
   "cell_type": "markdown",
   "metadata": {},
   "source": [
    "## Нейронная сеть (Перцептрон)\n",
    "\n",
    "### Основные компоненты сети\n",
    "\n",
    "Так как нейронную сеть можно представить в виде последовательности объектов, которые осуществляют взаимодействие межу собой, будем формировать нейросеть из объектов с методами forward и backward. Методы forward будут использоваться для получения результатов от нейросети, т.е. будет осуществляться прямая прогонка, а методы backward - для осуществления обратного прохода, который будет использоваться для обучения сети.\n",
    "\n",
    "Базовую нейросеть можно представить в виде последовательности классов, приведенных ниже"
   ]
  },
  {
   "cell_type": "code",
   "execution_count": 12,
   "metadata": {},
   "outputs": [],
   "source": [
    "class Softmax:\n",
    "    def forward(self,z):\n",
    "        self.z = z\n",
    "        zmax = z.max(axis=1,keepdims=True)\n",
    "        expz = np.exp(z-zmax)\n",
    "        Z = expz.sum(axis=1,keepdims=True)\n",
    "        return expz / Z\n",
    "    def backward(self,dp):\n",
    "        p = self.forward(self.z)\n",
    "        pdp = p * dp\n",
    "        return pdp - p * pdp.sum(axis=1, keepdims=True)\n",
    "    \n",
    "class CrossEntropyLoss:\n",
    "    def forward(self,p,y):\n",
    "        self.p = p\n",
    "        self.y = y\n",
    "        p_of_y = p[np.arange(len(y)), y]\n",
    "        log_prob = np.log(p_of_y)\n",
    "        return -log_prob.mean()\n",
    "    def backward(self,loss):\n",
    "        dlog_softmax = np.zeros_like(self.p)\n",
    "        dlog_softmax[np.arange(len(self.y)), self.y] -= 1.0/len(self.y)\n",
    "        return dlog_softmax / self.p\n",
    "    \n",
    "class Linear:\n",
    "    def __init__(self,nin,nout):\n",
    "        self.W = np.random.normal(0, 1.0/np.sqrt(nin), (nout, nin))\n",
    "        self.b = np.zeros((1,nout))\n",
    "        self.dW = np.zeros_like(self.W)\n",
    "        self.db = np.zeros_like(self.b)\n",
    "        \n",
    "    def forward(self, x):\n",
    "        self.x=x\n",
    "        return np.dot(x, self.W.T) + self.b\n",
    "    \n",
    "    def backward(self, dz):\n",
    "        dx = np.dot(dz, self.W)\n",
    "        dW = np.dot(dz.T, self.x)\n",
    "        db = dz.sum(axis=0)\n",
    "        self.dW = dW\n",
    "        self.db = db\n",
    "        return dx\n",
    "    \n",
    "    def update(self,lr):\n",
    "        self.W -= lr*self.dW\n",
    "        self.b -= lr*self.db\n",
    "\n",
    "class Net:\n",
    "    def __init__(self):\n",
    "        self.layers = []\n",
    "    \n",
    "    def add(self,l):\n",
    "        self.layers.append(l)\n",
    "        \n",
    "    def forward(self,x):\n",
    "        for l in self.layers:\n",
    "            x = l.forward(x)\n",
    "        return x\n",
    "    \n",
    "    def backward(self,z):\n",
    "        for l in self.layers[::-1]:\n",
    "            z = l.backward(z)\n",
    "        return z\n",
    "    \n",
    "    def update(self,lr):\n",
    "        for l in self.layers:\n",
    "            if 'update' in l.__dir__():\n",
    "                l.update(lr)\n",
    "                \n",
    "class Tanh:\n",
    "    def forward(self,x):\n",
    "        y = np.tanh(x)\n",
    "        self.y = y\n",
    "        return y\n",
    "    def backward(self,dy):\n",
    "        return (1.0-self.y**2)*dy\n",
    "    def copy(self):\n",
    "        return Tanh()"
   ]
  },
  {
   "cell_type": "markdown",
   "metadata": {},
   "source": [
    "Реализуем простую обертку над этимb классами, при помощи которой можно будет реализовать многослойный перцептрон, задав всего несколько параметров. Данный класс будет иметь зависимости от класса Net, а саму сеть можно представить следующим образом:\n",
    "\n",
    "\\[Слой нейросети\\] <-> \\[Функция активации\\] <->  ... <-> \\[Функция активации\\] <-> \\[SoftMax\\] <-> \\[Функция ошибки\\] "
   ]
  },
  {
   "cell_type": "markdown",
   "metadata": {},
   "source": [
    "### Класс Perceptron\n",
    "\n",
    "Класс Perceptron имеет множество необязательных аргументов, которые могут быть отрегулированы программистом (Программист может использовать собственные реализации функции активации, функции потерь, функции softmax и функции потерь). Кроме того программист может передать базовый Python список, в котором будут находится широты внутренних слоев нейросети. Таким образом при помощи одного списка задается кол-во скрытых слоев и их конфигурация.\n",
    "\n",
    "Процесс обучения вынесен в отдельную функцию fit (как в sklearn), кроме того пользователь может просто предоставить данные нейросети и сам класс вычислит количество входных и выходных нейронов.\n",
    "\n",
    "Таким образом, чтобы создаь нейроосеть при помощи моего фреймворка достаточно задать широты внутренних нейронов и передать данные для обучения нейросети."
   ]
  },
  {
   "cell_type": "code",
   "execution_count": 13,
   "metadata": {
    "scrolled": true
   },
   "outputs": [],
   "source": [
    "class Perceptron:\n",
    "    def __init__(self, learning_rate=0.1,epochs=10, soft=Softmax(),act_func=Tanh(),\n",
    "                layers=[5], loss_func=CrossEntropyLoss(),show_status=False):\n",
    "        self.learning_rate=learning_rate\n",
    "        self.epochs=epochs\n",
    "        self.softmax=soft\n",
    "        self.act_func=act_func\n",
    "        self.layers=layers\n",
    "        self.loss_function=loss_func\n",
    "        self.show_status=show_status\n",
    "        self.level=0\n",
    "     \n",
    "    def status_print(self, msg, level=-1):\n",
    "        if level == -1:\n",
    "            level = self.level\n",
    "        print(\"  \"*level + msg)\n",
    "    def create_net(self, X, Y):\n",
    "        self.net = Net()\n",
    "        #узнаем ширину слоев нейросети\n",
    "        layers_settings = self.layers.copy()\n",
    "        layers_settings.insert(0, len(X[0]))\n",
    "        layers_settings.append(len(np.unique(Y)))\n",
    "        self.classes_count = layers_settings[-1]\n",
    "        if self.show_status:\n",
    "            self.status_print(\"Создание сети :\")\n",
    "            self.level += 1\n",
    "            self.status_print(\"Количество скрытых слоев     : {}\".format(len(layers_settings)-2))\n",
    "            self.status_print(\"Количество входных нейронов  : {}\".format(layers_settings[0]))\n",
    "            self.status_print(\"Koличество выходных нейронов : {}\".format(layers_settings[-1]))\n",
    "            self.status_print(\"Широты скрытых слоев         : {}\".format(self.layers))\n",
    "            self.level -= 1\n",
    "            \n",
    "        #конфигурация нейросети слоями\n",
    "        for i in range(len(layers_settings)-2):\n",
    "            self.net.add(Linear(layers_settings[i], layers_settings[i+1]))\n",
    "            self.net.add(self.act_func.copy())\n",
    "        #добавляем выходной слой и softmax\n",
    "        self.net.add(Linear(layers_settings[-2], layers_settings[-1]))\n",
    "        self.net.add(self.softmax)\n",
    "        return self    \n",
    "    \n",
    "    # надо как-то обучить перцептрон\n",
    "    def fit(self, X,Y):\n",
    "        #создадим нейросеть\n",
    "        self.create_net(X,Y)\n",
    "        #процесс обучения сети\n",
    "        \n",
    "        if self.show_status:\n",
    "            self.level = 0\n",
    "            self.status_print(\"Обучение сети:\")\n",
    "            self.level += 1\n",
    "            \n",
    "        for epoch in range(1, self.epochs + 1):\n",
    "            \n",
    "            \n",
    "            self.train_epoch(X, Y)\n",
    "            if self.show_status:\n",
    "                self.status_print(\"[Эпоха {} из {}] потеря : {}, точность : {}\".format(epoch, self.epochs, *(self.score(X,Y))))\n",
    "        return self\n",
    "\n",
    "    def train_epoch(self, train_x, train_y, batch_size=4):\n",
    "        net = self.net\n",
    "        loss = self.loss_function\n",
    "        lr = self.learning_rate\n",
    "        for i in range(0,len(train_x),batch_size):\n",
    "            xb = train_x[i:i+batch_size]\n",
    "            yb = train_y[i:i+batch_size]\n",
    "\n",
    "            p = net.forward(xb)\n",
    "            l = loss.forward(p,yb)\n",
    "            dp = loss.backward(l)\n",
    "            dx = net.backward(dp)\n",
    "            net.update(lr)  \n",
    "\n",
    "    #вычисление вроятнсотей принадлжения каждому возможному классу\n",
    "    def predict_prob(self, X):\n",
    "        return self.net.forward(X)\n",
    "    \n",
    "    #выдаем наиболее вероятный класс (его номер)\n",
    "    def predict(self, X):\n",
    "        return np.argmax(self.predict_prob(X))\n",
    "    \n",
    "    def score(self, X,Y, calculate_confusion_matrix=False):\n",
    "        p = self.net.forward(X)\n",
    "        l = self.loss_function.forward(p,Y)\n",
    "        pred = np.argmax(p,axis=1)\n",
    "        acc = (pred==Y).mean()\n",
    "        confusion_matrix=[]\n",
    "        if calculate_confusion_matrix:\n",
    "            confusion_matrix = np.zeros((self.classes_count, self.classes_count), dtype=np.int32)\n",
    "            for prd, act in zip (pred, Y):\n",
    "                confusion_matrix[prd][act] += 1\n",
    "        return l,acc, confusion_matrix"
   ]
  },
  {
   "cell_type": "markdown",
   "metadata": {},
   "source": [
    "## Тестирование"
   ]
  },
  {
   "cell_type": "markdown",
   "metadata": {},
   "source": [
    "### Теститрование на датасете MNIST\n",
    "Конфигурировать сети будем внутренними слоями с различными широтами."
   ]
  },
  {
   "cell_type": "markdown",
   "metadata": {},
   "source": [
    "#### Однослойный перцептрон #### "
   ]
  },
  {
   "cell_type": "code",
   "execution_count": 14,
   "metadata": {
    "scrolled": true
   },
   "outputs": [
    {
     "name": "stdout",
     "output_type": "stream",
     "text": [
      "Создание сети :\n",
      "  Количество скрытых слоев     : 0\n",
      "  Количество входных нейронов  : 784\n",
      "  Koличество выходных нейронов : 10\n",
      "  Широты скрытых слоев         : []\n",
      "Обучение сети:\n",
      "  [Эпоха 1 из 10] потеря : 0.319479974383089, точность : 0.9089583333333333\n",
      "  [Эпоха 2 из 10] потеря : 0.3042911454878201, точность : 0.9147321428571429\n",
      "  [Эпоха 3 из 10] потеря : 0.29623251830574115, точность : 0.9175\n",
      "  [Эпоха 4 из 10] потеря : 0.29095040370107134, точность : 0.9187202380952381\n",
      "  [Эпоха 5 из 10] потеря : 0.2869803230650682, точность : 0.9199107142857142\n",
      "  [Эпоха 6 из 10] потеря : 0.2837731367182898, точность : 0.9209821428571429\n",
      "  [Эпоха 7 из 10] потеря : 0.28109654932301575, точность : 0.921875\n",
      "  [Эпоха 8 из 10] потеря : 0.2788263561728799, точность : 0.9228273809523809\n",
      "  [Эпоха 9 из 10] потеря : 0.27688270042293306, точность : 0.9236607142857143\n",
      "  [Эпоха 10 из 10] потеря : 0.27520651710346183, точность : 0.9241964285714286\n"
     ]
    }
   ],
   "source": [
    "null_layered_perceptron = Perceptron(show_status=True, layers=[]).fit(mnist_train_x, mnist_train_y)"
   ]
  },
  {
   "cell_type": "code",
   "execution_count": 15,
   "metadata": {},
   "outputs": [
    {
     "name": "stdout",
     "output_type": "stream",
     "text": [
      "Точность сети : 0.9054761904761904\n"
     ]
    }
   ],
   "source": [
    "print(\"Точность сети : {}\".format(null_layered_perceptron.score(mnist_test_x, mnist_test_y)[1]))"
   ]
  },
  {
   "cell_type": "markdown",
   "metadata": {},
   "source": [
    "#### Двуслойные перцептроны #### \n",
    "5 нейроного на скрытом слое"
   ]
  },
  {
   "cell_type": "code",
   "execution_count": 16,
   "metadata": {},
   "outputs": [
    {
     "name": "stdout",
     "output_type": "stream",
     "text": [
      "Создание сети :\n",
      "  Количество скрытых слоев     : 1\n",
      "  Количество входных нейронов  : 784\n",
      "  Koличество выходных нейронов : 10\n",
      "  Широты скрытых слоев         : [5]\n",
      "Обучение сети:\n",
      "  [Эпоха 1 из 10] потеря : 0.6586162250508563, точность : 0.8080059523809524\n",
      "  [Эпоха 2 из 10] потеря : 0.6014632545341628, точность : 0.8315476190476191\n",
      "  [Эпоха 3 из 10] потеря : 0.584752231385793, точность : 0.8396428571428571\n",
      "  [Эпоха 4 из 10] потеря : 0.5678749140827443, точность : 0.8493154761904762\n",
      "  [Эпоха 5 из 10] потеря : 0.5441136691405655, точность : 0.859375\n",
      "  [Эпоха 6 из 10] потеря : 0.5320130509843091, точность : 0.8601190476190477\n",
      "  [Эпоха 7 из 10] потеря : 0.5986235636946835, точность : 0.8324702380952381\n",
      "  [Эпоха 8 из 10] потеря : 0.5587657839168616, точность : 0.8541964285714285\n",
      "  [Эпоха 9 из 10] потеря : 0.5719255908992976, точность : 0.8469642857142857\n",
      "  [Эпоха 10 из 10] потеря : 0.5148828579668975, точность : 0.8679166666666667\n"
     ]
    }
   ],
   "source": [
    "first_one_layered_perceptron = Perceptron(show_status=True).fit(mnist_train_x, mnist_train_y)"
   ]
  },
  {
   "cell_type": "code",
   "execution_count": 17,
   "metadata": {},
   "outputs": [
    {
     "name": "stdout",
     "output_type": "stream",
     "text": [
      "Точность сети : 0.849047619047619\n"
     ]
    }
   ],
   "source": [
    "print(\"Точность сети : {}\".format(first_one_layered_perceptron.score(mnist_test_x, mnist_test_y)[1]))"
   ]
  },
  {
   "cell_type": "markdown",
   "metadata": {},
   "source": [
    "10 нейронов на скрытом слое"
   ]
  },
  {
   "cell_type": "code",
   "execution_count": 18,
   "metadata": {
    "scrolled": true
   },
   "outputs": [
    {
     "name": "stdout",
     "output_type": "stream",
     "text": [
      "Создание сети :\n",
      "  Количество скрытых слоев     : 1\n",
      "  Количество входных нейронов  : 784\n",
      "  Koличество выходных нейронов : 10\n",
      "  Широты скрытых слоев         : [10]\n",
      "Обучение сети:\n",
      "  [Эпоха 1 из 10] потеря : 0.35707912650089646, точность : 0.8982142857142857\n",
      "  [Эпоха 2 из 10] потеря : 0.349508211448527, точность : 0.9007738095238095\n",
      "  [Эпоха 3 из 10] потеря : 0.3133798969514313, точность : 0.9111904761904762\n",
      "  [Эпоха 4 из 10] потеря : 0.31153766766887336, точность : 0.9116666666666666\n",
      "  [Эпоха 5 из 10] потеря : 0.3042919706224049, точность : 0.9122619047619047\n",
      "  [Эпоха 6 из 10] потеря : 0.3013950893700502, точность : 0.9141071428571429\n",
      "  [Эпоха 7 из 10] потеря : 0.2898752517714442, точность : 0.9173809523809524\n",
      "  [Эпоха 8 из 10] потеря : 0.2847313689466162, точность : 0.9193154761904762\n",
      "  [Эпоха 9 из 10] потеря : 0.27955797986302805, точность : 0.9206845238095238\n",
      "  [Эпоха 10 из 10] потеря : 0.29322099651193634, точность : 0.9166369047619047\n",
      "Точность сети : 0.8948809523809523\n"
     ]
    }
   ],
   "source": [
    "second_one_layered_perceptron = Perceptron(show_status=True, layers=[10]).fit(mnist_train_x, mnist_train_y)\n",
    "print(\"Точность сети : {}\".format(second_one_layered_perceptron.score(mnist_test_x, mnist_test_y)[1]))"
   ]
  },
  {
   "cell_type": "markdown",
   "metadata": {},
   "source": [
    "25 нейронов на скрытом слое"
   ]
  },
  {
   "cell_type": "code",
   "execution_count": 19,
   "metadata": {
    "scrolled": true
   },
   "outputs": [
    {
     "name": "stdout",
     "output_type": "stream",
     "text": [
      "Создание сети :\n",
      "  Количество скрытых слоев     : 1\n",
      "  Количество входных нейронов  : 784\n",
      "  Koличество выходных нейронов : 10\n",
      "  Широты скрытых слоев         : [25]\n",
      "Обучение сети:\n",
      "  [Эпоха 1 из 10] потеря : 0.22860881779893266, точность : 0.9348214285714286\n",
      "  [Эпоха 2 из 10] потеря : 0.2104747866490189, точность : 0.9364583333333333\n",
      "  [Эпоха 3 из 10] потеря : 0.17722049677510973, точность : 0.9457738095238095\n",
      "  [Эпоха 4 из 10] потеря : 0.153894314030459, точность : 0.9529464285714285\n",
      "  [Эпоха 5 из 10] потеря : 0.14873210538221907, точность : 0.9541964285714286\n",
      "  [Эпоха 6 из 10] потеря : 0.15762579548940264, точность : 0.9518154761904762\n",
      "  [Эпоха 7 из 10] потеря : 0.1526360682065499, точность : 0.952827380952381\n",
      "  [Эпоха 8 из 10] потеря : 0.13872999491104934, точность : 0.9576488095238095\n",
      "  [Эпоха 9 из 10] потеря : 0.12393310706691696, точность : 0.9611904761904762\n",
      "  [Эпоха 10 из 10] потеря : 0.13145225405415975, точность : 0.9594940476190477\n",
      "Точность сети : 0.9361904761904762\n"
     ]
    }
   ],
   "source": [
    "third_one_layered_perceptron = Perceptron(show_status=True, layers=[25]).fit(mnist_train_x, mnist_train_y)\n",
    "print(\"Точность сети : {}\".format(third_one_layered_perceptron.score(mnist_test_x, mnist_test_y)[1]))"
   ]
  },
  {
   "cell_type": "markdown",
   "metadata": {},
   "source": [
    "100 нейронов на скрытом слое"
   ]
  },
  {
   "cell_type": "code",
   "execution_count": 20,
   "metadata": {},
   "outputs": [
    {
     "name": "stdout",
     "output_type": "stream",
     "text": [
      "Создание сети :\n",
      "  Количество скрытых слоев     : 1\n",
      "  Количество входных нейронов  : 784\n",
      "  Koличество выходных нейронов : 10\n",
      "  Широты скрытых слоев         : [100]\n",
      "Обучение сети:\n",
      "  [Эпоха 1 из 10] потеря : 0.14750478269873374, точность : 0.9558630952380952\n",
      "  [Эпоха 2 из 10] потеря : 0.0956983418678201, точность : 0.9700892857142858\n",
      "  [Эпоха 3 из 10] потеря : 0.07116031588462239, точность : 0.9775297619047619\n",
      "  [Эпоха 4 из 10] потеря : 0.05782178206373234, точность : 0.9809821428571428\n",
      "  [Эпоха 5 из 10] потеря : 0.04459625402055623, точность : 0.9859821428571428\n",
      "  [Эпоха 6 из 10] потеря : 0.04942419968848505, точность : 0.9832738095238095\n",
      "  [Эпоха 7 из 10] потеря : 0.043867345515817835, точность : 0.9848809523809524\n",
      "  [Эпоха 8 из 10] потеря : 0.031246381310818087, точность : 0.9892261904761904\n",
      "  [Эпоха 9 из 10] потеря : 0.022642490197139063, точность : 0.9922619047619048\n",
      "  [Эпоха 10 из 10] потеря : 0.016395042574862188, точность : 0.9943154761904762\n",
      "Точность сети : 0.9667857142857142\n"
     ]
    }
   ],
   "source": [
    "fourth_one_layered_perceptron = Perceptron(show_status=True, layers=[100]).fit(mnist_train_x, mnist_train_y)\n",
    "print(\"Точность сети : {}\".format(fourth_one_layered_perceptron.score(mnist_test_x, mnist_test_y)[1]))"
   ]
  },
  {
   "cell_type": "markdown",
   "metadata": {},
   "source": [
    "#### Трехслойные перцептроны #### "
   ]
  },
  {
   "cell_type": "markdown",
   "metadata": {},
   "source": [
    "Внутренние слои шириной 4 и 15"
   ]
  },
  {
   "cell_type": "code",
   "execution_count": 21,
   "metadata": {
    "scrolled": false
   },
   "outputs": [
    {
     "name": "stdout",
     "output_type": "stream",
     "text": [
      "Создание сети :\n",
      "  Количество скрытых слоев     : 2\n",
      "  Количество входных нейронов  : 784\n",
      "  Koличество выходных нейронов : 10\n",
      "  Широты скрытых слоев         : [4, 15]\n",
      "Обучение сети:\n",
      "  [Эпоха 1 из 10] потеря : 0.6967336596766792, точность : 0.8121130952380953\n",
      "  [Эпоха 2 из 10] потеря : 0.6811621183955324, точность : 0.8205357142857143\n",
      "  [Эпоха 3 из 10] потеря : 0.6750144804118615, точность : 0.8219940476190476\n",
      "  [Эпоха 4 из 10] потеря : 0.6639685626999392, точность : 0.8260119047619048\n",
      "  [Эпоха 5 из 10] потеря : 0.652677415309713, точность : 0.8323214285714285\n",
      "  [Эпоха 6 из 10] потеря : 0.6520934557922721, точность : 0.8297619047619048\n",
      "  [Эпоха 7 из 10] потеря : 0.6708253455543651, точность : 0.8227083333333334\n",
      "  [Эпоха 8 из 10] потеря : 0.6250523718320796, точность : 0.8395238095238096\n",
      "  [Эпоха 9 из 10] потеря : 0.6152876494260037, точность : 0.8407738095238095\n",
      "  [Эпоха 10 из 10] потеря : 0.6274336750764182, точность : 0.8411309523809524\n",
      "Точность сети : 0.8275\n"
     ]
    }
   ],
   "source": [
    "first_double_layered_perceptron = Perceptron(show_status=True, layers=[4,15]).fit(mnist_train_x, mnist_train_y)\n",
    "print(\"Точность сети : {}\".format(first_double_layered_perceptron.score(mnist_test_x, mnist_test_y)[1]))"
   ]
  },
  {
   "cell_type": "markdown",
   "metadata": {},
   "source": [
    "Внутренние слои шириной 7 и 10"
   ]
  },
  {
   "cell_type": "code",
   "execution_count": 22,
   "metadata": {
    "scrolled": false
   },
   "outputs": [
    {
     "name": "stdout",
     "output_type": "stream",
     "text": [
      "Создание сети :\n",
      "  Количество скрытых слоев     : 2\n",
      "  Количество входных нейронов  : 784\n",
      "  Koличество выходных нейронов : 10\n",
      "  Широты скрытых слоев         : [7, 10]\n",
      "Обучение сети:\n",
      "  [Эпоха 1 из 10] потеря : 0.5388771313699918, точность : 0.8300892857142858\n",
      "  [Эпоха 2 из 10] потеря : 0.45022881117296804, точность : 0.872202380952381\n",
      "  [Эпоха 3 из 10] потеря : 0.45982501360685457, точность : 0.8713095238095238\n",
      "  [Эпоха 4 из 10] потеря : 0.41620291002874155, точность : 0.8837797619047619\n",
      "  [Эпоха 5 из 10] потеря : 0.4312662263079598, точность : 0.8676785714285714\n",
      "  [Эпоха 6 из 10] потеря : 0.40521336565138244, точность : 0.8898511904761904\n",
      "  [Эпоха 7 из 10] потеря : 0.4146174993164491, точность : 0.8816369047619048\n",
      "  [Эпоха 8 из 10] потеря : 0.405972399740396, точность : 0.8903869047619047\n",
      "  [Эпоха 9 из 10] потеря : 0.4347128063246713, точность : 0.8814285714285715\n",
      "  [Эпоха 10 из 10] потеря : 0.41713630634027743, точность : 0.8807738095238096\n",
      "Точность сети : 0.8604761904761905\n"
     ]
    }
   ],
   "source": [
    "second_double_layered_perceptron = Perceptron(show_status=True, layers=[7,10]).fit(mnist_train_x, mnist_train_y)\n",
    "print(\"Точность сети : {}\".format(second_double_layered_perceptron.score(mnist_test_x, mnist_test_y)[1]))"
   ]
  },
  {
   "cell_type": "markdown",
   "metadata": {},
   "source": [
    "Внутренние слои шириной 15 и 10"
   ]
  },
  {
   "cell_type": "code",
   "execution_count": 23,
   "metadata": {},
   "outputs": [
    {
     "name": "stdout",
     "output_type": "stream",
     "text": [
      "Создание сети :\n",
      "  Количество скрытых слоев     : 2\n",
      "  Количество входных нейронов  : 784\n",
      "  Koличество выходных нейронов : 10\n",
      "  Широты скрытых слоев         : [20, 10]\n",
      "Обучение сети:\n",
      "  [Эпоха 1 из 10] потеря : 0.34126139436368635, точность : 0.8996428571428572\n",
      "  [Эпоха 2 из 10] потеря : 0.3238584724859709, точность : 0.9050595238095238\n",
      "  [Эпоха 3 из 10] потеря : 0.28187696836187376, точность : 0.9186904761904762\n",
      "  [Эпоха 4 из 10] потеря : 0.2709555253638228, точность : 0.9252976190476191\n",
      "  [Эпоха 5 из 10] потеря : 0.2672313918834173, точность : 0.9256547619047619\n",
      "  [Эпоха 6 из 10] потеря : 0.23650306283704914, точность : 0.9353571428571429\n",
      "  [Эпоха 7 из 10] потеря : 0.24009025599961725, точность : 0.9338095238095238\n",
      "  [Эпоха 8 из 10] потеря : 0.24925340828697395, точность : 0.9279761904761905\n",
      "  [Эпоха 9 из 10] потеря : 0.26720374408632985, точность : 0.925\n",
      "  [Эпоха 10 из 10] потеря : 0.2425145963678211, точность : 0.9324404761904762\n",
      "Точность сети : 0.9148809523809524\n"
     ]
    }
   ],
   "source": [
    "third_double_layered_perceptron = Perceptron(show_status=True, layers=[20,10]).fit(mnist_train_x, mnist_train_y)\n",
    "print(\"Точность сети : {}\".format(third_double_layered_perceptron.score(mnist_test_x, mnist_test_y)[1]))"
   ]
  },
  {
   "cell_type": "markdown",
   "metadata": {},
   "source": [
    "#### Другие многослойные перцептроны"
   ]
  },
  {
   "cell_type": "markdown",
   "metadata": {},
   "source": [
    "Внутренние слои шириной 15, 7, 12"
   ]
  },
  {
   "cell_type": "code",
   "execution_count": 24,
   "metadata": {},
   "outputs": [
    {
     "name": "stdout",
     "output_type": "stream",
     "text": [
      "Создание сети :\n",
      "  Количество скрытых слоев     : 3\n",
      "  Количество входных нейронов  : 784\n",
      "  Koличество выходных нейронов : 10\n",
      "  Широты скрытых слоев         : [15, 7, 12]\n",
      "Обучение сети:\n",
      "  [Эпоха 1 из 10] потеря : 0.48610559188314917, точность : 0.8619940476190476\n",
      "  [Эпоха 2 из 10] потеря : 0.39877291437832013, точность : 0.8928571428571429\n",
      "  [Эпоха 3 из 10] потеря : 0.355843261866543, точность : 0.9042559523809524\n",
      "  [Эпоха 4 из 10] потеря : 0.37427204075121917, точность : 0.9005059523809524\n",
      "  [Эпоха 5 из 10] потеря : 0.33711125556531596, точность : 0.9077678571428571\n",
      "  [Эпоха 6 из 10] потеря : 0.3903372727059812, точность : 0.8963988095238096\n",
      "  [Эпоха 7 из 10] потеря : 0.44106804077721745, точность : 0.8841666666666667\n",
      "  [Эпоха 8 из 10] потеря : 0.36666903493135555, точность : 0.9011309523809524\n",
      "  [Эпоха 9 из 10] потеря : 0.38702725411769384, точность : 0.8910119047619047\n",
      "  [Эпоха 10 из 10] потеря : 0.33820941756679845, точность : 0.910625\n",
      "Точность сети : 0.901547619047619\n"
     ]
    }
   ],
   "source": [
    "first_multi_layered_perceptron = Perceptron(show_status=True, layers=[15, 7, 12]).fit(mnist_train_x, mnist_train_y)\n",
    "print(\"Точность сети : {}\".format(first_multi_layered_perceptron.score(mnist_test_x, mnist_test_y)[1]))"
   ]
  },
  {
   "cell_type": "markdown",
   "metadata": {},
   "source": [
    "Внутренние слои шириной 4, 7, 5, 7"
   ]
  },
  {
   "cell_type": "code",
   "execution_count": 25,
   "metadata": {
    "scrolled": true
   },
   "outputs": [
    {
     "name": "stdout",
     "output_type": "stream",
     "text": [
      "Создание сети :\n",
      "  Количество скрытых слоев     : 4\n",
      "  Количество входных нейронов  : 784\n",
      "  Koличество выходных нейронов : 10\n",
      "  Широты скрытых слоев         : [4, 7, 5, 7]\n",
      "Обучение сети:\n",
      "  [Эпоха 1 из 10] потеря : 0.9035825793933476, точность : 0.7234821428571429\n",
      "  [Эпоха 2 из 10] потеря : 0.8314008642343923, точность : 0.7313095238095239\n",
      "  [Эпоха 3 из 10] потеря : 0.8377835343297098, точность : 0.7342261904761904\n",
      "  [Эпоха 4 из 10] потеря : 0.8721582250552433, точность : 0.7241964285714285\n",
      "  [Эпоха 5 из 10] потеря : 0.8541375212913855, точность : 0.7157142857142857\n",
      "  [Эпоха 6 из 10] потеря : 0.7969023127076611, точность : 0.7330952380952381\n",
      "  [Эпоха 7 из 10] потеря : 0.8491286613329969, точность : 0.7367261904761905\n",
      "  [Эпоха 8 из 10] потеря : 0.7267201268979062, точность : 0.7614880952380952\n",
      "  [Эпоха 9 из 10] потеря : 1.0376385107192068, точность : 0.6879166666666666\n",
      "  [Эпоха 10 из 10] потеря : 0.761602215024206, точность : 0.7503273809523809\n",
      "Точность сети : 0.7479761904761905\n"
     ]
    }
   ],
   "source": [
    "second_multi_layered_perceptron = Perceptron(show_status=True, layers=[4, 7, 5, 7]).fit(mnist_train_x, mnist_train_y)\n",
    "print(\"Точность сети : {}\".format(second_multi_layered_perceptron.score(mnist_test_x, mnist_test_y)[1]))"
   ]
  },
  {
   "cell_type": "markdown",
   "metadata": {},
   "source": [
    "Внутренние слои шириной 3, 5, 4, 7, 2, 5, 1, 2, 3"
   ]
  },
  {
   "cell_type": "code",
   "execution_count": 26,
   "metadata": {},
   "outputs": [
    {
     "name": "stdout",
     "output_type": "stream",
     "text": [
      "Создание сети :\n",
      "  Количество скрытых слоев     : 9\n",
      "  Количество входных нейронов  : 784\n",
      "  Koличество выходных нейронов : 10\n",
      "  Широты скрытых слоев         : [3, 5, 4, 7, 2, 5, 1, 2, 3]\n",
      "Обучение сети:\n",
      "  [Эпоха 1 из 10] потеря : 1.8050421035472952, точность : 0.27145833333333336\n",
      "  [Эпоха 2 из 10] потеря : 2.107743110811447, точность : 0.18401785714285715\n",
      "  [Эпоха 3 из 10] потеря : 1.9708242878083977, точность : 0.19038690476190476\n",
      "  [Эпоха 4 из 10] потеря : 2.0014279375989217, точность : 0.18038690476190475\n",
      "  [Эпоха 5 из 10] потеря : 1.925474336430043, точность : 0.19392857142857142\n",
      "  [Эпоха 6 из 10] потеря : 1.979678143681948, точность : 0.18538690476190475\n",
      "  [Эпоха 7 из 10] потеря : 2.3053627163651265, точность : 0.1037797619047619\n",
      "  [Эпоха 8 из 10] потеря : 2.303848052889629, точность : 0.11175595238095239\n",
      "  [Эпоха 9 из 10] потеря : 2.303802000512549, точность : 0.11175595238095239\n",
      "  [Эпоха 10 из 10] потеря : 2.303799771914875, точность : 0.11175595238095239\n",
      "Точность сети : 0.1105952380952381\n"
     ]
    }
   ],
   "source": [
    "third_multi_layered_perceptron = Perceptron(show_status=True, layers=[3, 5, 4, 7, 2, 5, 1, 2, 3]).fit(mnist_train_x, mnist_train_y)\n",
    "print(\"Точность сети : {}\".format(third_multi_layered_perceptron.score(mnist_test_x, mnist_test_y)[1]))"
   ]
  },
  {
   "cell_type": "markdown",
   "metadata": {},
   "source": [
    " Как видно из результатов тестирования подобранные гиперпараметры сети слегка не подходят для решения данной задачи. "
   ]
  },
  {
   "cell_type": "markdown",
   "metadata": {},
   "source": [
    "### Тестирование на датасете FashionMnist\n",
    "#### Однослойный перцептрон"
   ]
  },
  {
   "cell_type": "code",
   "execution_count": 27,
   "metadata": {},
   "outputs": [
    {
     "name": "stdout",
     "output_type": "stream",
     "text": [
      "Создание сети :\n",
      "  Количество скрытых слоев     : 0\n",
      "  Количество входных нейронов  : 784\n",
      "  Koличество выходных нейронов : 10\n",
      "  Широты скрытых слоев         : []\n",
      "Обучение сети:\n",
      "  [Эпоха 1 из 10] потеря : 0.9483936903558464, точность : 0.7938166666666666\n",
      "  [Эпоха 2 из 10] потеря : 0.918982960563827, точность : 0.8043666666666667\n",
      "  [Эпоха 3 из 10] потеря : 0.8888207846782251, точность : 0.8104666666666667\n",
      "  [Эпоха 4 из 10] потеря : 0.8972912522925849, точность : 0.8105\n",
      "  [Эпоха 5 из 10] потеря : 0.872119024267329, точность : 0.8145\n",
      "  [Эпоха 6 из 10] потеря : 0.8201024493883364, точность : 0.8213666666666667\n",
      "  [Эпоха 7 из 10] потеря : 0.7875160564451072, точность : 0.8264833333333333\n",
      "  [Эпоха 8 из 10] потеря : 0.7517527886237838, точность : 0.8324166666666667\n",
      "  [Эпоха 9 из 10] потеря : 0.723948204288474, точность : 0.83695\n",
      "  [Эпоха 10 из 10] потеря : 0.7579090488461245, точность : 0.83245\n",
      "Точность сети : 0.806\n"
     ]
    }
   ],
   "source": [
    "fmnist_null_perceptron = Perceptron(show_status=True, layers=[]).fit(fashion_mnist_train_x, fashion_mnist_train_y)\n",
    "print(\"Точность сети : {}\".format(fmnist_null_perceptron.score(fashion_mnist_test_x, fashion_mnist_test_y)[1]))"
   ]
  },
  {
   "cell_type": "markdown",
   "metadata": {},
   "source": [
    "#### Двуслойный перцептрон"
   ]
  },
  {
   "cell_type": "code",
   "execution_count": 28,
   "metadata": {},
   "outputs": [
    {
     "name": "stdout",
     "output_type": "stream",
     "text": [
      "Создание сети :\n",
      "  Количество скрытых слоев     : 1\n",
      "  Количество входных нейронов  : 784\n",
      "  Koличество выходных нейронов : 10\n",
      "  Широты скрытых слоев         : [13]\n",
      "Обучение сети:\n",
      "  [Эпоха 1 из 10] потеря : 0.44534911229084434, точность : 0.8438833333333333\n",
      "  [Эпоха 2 из 10] потеря : 0.41051604268113323, точность : 0.8537666666666667\n",
      "  [Эпоха 3 из 10] потеря : 0.39975786100418986, точность : 0.8561333333333333\n",
      "  [Эпоха 4 из 10] потеря : 0.3901532984236358, точность : 0.8588\n",
      "  [Эпоха 5 из 10] потеря : 0.37973571181141413, точность : 0.8610166666666667\n",
      "  [Эпоха 6 из 10] потеря : 0.3746124976470941, точность : 0.8622\n",
      "  [Эпоха 7 из 10] потеря : 0.3705180560913325, точность : 0.8633833333333333\n",
      "  [Эпоха 8 из 10] потеря : 0.36688442016722816, точность : 0.8641166666666666\n",
      "  [Эпоха 9 из 10] потеря : 0.3635266609263286, точность : 0.8648\n",
      "  [Эпоха 10 из 10] потеря : 0.3601737455748185, точность : 0.8658333333333333\n",
      "Точность сети : 0.8459\n"
     ]
    }
   ],
   "source": [
    "fmnist_first_perceptron = Perceptron(show_status=True, layers=[13], learning_rate=0.01).fit(fashion_mnist_train_x, fashion_mnist_train_y)\n",
    "print(\"Точность сети : {}\".format(fmnist_first_perceptron.score(fashion_mnist_test_x, fashion_mnist_test_y)[1]))"
   ]
  },
  {
   "cell_type": "markdown",
   "metadata": {},
   "source": [
    "#### Трехслойный перцептрон"
   ]
  },
  {
   "cell_type": "code",
   "execution_count": 29,
   "metadata": {},
   "outputs": [
    {
     "name": "stdout",
     "output_type": "stream",
     "text": [
      "Создание сети :\n",
      "  Количество скрытых слоев     : 2\n",
      "  Количество входных нейронов  : 784\n",
      "  Koличество выходных нейронов : 10\n",
      "  Широты скрытых слоев         : [10, 15]\n",
      "Обучение сети:\n",
      "  [Эпоха 1 из 20] потеря : 0.7654209118742331, точность : 0.75715\n",
      "  [Эпоха 2 из 20] потеря : 0.5982031939429121, точность : 0.8069666666666667\n",
      "  [Эпоха 3 из 20] потеря : 0.5226233516444789, точность : 0.8270333333333333\n",
      "  [Эпоха 4 из 20] потеря : 0.4819151775895247, точность : 0.83765\n",
      "  [Эпоха 5 из 20] потеря : 0.45600262823527066, точность : 0.8438166666666667\n",
      "  [Эпоха 6 из 20] потеря : 0.43756160127993193, точность : 0.84925\n",
      "  [Эпоха 7 из 20] потеря : 0.42356013773800955, точность : 0.8538333333333333\n",
      "  [Эпоха 8 из 20] потеря : 0.4125404662017916, точность : 0.8572833333333333\n",
      "  [Эпоха 9 из 20] потеря : 0.4036132390109173, точность : 0.85955\n",
      "  [Эпоха 10 из 20] потеря : 0.39620229903038995, точность : 0.8618666666666667\n",
      "  [Эпоха 11 из 20] потеря : 0.3899357956574829, точность : 0.8639166666666667\n",
      "  [Эпоха 12 из 20] потеря : 0.3845614150831616, точность : 0.8657833333333333\n",
      "  [Эпоха 13 из 20] потеря : 0.3798944483788942, точность : 0.8670333333333333\n",
      "  [Эпоха 14 из 20] потеря : 0.37579312811438237, точность : 0.8682666666666666\n",
      "  [Эпоха 15 из 20] потеря : 0.37214728766052235, точность : 0.8693166666666666\n",
      "  [Эпоха 16 из 20] потеря : 0.3688717683034901, точность : 0.8702\n",
      "  [Эпоха 17 из 20] потеря : 0.3659011279176642, точность : 0.8712166666666666\n",
      "  [Эпоха 18 из 20] потеря : 0.3631850740802111, точность : 0.8718666666666667\n",
      "  [Эпоха 19 из 20] потеря : 0.3606847123019987, точность : 0.8726833333333334\n",
      "  [Эпоха 20 из 20] потеря : 0.3583695774084345, точность : 0.8734166666666666\n",
      "Точность сети : 0.8518\n"
     ]
    }
   ],
   "source": [
    "fmnist_second_perceptron = Perceptron(show_status=True, layers=[10,15], learning_rate=0.001, epochs=20)\n",
    "fmnist_second_perceptron.fit(fashion_mnist_train_x, fashion_mnist_train_y)\n",
    "print(\"Точность сети : {}\".format(fmnist_second_perceptron.score(fashion_mnist_test_x, fashion_mnist_test_y)[1]))"
   ]
  },
  {
   "cell_type": "markdown",
   "metadata": {},
   "source": [
    "#### Четырехслойный перцептрон"
   ]
  },
  {
   "cell_type": "code",
   "execution_count": 30,
   "metadata": {
    "scrolled": true
   },
   "outputs": [
    {
     "name": "stdout",
     "output_type": "stream",
     "text": [
      "Создание сети :\n",
      "  Количество скрытых слоев     : 3\n",
      "  Количество входных нейронов  : 784\n",
      "  Koличество выходных нейронов : 10\n",
      "  Широты скрытых слоев         : [15, 7, 12]\n",
      "Обучение сети:\n",
      "  [Эпоха 1 из 20] потеря : 0.8512029560359838, точность : 0.7724833333333333\n",
      "  [Эпоха 2 из 20] потеря : 0.5975354248129434, точность : 0.8152\n",
      "  [Эпоха 3 из 20] потеря : 0.5145293982614031, точность : 0.8320666666666666\n",
      "  [Эпоха 4 из 20] потеря : 0.4709658292513447, точность : 0.8425\n",
      "  [Эпоха 5 из 20] потеря : 0.4421389326362213, точность : 0.8498\n",
      "  [Эпоха 6 из 20] потеря : 0.4206701895429854, точность : 0.8562666666666666\n",
      "  [Эпоха 7 из 20] потеря : 0.4040926624688899, точность : 0.86185\n",
      "  [Эпоха 8 из 20] потеря : 0.39106018492346983, точность : 0.8657166666666667\n",
      "  [Эпоха 9 из 20] потеря : 0.38054498629041034, точность : 0.8687166666666667\n",
      "  [Эпоха 10 из 20] потеря : 0.3718819030779468, точность : 0.8710333333333333\n",
      "  [Эпоха 11 из 20] потеря : 0.36463401771927195, точность : 0.8733\n",
      "  [Эпоха 12 из 20] потеря : 0.35848790536155345, точность : 0.875\n",
      "  [Эпоха 13 из 20] потеря : 0.35322646176058187, точность : 0.87695\n",
      "  [Эпоха 14 из 20] потеря : 0.34869953747918697, точность : 0.8781\n",
      "  [Эпоха 15 из 20] потеря : 0.3447715436504798, точность : 0.8795333333333333\n",
      "  [Эпоха 16 из 20] потеря : 0.3413103128186244, точность : 0.8804\n",
      "  [Эпоха 17 из 20] потеря : 0.33820419632577114, точность : 0.8815166666666666\n",
      "  [Эпоха 18 из 20] потеря : 0.33536977408982377, точность : 0.8821166666666667\n",
      "  [Эпоха 19 из 20] потеря : 0.3327478991386595, точность : 0.8826833333333334\n",
      "  [Эпоха 20 из 20] потеря : 0.3302967158069423, точность : 0.8834833333333333\n",
      "Точность сети : 0.8597\n"
     ]
    }
   ],
   "source": [
    "fmnist_third_perceptron = Perceptron(show_status=True, layers=[15, 7, 12], learning_rate=0.001, epochs=20)\n",
    "fmnist_third_perceptron.fit(fashion_mnist_train_x, fashion_mnist_train_y)\n",
    "print(\"Точность сети : {}\".format(fmnist_third_perceptron.score(fashion_mnist_test_x, fashion_mnist_test_y)[1]))"
   ]
  },
  {
   "cell_type": "markdown",
   "metadata": {},
   "source": [
    "### Итоги\n",
    "\n",
    "Приведем таблицы со статистикой тестирования\n",
    "\n",
    "|№ | Кол-во внутр-х слоев | Широты внутр-х слоев | Точность на тестовой выборке (%) | Кол-во эпох | Коэф. обучения | Датасет | \n",
    "|--|:--------------------:|:------------:|:--------------------------------:|:-----------:|:-----------:|:-----------:|\n",
    "|1| 0 |  | 90.583 | 10 | 0.1 | MNIST |\n",
    "|2| 1 | 5  | 85.404 | 10 | 0.1  | MNIST |\n",
    "|3| 1 | 10 |90.285 | 10 | 0.1  | MNIST |\n",
    "|4| 1 | 100 | 96.631 | 10 | 0.1  | MNIST |\n",
    "|5| 2 | 4, 15 | 67.619 | 10 | 0.1  | MNIST |\n",
    "|6| 2 | 7, 10 | 88.464 | 10 | 0.1  | MNIST |\n",
    "|7| 2 | 20, 10 | 92.738 | 10 | 0.1  | MNIST |\n",
    "|8| 3 | 15, 7, 12 | 90.440 | 10 | 0.1  | MNIST |\n",
    "|9| 4 | 4, 7, 5, 7 | 77.035 | 10 | 0.1  | MNIST |\n",
    "|10| 9 | 3, 5, 4, 7, 2, 5, 1, 2, 3 | 09.452 | 10 | 0.1 | MNIST |\n",
    "|11| 0 |  | 80.690 | 10 | 0.1 | FashionMNIST |\n",
    "|12| 1 | 13 | 85.150 | 10 | 0.01 | FashionMNIST |\n",
    "|13| 2| 10, 15 | 85.370 | 20 | 0.001 | FashionMNIST |\n",
    "|14| 3| 15, 7, 12 | 85.800 | 20 | 0.001 | FashionMNIST |\n",
    "\n",
    "\n",
    "_Датасет_ : MNIST\n",
    "\n",
    "* _Количество входных нейронов_ : 784\n",
    "* _Количество классов для классификации_ : 10\n",
    "\n",
    "\n",
    "_Датасет_ : FashionMNIST \n",
    "\n",
    "* _Количество входных нейронов_ : 784 \n",
    "* _Количество классов для классификации_ : 10\n",
    "\n",
    "Получим confusion matrix для наиболее удачных нейронных сетей."
   ]
  },
  {
   "cell_type": "code",
   "execution_count": 31,
   "metadata": {
    "scrolled": true
   },
   "outputs": [
    {
     "name": "stdout",
     "output_type": "stream",
     "text": [
      "[[818   0   0   0   3   3   6   1   1   1]\n",
      " [  0 915   1   3   0   0   1   6   2   0]\n",
      " [  3   0 862  11   1   1   1   7   1   0]\n",
      " [  1   2   4 818   1   9   0   1   8   7]\n",
      " [  0   3   6   2 767   5   6   6   4  21]\n",
      " [  2   0   0   6   0 725   4   0   3   2]\n",
      " [  6   1   0   0   5   1 778   0   1   0]\n",
      " [  0   3   6  14   0   1   0 885   1  12]\n",
      " [  4   3   9   8   3   4   2   3 781  10]\n",
      " [  1   2   2   2   3   2   1   8   5 772]]\n"
     ]
    }
   ],
   "source": [
    "fourth_one_layered_confusion_matrix = fourth_one_layered_perceptron.score(mnist_test_x, mnist_test_y,calculate_confusion_matrix=True)[2]\n",
    "print(fourth_one_layered_confusion_matrix)"
   ]
  },
  {
   "cell_type": "code",
   "execution_count": 32,
   "metadata": {
    "scrolled": true
   },
   "outputs": [
    {
     "name": "stdout",
     "output_type": "stream",
     "text": [
      "[[812   3  12  24   1   1 165   0   0   0]\n",
      " [  0 962   2  18   2   0   4   0   2   0]\n",
      " [ 19   7 778   9 109   0  99   0   2   0]\n",
      " [ 56  22  15 891  55   1  50   0   6   0]\n",
      " [  4   4 118  28 779   0  90   0   3   0]\n",
      " [  1   0   0   0   2 936   1  28   2   8]\n",
      " [ 92   0  60  22  41   0 572   0   6   0]\n",
      " [  0   0   0   0   0  40   0 956   6  54]\n",
      " [ 16   2  15   8  11   4  19   1 973   0]\n",
      " [  0   0   0   0   0  18   0  15   0 938]]\n"
     ]
    }
   ],
   "source": [
    "fmnist_third_perceptron_confusion_matrix = fmnist_third_perceptron.score(fashion_mnist_test_x, fashion_mnist_test_y,calculate_confusion_matrix=True)[2]\n",
    "print(fmnist_third_perceptron_confusion_matrix)"
   ]
  },
  {
   "cell_type": "markdown",
   "metadata": {},
   "source": [
    "## Выводы\n",
    "\n",
    "В ходе работы удалось реализовать собственный нейросетевой фреймворк, при помощи которого можно с легкостью решать задачи классификации объектов. Для этого достаточно передать несколько параметров в нейросеть и обучить ее при помощи обучающей выборки. Нейросеть обучается методом обучения с учителем и регулирует веса решая задачу минимизации функции ошибки при помощи метода градиентного спуска. Провел тестирование нейросети на двух датасетах - MNIST и FashionMNIST нейросетями с различными конфигурациями и получил результаты точности их работы на тестовой выборке, которые варьируются от 9 до 96%. Для наиболее удачных сетей были построены Confusion matrix."
   ]
  }
 ],
 "metadata": {
  "kernelspec": {
   "display_name": "Python 3",
   "language": "python",
   "name": "python3"
  },
  "language_info": {
   "codemirror_mode": {
    "name": "ipython",
    "version": 3
   },
   "file_extension": ".py",
   "mimetype": "text/x-python",
   "name": "python",
   "nbconvert_exporter": "python",
   "pygments_lexer": "ipython3",
   "version": "3.8.8"
  }
 },
 "nbformat": 4,
 "nbformat_minor": 2
}
