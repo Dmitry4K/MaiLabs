{
 "cells": [
  {
   "cell_type": "markdown",
   "id": "fe8aafb3",
   "metadata": {},
   "source": [
    "# Лабораторная работа по нейроинформатике №1"
   ]
  },
  {
   "cell_type": "markdown",
   "id": "600b7ca8",
   "metadata": {},
   "source": [
    "Выполнил: _Коростелев Д.В._ Группа: _М8О-408Б-18_ Вариант: _11_"
   ]
  },
  {
   "cell_type": "markdown",
   "id": "158d2068",
   "metadata": {},
   "source": [
    "#### Импортируем пакеты"
   ]
  },
  {
   "cell_type": "code",
   "execution_count": 1,
   "id": "cf5786da",
   "metadata": {},
   "outputs": [],
   "source": [
    "import numpy as np\n",
    "import time\n",
    "import matplotlib.pyplot as plt"
   ]
  },
  {
   "cell_type": "markdown",
   "id": "7e1d0006",
   "metadata": {},
   "source": [
    "#### Функции"
   ]
  },
  {
   "cell_type": "code",
   "execution_count": 2,
   "id": "670337bd",
   "metadata": {},
   "outputs": [],
   "source": [
    "def plot_points(X, Y):\n",
    "    for i in range(len(X)):\n",
    "        [x, y] = X[i]\n",
    "        plt.plot(x, y, 'ro', color=(1, 0.3, 0.3) if Y[i] == 0 else (0.3,0.3,1))\n",
    "        \n",
    "def plot_line(W):\n",
    "    def calc_y(x):\n",
    "        return -W[1]*x/W[2] - W[0]/W[2]\n",
    "    pts = np.array([-7,7])\n",
    "    plt.plot(pts, calc_y(pts), \"g\")\n",
    "    \n",
    "def plot_fourth_point_group(X, Y):\n",
    "    for i in range(len(X)):\n",
    "        def choose_color(y):\n",
    "            if y == [0, 0]:\n",
    "                return (1, 0.3, 0.3)\n",
    "            elif y == [0, 1]:\n",
    "                return (0.3, 0.3, 1)\n",
    "            elif y == [1, 0]:\n",
    "                return (1, 0.3, 1)\n",
    "            else:\n",
    "                return (0.3, 0.3, 0.3)\n",
    "        [x, y] = X[i]\n",
    "        plt.plot(x, y, 'ro', color=choose_color(Y[i]))\n",
    "\n",
    "def plot_two_lines(W):\n",
    "    plot_line(np.transpose(W)[0])\n",
    "    plot_line(np.transpose(W)[1])"
   ]
  },
  {
   "cell_type": "markdown",
   "id": "7ae7f29b",
   "metadata": {},
   "source": [
    "## Однослойный персептрон"
   ]
  },
  {
   "cell_type": "markdown",
   "id": "af011602",
   "metadata": {},
   "source": [
    "#### Входные значения"
   ]
  },
  {
   "cell_type": "code",
   "execution_count": 3,
   "id": "a7aee90b",
   "metadata": {},
   "outputs": [],
   "source": [
    "x1 = [[-3.9, -0.1], [4.5, -1.6], [0.8, -2.8], [2.5, -2.5], [0, 1.9], [3.9, 4.5]]\n",
    "y1 = [0, 1, 0, 0, 0, 1]"
   ]
  },
  {
   "cell_type": "code",
   "execution_count": 4,
   "id": "5de3e149",
   "metadata": {
    "scrolled": true
   },
   "outputs": [
    {
     "data": {
      "image/png": "[encoded data removed]",
      "text/plain": [
       "<Figure size 432x288 with 1 Axes>"
      ]
     },
     "metadata": {
      "needs_background": "light"
     },
     "output_type": "display_data"
    }
   ],
   "source": [
    "plot_points(x1,y1)"
   ]
  },
  {
   "cell_type": "markdown",
   "id": "714a3ccb",
   "metadata": {},
   "source": [
    "#### Реализация"
   ]
  },
  {
   "cell_type": "code",
   "execution_count": 5,
   "id": "77496a34",
   "metadata": {},
   "outputs": [],
   "source": [
    "class MyLinearSingle:\n",
    "    def __init__(self):\n",
    "        pass\n",
    "\n",
    "    def forward(self, x):\n",
    "        return np.dot(x, self.w)\n",
    "\n",
    "    def score(self, x, y):\n",
    "        return np.sum(np.equal(x, y)) / len(y)\n",
    "\n",
    "    def active_func(self, x):\n",
    "        return 0 if x < 0 else 1\n",
    "\n",
    "    def train(self, X, Y, epochs=100, step=0.1):\n",
    "        self.X = [[1, *elx] for elx in X]\n",
    "        self.w = np.random.rand(len(self.X[0]))\n",
    "        for epoch in range(epochs):\n",
    "            for elx, ely in zip(self.X, Y):\n",
    "                resy = self.forward(elx)\n",
    "                actr = self.active_func(resy)\n",
    "                diff = ely-actr\n",
    "                if(diff != 0):\n",
    "                    self.w = self.w + np.multiply(elx, (diff*step))\n",
    "        return self\n",
    "                \n",
    "    def score(self, X, Y):\n",
    "        self.X = [[1, *elx] for elx in X]\n",
    "        cnt = 0.0\n",
    "        for elx, ely in zip(self.X, Y):\n",
    "            if(self.active_func(self.forward(elx)) == ely):\n",
    "                cnt = cnt + 1.0\n",
    "        return cnt / len(X)"
   ]
  },
  {
   "cell_type": "markdown",
   "id": "efed323b",
   "metadata": {},
   "source": [
    "#### Результаты"
   ]
  },
  {
   "cell_type": "code",
   "execution_count": 6,
   "id": "bf40ed50",
   "metadata": {
    "scrolled": false
   },
   "outputs": [
    {
     "name": "stdout",
     "output_type": "stream",
     "text": [
      "Score:   1.0\n",
      "Weights: [-0.60273994  0.30204705  0.27259582]\n"
     ]
    },
    {
     "data": {
      "image/png": "[encoded data removed]",
      "text/plain": [
       "<Figure size 432x288 with 1 Axes>"
      ]
     },
     "metadata": {
      "needs_background": "light"
     },
     "output_type": "display_data"
    }
   ],
   "source": [
    "perceptron = MyLinearSingle().train(x1, y1)\n",
    "print(f\"Score:   {perceptron.score(x1, y1)}\")\n",
    "print(f\"Weights: {perceptron.w}\")\n",
    "plot_points(x1,y1)\n",
    "plot_line(perceptron.w)"
   ]
  },
  {
   "cell_type": "markdown",
   "id": "2bc74ad5",
   "metadata": {},
   "source": [
    "#### Тестирование"
   ]
  },
  {
   "cell_type": "code",
   "execution_count": 7,
   "id": "89904990",
   "metadata": {},
   "outputs": [
    {
     "name": "stdout",
     "output_type": "stream",
     "text": [
      "Score:   1.0\n",
      "Weights: [ 0.510794   -0.73238903  1.11112708]\n"
     ]
    },
    {
     "data": {
      "image/png": "[encoded data removed]",
      "text/plain": [
       "<Figure size 432x288 with 1 Axes>"
      ]
     },
     "metadata": {
      "needs_background": "light"
     },
     "output_type": "display_data"
    }
   ],
   "source": [
    "tx1 = [[-5.5, -0.5], [-3, 2.5], [-0.5, -0.5], [0.5, 2.0], [6.0, 4.0],\n",
    "      [-2.1, -6], [-0.1, -1.7], [3.3, -2.2], [6.4, 1.9], [6.5, 0.1]]\n",
    "ty1 = [1, 1, 1, 1, 1, 0, 0, 0, 0, 0, 0]\n",
    "\n",
    "test_perceptron = MyLinearSingle().train(tx1, ty1)\n",
    "print(f\"Score:   {test_perceptron.score(tx1, ty1)}\")\n",
    "print(f\"Weights: {test_perceptron.w}\")\n",
    "\n",
    "plot_points(tx1,ty1)\n",
    "plot_line(test_perceptron.w)"
   ]
  },
  {
   "cell_type": "markdown",
   "id": "ee6867c4",
   "metadata": {},
   "source": [
    "## Двуслойный персептрон\n",
    "\n",
    "#### Входные значения"
   ]
  },
  {
   "cell_type": "code",
   "execution_count": 8,
   "id": "72304a8e",
   "metadata": {},
   "outputs": [],
   "source": [
    "x2 = [[3.9, -4.1], [-4.6, 0.5],\n",
    "      [2.7, -1.9], [-3.3, -1.7],\n",
    "      [-2.9, 0.1], [4,1.2],\n",
    "      [-4, -1.1], [-4.5, 0]]\n",
    "y2 = [[0, 1], [1, 0],\n",
    "      [0, 1], [0, 0],\n",
    "      [1, 0], [1, 1],\n",
    "      [0, 0], [1, 0]]"
   ]
  },
  {
   "cell_type": "code",
   "execution_count": 9,
   "id": "92b00edd",
   "metadata": {
    "scrolled": true
   },
   "outputs": [
    {
     "data": {
      "image/png": "[encoded data removed]",
      "text/plain": [
       "<Figure size 432x288 with 1 Axes>"
      ]
     },
     "metadata": {
      "needs_background": "light"
     },
     "output_type": "display_data"
    }
   ],
   "source": [
    "plot_fourth_point_group(x2, y2)"
   ]
  },
  {
   "cell_type": "markdown",
   "id": "9028b78e",
   "metadata": {},
   "source": [
    "#### Реализация"
   ]
  },
  {
   "cell_type": "code",
   "execution_count": 10,
   "id": "58d67e50",
   "metadata": {},
   "outputs": [],
   "source": [
    "class MyLinear:\n",
    "    def __init__(self):\n",
    "        pass\n",
    "\n",
    "    def forward(self, x):\n",
    "        return self.active_func(np.dot(x, self.w))\n",
    "\n",
    "    def score(self, x, y):\n",
    "        return np.sum(np.equal(x, y)) / len(y)\n",
    "\n",
    "    def active_func(self, Y):\n",
    "        return np.array([0 if y < 0 else 1 for y in Y])\n",
    "\n",
    "    def train(self, X, Y, epochs=100, step=0.01):\n",
    "        self.X = [[1, *elx] for elx in X]\n",
    "        self.w = np.random.rand(len(self.X[0]), len(Y[0])).tolist()\n",
    "        self.wshape = (len(self.X[0]), len(Y[0]))\n",
    "        for epoch in range(epochs):\n",
    "            for elx, ely in zip(self.X, Y):\n",
    "                actr = self.forward(elx)\n",
    "                diff = ely-actr\n",
    "                if(np.count_nonzero(diff) > 0):\n",
    "                    for i in range(self.wshape[0]):\n",
    "                        for j in range(self.wshape[1]):\n",
    "                            self.w[i][j] = self.w[i][j] + step*elx[i]*diff[j]\n",
    "        return self\n",
    "                \n",
    "    def score(self, X, Y):\n",
    "        self.X = [[1, *elx] for elx in X]\n",
    "        cnt = 0.0\n",
    "        for elx, ely in zip(self.X, Y):\n",
    "            if(np.array_equal(self.forward(elx), ely)):\n",
    "                cnt = cnt + 1.0\n",
    "        return cnt / len(X)"
   ]
  },
  {
   "cell_type": "markdown",
   "id": "0450a0c4",
   "metadata": {},
   "source": [
    "#### Результаты"
   ]
  },
  {
   "cell_type": "code",
   "execution_count": 11,
   "id": "01972b11",
   "metadata": {},
   "outputs": [
    {
     "name": "stdout",
     "output_type": "stream",
     "text": [
      "Score:   1.0\n",
      "Weights: [[0.8247619949618625, 0.3949243059481852], [0.005297122940716603, 0.7281947017298694], [0.8118101562948252, 0.7804334036011527]]\n"
     ]
    },
    {
     "data": {
      "image/png": "[encoded data removed]",
      "text/plain": [
       "<Figure size 432x288 with 1 Axes>"
      ]
     },
     "metadata": {
      "needs_background": "light"
     },
     "output_type": "display_data"
    }
   ],
   "source": [
    "second_perceptron = MyLinear().train(x2, y2)\n",
    "print(f\"Score:   {second_perceptron.score(x2, y2)}\")\n",
    "print(f\"Weights: {second_perceptron.w}\")\n",
    "\n",
    "plot_fourth_point_group(x2, y2)\n",
    "plot_two_lines(second_perceptron.w)"
   ]
  },
  {
   "cell_type": "markdown",
   "id": "610e7127",
   "metadata": {},
   "source": [
    "#### Тестирование"
   ]
  },
  {
   "cell_type": "code",
   "execution_count": 12,
   "id": "5d64c79d",
   "metadata": {},
   "outputs": [
    {
     "name": "stdout",
     "output_type": "stream",
     "text": [
      "Score:   0.5\n",
      "Weights: [[0.024717630456415188, 0.5599921132654287], [-0.11147454217466224, -0.2021214264743733], [-0.061726751173939304, 0.20673940532187368]]\n"
     ]
    },
    {
     "data": {
      "image/png": "[encoded data removed]",
      "text/plain": [
       "<Figure size 432x288 with 1 Axes>"
      ]
     },
     "metadata": {
      "needs_background": "light"
     },
     "output_type": "display_data"
    }
   ],
   "source": [
    "tx2 = [[-3.5, 7], [3.5, 7.0],\n",
    "      [-7, 3.5], [-7, -3.5],\n",
    "      [-3.5, -7], [3.5, -7.0],\n",
    "      [7, 3.5], [7, -3.5]]\n",
    "ty2 = [[1, 1], [1, 1],\n",
    "      [0, 1], [0, 1],\n",
    "      [1, 0], [1, 0],\n",
    "      [0, 0], [0, 0]]\n",
    "\n",
    "second_test_perceptron = MyLinear().train(tx2, ty2)\n",
    "print(f\"Score:   {second_test_perceptron.score(tx2, ty2)}\")\n",
    "print(f\"Weights: {second_test_perceptron.w}\")\n",
    "\n",
    "plot_fourth_point_group(tx2, ty2)\n",
    "plot_two_lines(second_test_perceptron.w)"
   ]
  }
 ],
 "metadata": {
  "kernelspec": {
   "display_name": "Python 3",
   "language": "python",
   "name": "python3"
  },
  "language_info": {
   "codemirror_mode": {
    "name": "ipython",
    "version": 3
   },
   "file_extension": ".py",
   "mimetype": "text/x-python",
   "name": "python",
   "nbconvert_exporter": "python",
   "pygments_lexer": "ipython3",
   "version": "3.8.8"
  }
 },
 "nbformat": 4,
 "nbformat_minor": 5
}
